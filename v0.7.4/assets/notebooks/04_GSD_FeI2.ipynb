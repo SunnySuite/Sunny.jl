{
 "cells": [
  {
   "cell_type": "markdown",
   "source": [
    "# 4. Generalized spin dynamics of FeI₂ at finite *T*"
   ],
   "metadata": {}
  },
  {
   "cell_type": "markdown",
   "source": [
    "The previous FeI₂ tutorial used multi-flavor spin wave theory to calculate the dynamical spin\n",
    "structure factor. This tutorial performs an analogous calculation at finite\n",
    "temperature using the [classical dynamics of SU(_N_) coherent\n",
    "states](https://doi.org/10.1103/PhysRevB.106.054423).\n",
    "\n",
    "Compared to spin wave theory, classical spin dynamics in real-space is\n",
    "typically much slower, and is limited in $𝐪$-space resolution. The\n",
    "approach, however, allows for thermal fluctuations, can be used to explore\n",
    "[finite temperature phases](https://doi.org/10.1103/PhysRevB.109.014427), and\n",
    "enables the study of [highly non-equilibrium\n",
    "processes](https://doi.org/10.1103/PhysRevB.106.235154).\n",
    "\n",
    "The structure of this tutorial largely follows the previous study of CoRh₂O₄\n",
    "at finite *T*.\n",
    "The main difference is that CoRh₂O₄ can be well described with `:dipole` mode,\n",
    "whereas FeI₂ is best modeled using `:SUN` mode, owing to its strong easy-axis\n",
    "anisotropy.\n",
    "\n",
    "Construct the FeI₂ system as previously described."
   ],
   "metadata": {}
  },
  {
   "outputs": [],
   "cell_type": "code",
   "source": [
    "using Sunny, GLMakie\n",
    "@assert pkgversion(Sunny) >= v\"0.7.4\"\n",
    "\n",
    "units = Units(:meV, :angstrom)\n",
    "a = b = 4.05012\n",
    "c = 6.75214\n",
    "latvecs = lattice_vectors(a, b, c, 90, 90, 120)\n",
    "cryst = Crystal(latvecs, [[0,0,0]], 164; types=[\"Fe\"])\n",
    "\n",
    "sys = System(cryst, [1 => Moment(s=1, g=2)], :SUN)\n",
    "J1pm   = -0.236\n",
    "J1pmpm = -0.161\n",
    "J1zpm  = -0.261\n",
    "J2pm   = 0.026\n",
    "J3pm   = 0.166\n",
    "J′0pm  = 0.037\n",
    "J′1pm  = 0.013\n",
    "J′2apm = 0.068\n",
    "J1zz   = -0.236\n",
    "J2zz   = 0.113\n",
    "J3zz   = 0.211\n",
    "J′0zz  = -0.036\n",
    "J′1zz  = 0.051\n",
    "J′2azz = 0.073\n",
    "J1xx = J1pm + J1pmpm\n",
    "J1yy = J1pm - J1pmpm\n",
    "J1yz = J1zpm\n",
    "set_exchange!(sys, [J1xx 0.0 0.0; 0.0 J1yy J1yz; 0.0 J1yz J1zz], Bond(1,1,[1,0,0]))\n",
    "set_exchange!(sys, [J2pm 0.0 0.0; 0.0 J2pm 0.0; 0.0 0.0 J2zz], Bond(1,1,[1,2,0]))\n",
    "set_exchange!(sys, [J3pm 0.0 0.0; 0.0 J3pm 0.0; 0.0 0.0 J3zz], Bond(1,1,[2,0,0]))\n",
    "set_exchange!(sys, [J′0pm 0.0 0.0; 0.0 J′0pm 0.0; 0.0 0.0 J′0zz], Bond(1,1,[0,0,1]))\n",
    "set_exchange!(sys, [J′1pm 0.0 0.0; 0.0 J′1pm 0.0; 0.0 0.0 J′1zz], Bond(1,1,[1,0,1]))\n",
    "set_exchange!(sys, [J′2apm 0.0 0.0; 0.0 J′2apm 0.0; 0.0 0.0 J′2azz], Bond(1,1,[1,2,1]))\n",
    "D = 2.165\n",
    "set_onsite_coupling!(sys, S -> -D*S[3]^2, 1)"
   ],
   "metadata": {},
   "execution_count": null
  },
  {
   "cell_type": "markdown",
   "source": [
    "### Thermalization"
   ],
   "metadata": {}
  },
  {
   "cell_type": "markdown",
   "source": [
    "To study thermal fluctuations in real-space, use a large system size with\n",
    "16×16×4 copies of the chemical cell."
   ],
   "metadata": {}
  },
  {
   "outputs": [],
   "cell_type": "code",
   "source": [
    "sys = resize_supercell(sys, (16, 16, 4))"
   ],
   "metadata": {},
   "execution_count": null
  },
  {
   "cell_type": "markdown",
   "source": [
    "Direct optimization via `minimize_energy!` is susceptible to trapping\n",
    "in a local minimum. An alternative approach is to simulate the system using\n",
    "`Langevin` spin dynamics. This requires a bit more set-up, but allows\n",
    "sampling from thermal equilibrium at any target temperature. Select the\n",
    "temperature 2.3 K ≈ 0.2 meV. This temperature is small enough to magnetically\n",
    "order, but large enough so that the dynamics can readily overcome local energy\n",
    "barriers and annihilate defects."
   ],
   "metadata": {}
  },
  {
   "outputs": [],
   "cell_type": "code",
   "source": [
    "langevin = Langevin(; damping=0.2, kT=2.3*units.K)"
   ],
   "metadata": {},
   "execution_count": null
  },
  {
   "cell_type": "markdown",
   "source": [
    "Use `suggest_timestep` to select an integration timestep for the error\n",
    "tolerance `tol=1e-2`. Initializing `sys` to some low-energy configuration\n",
    "usually works well."
   ],
   "metadata": {}
  },
  {
   "outputs": [],
   "cell_type": "code",
   "source": [
    "randomize_spins!(sys)\n",
    "minimize_energy!(sys; maxiters=10)\n",
    "suggest_timestep(sys, langevin; tol=1e-2)\n",
    "langevin.dt = 0.03;"
   ],
   "metadata": {},
   "execution_count": null
  },
  {
   "cell_type": "markdown",
   "source": [
    "Run a Langevin trajectory for 10,000 time-steps and plot the spins. The\n",
    "magnetic order is present, but may be difficult to see."
   ],
   "metadata": {}
  },
  {
   "outputs": [],
   "cell_type": "code",
   "source": [
    "for _ in 1:10_000\n",
    "    step!(sys, langevin)\n",
    "end\n",
    "plot_spins(sys; color=[S[3] for S in sys.dipoles])"
   ],
   "metadata": {},
   "execution_count": null
  },
  {
   "cell_type": "markdown",
   "source": [
    "Verify the expected two-up, two-down spiral magnetic order by calling\n",
    "`print_wrapped_intensities`. A single propagation wavevector $±𝐤$\n",
    "dominates the static intensity in $\\mathcal{S}(𝐪)$, indicating the expected\n",
    "2 up, 2 down magnetic spiral order. A smaller amount of intensity is spread\n",
    "among many other wavevectors due to thermal fluctuations."
   ],
   "metadata": {}
  },
  {
   "outputs": [],
   "cell_type": "code",
   "source": [
    "print_wrapped_intensities(sys)"
   ],
   "metadata": {},
   "execution_count": null
  },
  {
   "cell_type": "markdown",
   "source": [
    "Thermalization has not substantially altered the suggested `dt`."
   ],
   "metadata": {}
  },
  {
   "outputs": [],
   "cell_type": "code",
   "source": [
    "suggest_timestep(sys, langevin; tol=1e-2)"
   ],
   "metadata": {},
   "execution_count": null
  },
  {
   "cell_type": "markdown",
   "source": [
    "### Structure factor in the paramagnetic phase"
   ],
   "metadata": {}
  },
  {
   "cell_type": "markdown",
   "source": [
    "The remainder of this tutorial will focus on the paramagnetic phase.\n",
    "Re-thermalize the system to the temperature of 3.5 K ≈ 0.30 meV."
   ],
   "metadata": {}
  },
  {
   "outputs": [],
   "cell_type": "code",
   "source": [
    "langevin.kT = 3.5 * units.K\n",
    "for _ in 1:10_000\n",
    "    step!(sys, langevin)\n",
    "end"
   ],
   "metadata": {},
   "execution_count": null
  },
  {
   "cell_type": "markdown",
   "source": [
    "The suggested timestep has increased slightly. Following this suggestion will\n",
    "make the simulations a bit faster."
   ],
   "metadata": {}
  },
  {
   "outputs": [],
   "cell_type": "code",
   "source": [
    "suggest_timestep(sys, langevin; tol=1e-2)\n",
    "langevin.dt = 0.040;"
   ],
   "metadata": {},
   "execution_count": null
  },
  {
   "cell_type": "markdown",
   "source": [
    "Collect dynamical spin structure factor data using\n",
    "`SampledCorrelations`. This procedure involves sampling spin\n",
    "configurations from thermal equilibrium and using the [spin dynamics of\n",
    "SU(_N_) coherent states](https://arxiv.org/abs/2204.07563) to estimate\n",
    "dynamical correlations. With proper classical-to-quantum corrections, the\n",
    "associated structure factor intensities $S^{αβ}(q,ω)$ can be compared with\n",
    "finite-temperature inelastic neutron scattering data. Incorporate the\n",
    "`FormFactor` appropriate to Fe²⁺."
   ],
   "metadata": {}
  },
  {
   "outputs": [],
   "cell_type": "code",
   "source": [
    "dt = 2*langevin.dt\n",
    "energies = range(0, 7.5, 120)\n",
    "formfactors = [1 => FormFactor(\"Fe2\"; g_lande=3/2)]\n",
    "sc = SampledCorrelations(sys; dt, energies, measure=ssf_perp(sys; formfactors))"
   ],
   "metadata": {},
   "execution_count": null
  },
  {
   "cell_type": "markdown",
   "source": [
    "The function `add_sample!` will collect data by running a dynamical\n",
    "trajectory starting from the current system configuration."
   ],
   "metadata": {}
  },
  {
   "outputs": [],
   "cell_type": "code",
   "source": [
    "add_sample!(sc, sys)"
   ],
   "metadata": {},
   "execution_count": null
  },
  {
   "cell_type": "markdown",
   "source": [
    "To collect additional data, it is required to re-sample the spin configuration\n",
    "from the thermal distribution. Statistical error is reduced by fully\n",
    "decorrelating the spin configurations between calls to `add_sample!`."
   ],
   "metadata": {}
  },
  {
   "outputs": [],
   "cell_type": "code",
   "source": [
    "for _ in 1:2\n",
    "    for _ in 1:1000               # Enough steps to decorrelate spins\n",
    "        step!(sys, langevin)\n",
    "    end\n",
    "    add_sample!(sc, sys)\n",
    "end"
   ],
   "metadata": {},
   "execution_count": null
  },
  {
   "cell_type": "markdown",
   "source": [
    "Perform an intensity calculation for two special $𝐪$-points in reciprocal\n",
    "lattice units (RLU). A classical-to-quantum rescaling of normal mode\n",
    "occupations will be performed according to the temperature `kT`. The large\n",
    "statistical noise could be reduced by averaging over more thermal samples."
   ],
   "metadata": {}
  },
  {
   "outputs": [],
   "cell_type": "code",
   "source": [
    "res = intensities(sc, [[0, 0, 0], [0.5, 0.5, 0.5]]; energies, langevin.kT)\n",
    "fig = lines(res.energies, res.data[:, 1]; axis=(xlabel=\"meV\", ylabel=\"Intensity\"), label=\"(0,0,0)\")\n",
    "lines!(res.energies, res.data[:, 2]; label=\"(π,π,π)\")\n",
    "axislegend()\n",
    "fig"
   ],
   "metadata": {},
   "execution_count": null
  },
  {
   "cell_type": "markdown",
   "source": [
    "Next, we will measure intensities along a `q_space_path` that connects\n",
    "high symmetry points. Because this is a real-space calculation, data is only\n",
    "available for discrete $𝐪$ modes, with resolution that scales inversely to\n",
    "linear system size. Intensities at $ω = 0$ dominate, so to enhance\n",
    "visibility, we restrict the color range empirically."
   ],
   "metadata": {}
  },
  {
   "outputs": [],
   "cell_type": "code",
   "source": [
    "qs = [[0,   0, 0],  # List of wave vectors that define a path\n",
    "      [1,   0, 0],\n",
    "      [0,   1, 0],\n",
    "      [1/2, 0, 0],\n",
    "      [0,   1, 0],\n",
    "      [0,   0, 0]]\n",
    "qpath = q_space_path(cryst, qs, 500)\n",
    "res = intensities(sc, qpath; energies, langevin.kT)\n",
    "plot_intensities(res; colorrange=(0.0, 1.0), title=\"Intensities at T = 2.3 K\")"
   ],
   "metadata": {},
   "execution_count": null
  },
  {
   "cell_type": "markdown",
   "source": [
    "One can also view the intensity along a `q_space_grid` for a fixed\n",
    "energy value. Alternatively, use `intensities_static` to integrate\n",
    "over all available energies."
   ],
   "metadata": {}
  },
  {
   "outputs": [],
   "cell_type": "code",
   "source": [
    "grid = q_space_grid(cryst, [1, 0, 0], range(-1.5, 1.5, 300), [0, 1, 0], (-1.5, 1.5); orthogonalize=true)\n",
    "res = intensities(sc, grid; energies=[3.5], langevin.kT)\n",
    "plot_intensities(res; title=\"Intensity slice at ω = 3.5 meV\")"
   ],
   "metadata": {},
   "execution_count": null
  }
 ],
 "nbformat_minor": 3,
 "metadata": {
  "language_info": {
   "file_extension": ".jl",
   "mimetype": "application/julia",
   "name": "julia",
   "version": "1.10.7"
  },
  "kernelspec": {
   "name": "julia-1.10",
   "display_name": "Julia 1.10.7",
   "language": "julia"
  }
 },
 "nbformat": 4
}
