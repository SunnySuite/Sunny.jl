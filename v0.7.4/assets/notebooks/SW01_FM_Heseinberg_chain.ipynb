{
 "cells": [
  {
   "cell_type": "markdown",
   "source": [
    "# SW01 - FM Heisenberg chain\n",
    "\n",
    "This is a Sunny port of [SpinW Tutorial\n",
    "1](https://spinw.org/tutorials/01tutorial), originally authored by Goran\n",
    "Nilsen and Sandor Toth. It calculates the spin wave spectrum of the\n",
    "ferromagnetic Heisenberg nearest-neighbor spin chain."
   ],
   "metadata": {}
  },
  {
   "cell_type": "markdown",
   "source": [
    "Load Sunny and the GLMakie plotting package"
   ],
   "metadata": {}
  },
  {
   "outputs": [],
   "cell_type": "code",
   "source": [
    "using Sunny, GLMakie\n",
    "@assert pkgversion(Sunny) >= v\"0.7.4\""
   ],
   "metadata": {},
   "execution_count": null
  },
  {
   "cell_type": "markdown",
   "source": [
    "Define a chemical cell for the spin chain lattice.  It is tetrahedral, with a\n",
    "short dimension of 3 Å and two long dimensions of 8 Å. Observe that Sunny\n",
    "infers the spacegroup 'P 4/m m m' (123)."
   ],
   "metadata": {}
  },
  {
   "outputs": [],
   "cell_type": "code",
   "source": [
    "units = Units(:meV, :angstrom)\n",
    "a = 3.0\n",
    "b = 8.0\n",
    "c = 8.0\n",
    "latvecs = lattice_vectors(a, b, c, 90, 90, 90)\n",
    "positions = [[0, 0, 0]]\n",
    "cryst = Crystal(latvecs, positions)"
   ],
   "metadata": {},
   "execution_count": null
  },
  {
   "cell_type": "markdown",
   "source": [
    "View the crystal in 2D. The nearest neighbor bond along the chain is visible,\n",
    "and labeled `Bond(1, 1, [1, 0, 0])`. The first two atom indices must be 1,\n",
    "because there is only a single atom in the chemical cell. The vector `[1, 0,\n",
    "0]` indicates that the bond includes a displacement of $1 𝐚_1 + 0 𝐚_2 + 0\n",
    "𝐚_3$ between chemical cells."
   ],
   "metadata": {}
  },
  {
   "outputs": [],
   "cell_type": "code",
   "source": [
    "view_crystal(cryst; ndims=2, ghost_radius=8)"
   ],
   "metadata": {},
   "execution_count": null
  },
  {
   "cell_type": "markdown",
   "source": [
    "Sunny will always perform symmetry analysis based on the provided\n",
    "crystallographic information. For example, one can see that there are three\n",
    "different symmetry-equivalent classes of bonds up to a distance of 8 Å, and\n",
    "the symmetry-allowed exchange matrices are strongly constrained."
   ],
   "metadata": {}
  },
  {
   "outputs": [],
   "cell_type": "code",
   "source": [
    "print_symmetry_table(cryst, 8)"
   ],
   "metadata": {},
   "execution_count": null
  },
  {
   "cell_type": "markdown",
   "source": [
    "Use the chemical cell to create a spin `System` with spin $s = 1$\n",
    "and a magnetic form factor for Cu¹⁺. In this case, it is only necessary to\n",
    "simulate a single chemical cell. The option `:dipole` indicates that,\n",
    "following traditional spin wave theory, we are modeling quantum spins using\n",
    "only their expected dipole moments."
   ],
   "metadata": {}
  },
  {
   "outputs": [],
   "cell_type": "code",
   "source": [
    "sys = System(cryst, [1 => Moment(s=1, g=2)], :dipole)"
   ],
   "metadata": {},
   "execution_count": null
  },
  {
   "cell_type": "markdown",
   "source": [
    "Set a nearest neighbor exchange interaction of $J = -1$ meV between\n",
    "neighboring atoms. That is, the total energy along each bond is $J S_i\n",
    "S_{i+1}$. The exchange interaction will be propagated to all symmetry\n",
    "equivalent bonds in the system."
   ],
   "metadata": {}
  },
  {
   "outputs": [],
   "cell_type": "code",
   "source": [
    "J = -1\n",
    "set_exchange!(sys, J, Bond(1, 1, [1, 0, 0]))"
   ],
   "metadata": {},
   "execution_count": null
  },
  {
   "cell_type": "markdown",
   "source": [
    "Find the energy minimum, which is ferromagnetic. The energy per site is $-J$\n",
    "for this unfrustrated FM order."
   ],
   "metadata": {}
  },
  {
   "outputs": [],
   "cell_type": "code",
   "source": [
    "randomize_spins!(sys)\n",
    "minimize_energy!(sys)\n",
    "energy_per_site(sys)"
   ],
   "metadata": {},
   "execution_count": null
  },
  {
   "cell_type": "markdown",
   "source": [
    "Because the interaction is Heisenberg (isotropic), the minimization procedure\n",
    "selects an arbitrary direction in spin-space."
   ],
   "metadata": {}
  },
  {
   "outputs": [],
   "cell_type": "code",
   "source": [
    "plot_spins(sys; ndims=2, ghost_radius=8)"
   ],
   "metadata": {},
   "execution_count": null
  },
  {
   "cell_type": "markdown",
   "source": [
    "Build a `SpinWaveTheory` object to measure the dynamical spin-spin\n",
    "structure factor (SSF). Select `ssf_perp` to project intensities onto\n",
    "the space perpendicular to the momentum transfer $𝐪$, which is appropriate\n",
    "for an unpolarized neutron beam."
   ],
   "metadata": {}
  },
  {
   "outputs": [],
   "cell_type": "code",
   "source": [
    "swt = SpinWaveTheory(sys; measure=ssf_perp(sys))"
   ],
   "metadata": {},
   "execution_count": null
  },
  {
   "cell_type": "markdown",
   "source": [
    "Define a path from $[0,0,0]$ to $[1,0,0]$ in reciprocal lattice units\n",
    "(RLU) containing 400 sampled $𝐪$-points."
   ],
   "metadata": {}
  },
  {
   "outputs": [],
   "cell_type": "code",
   "source": [
    "qs = [[0,0,0], [1,0,0]]\n",
    "path = q_space_path(cryst, qs, 400)"
   ],
   "metadata": {},
   "execution_count": null
  },
  {
   "cell_type": "markdown",
   "source": [
    "Calculate and plot the intensities along this path."
   ],
   "metadata": {}
  },
  {
   "outputs": [],
   "cell_type": "code",
   "source": [
    "res = intensities_bands(swt, path)\n",
    "plot_intensities(res; units)"
   ],
   "metadata": {},
   "execution_count": null
  },
  {
   "cell_type": "markdown",
   "source": [
    "Perform a powder average over the intensities for 200 radii between 0 and 2.5\n",
    "inverse Å. Each radial distance defines a spherical shell in recripocal space,\n",
    "which will be sampled approximately uniformly, involving 1000 sample points.\n",
    "Measure intensities for 200 energy values between 0 and 5 meV. Gaussian\n",
    "line-broadening is applied with a full-width at half-maximum (FWHM) of 0.1\n",
    "meV. With the above parameters, this calculation takes about a second on a\n",
    "modern laptop. To decrease stochastic error, one can increase the number of\n",
    "sample points on each spherical shell."
   ],
   "metadata": {}
  },
  {
   "outputs": [],
   "cell_type": "code",
   "source": [
    "radii = range(0, 2.5, 200) # 1/Å\n",
    "energies = range(0, 5, 200) # meV\n",
    "kernel = gaussian(fwhm=0.1)\n",
    "res = powder_average(cryst, radii, 1000) do qs\n",
    "    intensities(swt, qs; energies, kernel)\n",
    "end\n",
    "plot_intensities(res; units)"
   ],
   "metadata": {},
   "execution_count": null
  }
 ],
 "nbformat_minor": 3,
 "metadata": {
  "language_info": {
   "file_extension": ".jl",
   "mimetype": "application/julia",
   "name": "julia",
   "version": "1.10.7"
  },
  "kernelspec": {
   "name": "julia-1.10",
   "display_name": "Julia 1.10.7",
   "language": "julia"
  }
 },
 "nbformat": 4
}
