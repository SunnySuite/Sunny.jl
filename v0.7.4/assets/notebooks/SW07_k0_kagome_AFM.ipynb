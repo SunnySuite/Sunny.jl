{
 "cells": [
  {
   "cell_type": "markdown",
   "source": [
    "# SW07 - k=0 kagome antiferromagnet\n",
    "\n",
    "This is a Sunny port of [SpinW Tutorial\n",
    "7](https://spinw.org/tutorials/07tutorial), originally authored by Bjorn Fak\n",
    "and Sandor Toth. It calculates the spin wave spectrum of the kagome lattice\n",
    "with antiferromagnetic interactions, with ordering wavevector of $𝐤 = 0$,\n",
    "and relative rotation 120° between sublattices"
   ],
   "metadata": {}
  },
  {
   "cell_type": "markdown",
   "source": [
    "Load Sunny and the GLMakie plotting package"
   ],
   "metadata": {}
  },
  {
   "outputs": [],
   "cell_type": "code",
   "source": [
    "using Sunny, GLMakie\n",
    "@assert pkgversion(Sunny) >= v\"0.7.4\""
   ],
   "metadata": {},
   "execution_count": null
  },
  {
   "cell_type": "markdown",
   "source": [
    "Define the chemical cell of a kagome lattice with spacegroup 147 (P-3)."
   ],
   "metadata": {}
  },
  {
   "outputs": [],
   "cell_type": "code",
   "source": [
    "units = Units(:meV, :angstrom)\n",
    "latvecs = lattice_vectors(6, 6, 8, 90, 90, 120)\n",
    "cryst = Crystal(latvecs, [[1/2, 0, 0]], 147)\n",
    "view_crystal(cryst; ndims=2)"
   ],
   "metadata": {},
   "execution_count": null
  },
  {
   "cell_type": "markdown",
   "source": [
    "Construct a spin system with nearest and next-nearest neighbor\n",
    "antiferromagnetic interactions. Energy minimization determines a $𝐤 = 0$\n",
    "magnetic order with 120° rotation between the three sublattices. The overall\n",
    "global rotation in spin-space is arbitrary."
   ],
   "metadata": {}
  },
  {
   "outputs": [],
   "cell_type": "code",
   "source": [
    "sys = System(cryst, [1 => Moment(s=1, g=2)], :dipole)\n",
    "J1 = 1.0\n",
    "J2 = 0.11\n",
    "set_exchange!(sys, J1, Bond(2, 3, [0, 0, 0]))\n",
    "set_exchange!(sys, J2, Bond(2, 1, [0, 0, 0]))\n",
    "randomize_spins!(sys)\n",
    "minimize_energy!(sys)\n",
    "plot_spins(sys; ndims=2)"
   ],
   "metadata": {},
   "execution_count": null
  },
  {
   "cell_type": "markdown",
   "source": [
    "Calculate and plot intensities for a path through $𝐪$-space."
   ],
   "metadata": {}
  },
  {
   "outputs": [],
   "cell_type": "code",
   "source": [
    "swt = SpinWaveTheory(sys; measure=ssf_perp(sys))\n",
    "qs = [[-1/2,0,0], [0,0,0], [1/2,1/2,0]]\n",
    "path = q_space_path(cryst, qs, 400)\n",
    "res = intensities_bands(swt, path)\n",
    "plot_intensities(res; units)"
   ],
   "metadata": {},
   "execution_count": null
  },
  {
   "cell_type": "markdown",
   "source": [
    "Calculate and plot the powder averaged spectrum"
   ],
   "metadata": {}
  },
  {
   "outputs": [],
   "cell_type": "code",
   "source": [
    "radii = range(0, 2.5, 200)\n",
    "energies = range(0, 2.5, 200)\n",
    "kernel = gaussian(fwhm=0.02)\n",
    "res = powder_average(cryst, radii, 1000) do qs\n",
    "    intensities(swt, qs; energies, kernel)\n",
    "end\n",
    "plot_intensities(res; units)"
   ],
   "metadata": {},
   "execution_count": null
  }
 ],
 "nbformat_minor": 3,
 "metadata": {
  "language_info": {
   "file_extension": ".jl",
   "mimetype": "application/julia",
   "name": "julia",
   "version": "1.10.7"
  },
  "kernelspec": {
   "name": "julia-1.10",
   "display_name": "Julia 1.10.7",
   "language": "julia"
  }
 },
 "nbformat": 4
}
