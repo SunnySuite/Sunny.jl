{
 "cells": [
  {
   "cell_type": "markdown",
   "source": [
    "# SW03 - Frustrated J1-J2 chain\n",
    "\n",
    "This is a Sunny port of [SpinW Tutorial\n",
    "3](https://spinw.org/tutorials/03tutorial), originally authored by Bjorn Fak\n",
    "and Sandor Toth. It calculates the spin wave spectrum of the frustrated J1-J2\n",
    "chain."
   ],
   "metadata": {}
  },
  {
   "cell_type": "markdown",
   "source": [
    "Load Sunny and the GLMakie plotting package"
   ],
   "metadata": {}
  },
  {
   "outputs": [],
   "cell_type": "code",
   "source": [
    "using Sunny, GLMakie\n",
    "@assert pkgversion(Sunny) >= v\"0.7.4\""
   ],
   "metadata": {},
   "execution_count": null
  },
  {
   "cell_type": "markdown",
   "source": [
    "Define the chemical cell for a 1D chain following the [SW01 tutorial](@ref\n",
    "\"SW01 - FM Heisenberg chain\")."
   ],
   "metadata": {}
  },
  {
   "outputs": [],
   "cell_type": "code",
   "source": [
    "units = Units(:meV, :angstrom)\n",
    "latvecs = lattice_vectors(3, 8, 8, 90, 90, 90)\n",
    "cryst = Crystal(latvecs, [[0, 0, 0]])\n",
    "view_crystal(cryst; ndims=2, ghost_radius=8)"
   ],
   "metadata": {},
   "execution_count": null
  },
  {
   "cell_type": "markdown",
   "source": [
    "Construct a spin system with competing nearest-neighbor (FM) and\n",
    "next-nearest-neighbor (AFM) interactions."
   ],
   "metadata": {}
  },
  {
   "outputs": [],
   "cell_type": "code",
   "source": [
    "sys = System(cryst, [1 => Moment(s=1, g=2)], :dipole)\n",
    "J1 = -1\n",
    "J2 = +2 * abs(J1)\n",
    "set_exchange!(sys, J1, Bond(1, 1, [1, 0, 0]))\n",
    "set_exchange!(sys, J2, Bond(1, 1, [2, 0, 0]))"
   ],
   "metadata": {},
   "execution_count": null
  },
  {
   "cell_type": "markdown",
   "source": [
    "Assuming a spiral order, optimize the propagation wavevector $𝐤$ starting\n",
    "from a random initial guess. Because all interactions are isotropic in spin\n",
    "space, the polarization `axis` is arbitrary."
   ],
   "metadata": {}
  },
  {
   "outputs": [],
   "cell_type": "code",
   "source": [
    "axis = [0, 0, 1]\n",
    "randomize_spins!(sys)\n",
    "k = minimize_spiral_energy!(sys, axis; k_guess=randn(3))"
   ],
   "metadata": {},
   "execution_count": null
  },
  {
   "cell_type": "markdown",
   "source": [
    "The first component of the order wavevector $𝐤$ has a unique value up to\n",
    "reflection symmetry, $𝐤 → -𝐤$. The second and third components of $𝐤$\n",
    "are arbitrary for this 1D chain system. In all cases, the minimized energy has\n",
    "a precise value of -33/16 in units of $|J₁|$."
   ],
   "metadata": {}
  },
  {
   "outputs": [],
   "cell_type": "code",
   "source": [
    "@assert k[1] ≈ 0.2300534561 || k[1] ≈ 1 - 0.2300534561\n",
    "@assert spiral_energy_per_site(sys; k, axis) ≈ -33/16 * abs(J1)"
   ],
   "metadata": {},
   "execution_count": null
  },
  {
   "cell_type": "markdown",
   "source": [
    "To view part of the incommensurate spiral spin structure, one can construct an\n",
    "enlarged system with `repeat_periodically_as_spiral`."
   ],
   "metadata": {}
  },
  {
   "outputs": [],
   "cell_type": "code",
   "source": [
    "sys_enlarged = repeat_periodically_as_spiral(sys, (8, 1, 1); k, axis)\n",
    "plot_spins(sys_enlarged; ndims=2)"
   ],
   "metadata": {},
   "execution_count": null
  },
  {
   "cell_type": "markdown",
   "source": [
    "Use `SpinWaveTheorySpiral` on the original `sys` to calculate the\n",
    "dispersion and intensities for the incommensurate ordering wavevector."
   ],
   "metadata": {}
  },
  {
   "outputs": [],
   "cell_type": "code",
   "source": [
    "swt = SpinWaveTheorySpiral(sys; measure=ssf_perp(sys), k, axis)\n",
    "qs = [[0,0,0], [1,0,0]]\n",
    "path = q_space_path(cryst, qs, 401)\n",
    "res = intensities_bands(swt, path)\n",
    "plot_intensities(res; units)"
   ],
   "metadata": {},
   "execution_count": null
  }
 ],
 "nbformat_minor": 3,
 "metadata": {
  "language_info": {
   "file_extension": ".jl",
   "mimetype": "application/julia",
   "name": "julia",
   "version": "1.10.7"
  },
  "kernelspec": {
   "name": "julia-1.10",
   "display_name": "Julia 1.10.7",
   "language": "julia"
  }
 },
 "nbformat": 4
}
