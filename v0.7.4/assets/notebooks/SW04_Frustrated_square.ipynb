{
 "cells": [
  {
   "cell_type": "markdown",
   "source": [
    "# SW04 - Frustrated square lattice\n",
    "\n",
    "This is a Sunny port of [SpinW Tutorial\n",
    "4](https://spinw.org/tutorials/04tutorial), originally authored by Bjorn Fak\n",
    "and Sandor Toth. It calculates the spin wave spectrum of the frustrated square\n",
    "lattice."
   ],
   "metadata": {}
  },
  {
   "cell_type": "markdown",
   "source": [
    "Load Sunny and the GLMakie plotting package"
   ],
   "metadata": {}
  },
  {
   "outputs": [],
   "cell_type": "code",
   "source": [
    "using Sunny, GLMakie\n",
    "@assert pkgversion(Sunny) >= v\"0.7.4\""
   ],
   "metadata": {},
   "execution_count": null
  },
  {
   "cell_type": "markdown",
   "source": [
    "To model the 2D square lattice, create an elongated tetragonal cell with one\n",
    "atom."
   ],
   "metadata": {}
  },
  {
   "outputs": [],
   "cell_type": "code",
   "source": [
    "units = Units(:meV, :angstrom)\n",
    "latvecs = lattice_vectors(3.0, 3.0, 6.0, 90, 90, 90)\n",
    "cryst = Crystal(latvecs, [[0, 0, 0]])\n",
    "view_crystal(cryst; ndims=2)"
   ],
   "metadata": {},
   "execution_count": null
  },
  {
   "cell_type": "markdown",
   "source": [
    "Construct a spin system with competing nearest-neighbor (AFM) and\n",
    "next-nearest-neighbor (FM) interactions. The Néel magnetic order requires a\n",
    "supercell of 2×2 chemical cells."
   ],
   "metadata": {}
  },
  {
   "outputs": [],
   "cell_type": "code",
   "source": [
    "sys = System(cryst, [1 => Moment(s=1, g=2)], :dipole; dims=(2, 2, 1))\n",
    "J1 = 1.0\n",
    "J2 = -0.1\n",
    "set_exchange!(sys, J1, Bond(1, 1, [1, 0, 0]))\n",
    "set_exchange!(sys, J2, Bond(1, 1, [1, 1, 0]))\n",
    "randomize_spins!(sys)\n",
    "minimize_energy!(sys)\n",
    "plot_spins(sys)"
   ],
   "metadata": {},
   "execution_count": null
  },
  {
   "cell_type": "markdown",
   "source": [
    "Calculate and plot intensities for a path through $𝐪$-space."
   ],
   "metadata": {}
  },
  {
   "outputs": [],
   "cell_type": "code",
   "source": [
    "swt = SpinWaveTheory(sys; measure=ssf_perp(sys))\n",
    "qs = [[0, 0, 0], [1/2, 0, 0], [1/2, 1/2, 0], [0, 0, 0]]\n",
    "path = q_space_path(cryst, qs, 400)\n",
    "res = intensities_bands(swt, path)\n",
    "plot_intensities(res; units)"
   ],
   "metadata": {},
   "execution_count": null
  }
 ],
 "nbformat_minor": 3,
 "metadata": {
  "language_info": {
   "file_extension": ".jl",
   "mimetype": "application/julia",
   "name": "julia",
   "version": "1.10.7"
  },
  "kernelspec": {
   "name": "julia-1.10",
   "display_name": "Julia 1.10.7",
   "language": "julia"
  }
 },
 "nbformat": 4
}
