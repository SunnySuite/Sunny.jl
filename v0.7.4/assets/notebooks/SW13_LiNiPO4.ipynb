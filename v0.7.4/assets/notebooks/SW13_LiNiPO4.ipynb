{
 "cells": [
  {
   "cell_type": "markdown",
   "source": [
    "# SW13 - LiNiPO₄\n",
    "\n",
    "This is a Sunny port of [SpinW Tutorial\n",
    "13](https://spinw.org/tutorials/13tutorial), originally authored by Sandor\n",
    "Toth. It calculates the spin wave spectrum of LiNiPO₄."
   ],
   "metadata": {}
  },
  {
   "cell_type": "markdown",
   "source": [
    "Load packages"
   ],
   "metadata": {}
  },
  {
   "outputs": [],
   "cell_type": "code",
   "source": [
    "using Sunny, GLMakie\n",
    "@assert pkgversion(Sunny) >= v\"0.7.4\""
   ],
   "metadata": {},
   "execution_count": null
  },
  {
   "cell_type": "markdown",
   "source": [
    "Build an orthorhombic lattice and populate the Ni atoms according to Wyckoff\n",
    "4c of spacegroup 62."
   ],
   "metadata": {}
  },
  {
   "outputs": [],
   "cell_type": "code",
   "source": [
    "units = Units(:meV, :angstrom)\n",
    "a = 10.02\n",
    "b = 5.86\n",
    "c = 4.68\n",
    "latvecs = lattice_vectors(a, b, c, 90, 90, 90)\n",
    "positions = [[1/4, 1/4, 0]]\n",
    "types = [\"Ni\"]\n",
    "cryst = Crystal(latvecs, positions, 62; types)\n",
    "view_crystal(cryst)"
   ],
   "metadata": {},
   "execution_count": null
  },
  {
   "cell_type": "markdown",
   "source": [
    "Create a system with exchange parameters taken from [T. Jensen, et al., Phys.\n",
    "Rev. B **79**, 092413 (2009)](https://doi.org/10.1103/PhysRevB.79.092413). The\n",
    "corrected anisotropy values are taken from the thesis of T. Jensen. The mode\n",
    "`:dipole_uncorrected` avoids a [classical-to-quantum rescaling factor](@ref\n",
    "\"Interaction Renormalization\") of anisotropy strengths, as needed for\n",
    "consistency with the original fits."
   ],
   "metadata": {}
  },
  {
   "outputs": [],
   "cell_type": "code",
   "source": [
    "sys = System(cryst, [1 => Moment(s=1, g=2)], :dipole_uncorrected)\n",
    "Jbc =  1.036\n",
    "Jb  =  0.6701\n",
    "Jc  = -0.0469\n",
    "Jac = -0.1121\n",
    "Jab =  0.2977\n",
    "Da  =  0.1969\n",
    "Db  =  0.9097\n",
    "set_exchange!(sys, Jbc, Bond(2, 3, [0, 0, 0]))\n",
    "set_exchange!(sys, Jc, Bond(1, 1, [0, 0, -1]))\n",
    "set_exchange!(sys, Jb, Bond(1, 1, [0, 1, 0]))\n",
    "set_exchange!(sys, Jab, Bond(1, 2, [0, 0, 0]))\n",
    "set_exchange!(sys, Jab, Bond(3, 4, [0, 0, 0]))\n",
    "set_exchange!(sys, Jac, Bond(3, 1, [0, 0, 0]))\n",
    "set_exchange!(sys, Jac, Bond(4, 2, [0, 0, 0]))\n",
    "set_onsite_coupling!(sys, S -> Da*S[1]^2 + Db*S[2]^2, 1)"
   ],
   "metadata": {},
   "execution_count": null
  },
  {
   "cell_type": "markdown",
   "source": [
    "Energy minimization yields a co-linear order along the $c$ axis."
   ],
   "metadata": {}
  },
  {
   "outputs": [],
   "cell_type": "code",
   "source": [
    "randomize_spins!(sys)\n",
    "minimize_energy!(sys)\n",
    "plot_spins(sys; color=[S[3] for S in sys.dipoles])"
   ],
   "metadata": {},
   "execution_count": null
  },
  {
   "cell_type": "markdown",
   "source": [
    "Calculate the spectrum along path [ξ, 1, 0]"
   ],
   "metadata": {}
  },
  {
   "outputs": [],
   "cell_type": "code",
   "source": [
    "swt = SpinWaveTheory(sys; measure=ssf_perp(sys))\n",
    "qs = [[0, 1, 0], [2, 1, 0]]\n",
    "path = q_space_path(cryst, qs, 400)\n",
    "res = intensities_bands(swt, path)\n",
    "fig = Figure(size=(768, 300))\n",
    "plot_intensities!(fig[1, 1], res; units);"
   ],
   "metadata": {},
   "execution_count": null
  },
  {
   "cell_type": "markdown",
   "source": [
    "There are two physical bands with nonvanishing intensity. To extract these\n",
    "intensity curves, we must filter out the additional bands with zero intensity.\n",
    "One way is to sort the data along dimension 1 (the band index) with the\n",
    "comparison operator \"is intensity less than $10^{-12}$\". Doing so moves the\n",
    "physical bands to the end of the array axis. Call the [Makie `lines!`\n",
    "function](https://docs.makie.org/stable/reference/plots/lines) to make a\n",
    "custom plot."
   ],
   "metadata": {}
  },
  {
   "outputs": [],
   "cell_type": "code",
   "source": [
    "data_sorted = sort(res.data; dims=1, by= >(1e-12))\n",
    "ax = Axis(fig[1, 2], xlabel=\"Momentum (r.l.u.)\", ylabel=\"Intensity\",\n",
    "          xticks=res.qpts.xticks, xticklabelrotation=π/6)\n",
    "lines!(ax, data_sorted[end, :]; label=\"Lower band\")\n",
    "lines!(ax, data_sorted[end-1, :]; label=\"Upper band\")\n",
    "axislegend(ax)\n",
    "fig"
   ],
   "metadata": {},
   "execution_count": null
  },
  {
   "cell_type": "markdown",
   "source": [
    "Make the same plots along path [0, 1, ξ]"
   ],
   "metadata": {}
  },
  {
   "outputs": [],
   "cell_type": "code",
   "source": [
    "qs =  [[0, 1, 0], [0, 1, 2]]\n",
    "path = q_space_path(cryst, qs, 400)\n",
    "res = intensities_bands(swt, path)\n",
    "fig = Figure(size=(768, 300))\n",
    "plot_intensities!(fig[1, 1], res; units)\n",
    "\n",
    "data_sorted = sort(res.data; dims=1, by=x->abs(x)>1e-12)\n",
    "ax = Axis(fig[1, 2], xlabel=\"Momentum (r.l.u.)\", ylabel=\"Intensity\",\n",
    "          xticks=res.qpts.xticks, xticklabelrotation=π/6)\n",
    "lines!(ax, data_sorted[end, :]; label=\"Lower band\")\n",
    "lines!(ax, data_sorted[end-1, :]; label=\"Upper band\")\n",
    "axislegend(ax)\n",
    "fig"
   ],
   "metadata": {},
   "execution_count": null
  }
 ],
 "nbformat_minor": 3,
 "metadata": {
  "language_info": {
   "file_extension": ".jl",
   "mimetype": "application/julia",
   "name": "julia",
   "version": "1.10.7"
  },
  "kernelspec": {
   "name": "julia-1.10",
   "display_name": "Julia 1.10.7",
   "language": "julia"
  }
 },
 "nbformat": 4
}
