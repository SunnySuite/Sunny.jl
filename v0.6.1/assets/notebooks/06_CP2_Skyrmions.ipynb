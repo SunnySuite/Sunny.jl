{
 "cells": [
  {
   "cell_type": "markdown",
   "source": [
    "# 6. Dynamical quench into CP² skyrmion liquid\n",
    "\n",
    "This example demonstrates Sunny's ability to simulate the out-of-equilibrium\n",
    "dynamics of generalized spin systems. We will implement the model Hamiltonian\n",
    "of [Zhang et al., Nature Communications **14**, 3626\n",
    "(2023)](https://www.nature.com/articles/s41467-023-39232-8), which supports a\n",
    "novel type of topological defect, a CP² skyrmion, that involves both the\n",
    "dipolar and quadrupolar parts of a quantum spin.\n",
    "\n",
    "Beginning from an initial high-temperature state, a disordered gas of CP²\n",
    "skyrmions can be formed by rapidly quenching to low temperature. To model the\n",
    "coupled dynamics of dipoles and quadrupoles, Sunny uses a recently developed\n",
    "generalization of the Landau-Lifshitz spin dynamics, [Dahlbom et al., Phys.\n",
    "Rev. B **106**, 235154 (2022)](https://doi.org/10.1103/PhysRevB.106.235154)."
   ],
   "metadata": {}
  },
  {
   "outputs": [],
   "cell_type": "code",
   "source": [
    "using Sunny, GLMakie"
   ],
   "metadata": {},
   "execution_count": null
  },
  {
   "cell_type": "markdown",
   "source": [
    "The Hamiltonian we will implement,\n",
    "$$\n",
    "\\mathcal{H} = \\sum_{\\langle i,j \\rangle} J_{ij}( \\hat{S}_i^x \\hat{S}_j^x + \\hat{S}_i^y \\hat{S}_j^y + \\Delta\\hat{S}_i^z \\hat{S}_j^z) - h\\sum_{i}\\hat{S}_i^z + D\\sum_{i}(\\hat{S}_i^z)^2\n",
    "$$\n",
    "contains competing ferromagnetic nearest-neightbor and antiferromagnetic\n",
    "next-nearest-neighbor exchange terms on a triangular lattice. Both exchanges\n",
    "exhibit anisotropy on the z-term. Additionally, there is an external magnetic\n",
    "field, $h$, and easy-plane single-ion anisotropy, $D > 0$. We begin by\n",
    "implementing the `Crystal`."
   ],
   "metadata": {}
  },
  {
   "outputs": [],
   "cell_type": "code",
   "source": [
    "lat_vecs = lattice_vectors(1, 1, 10, 90, 90, 120)\n",
    "basis_vecs = [[0,0,0]]\n",
    "cryst = Crystal(lat_vecs, basis_vecs)"
   ],
   "metadata": {},
   "execution_count": null
  },
  {
   "cell_type": "markdown",
   "source": [
    "Create a spin `System` containing $L×L$ cells. Selecting\n",
    "`Units.theory` with $g=-1$ provides a dimensionless Zeeman\n",
    "coupling of the form $-𝐁⋅𝐬$."
   ],
   "metadata": {}
  },
  {
   "outputs": [],
   "cell_type": "code",
   "source": [
    "L = 40\n",
    "dims = (L, L, 1)\n",
    "sys = System(cryst, dims, [SpinInfo(1, S=1, g=-1)], :SUN; seed=101)"
   ],
   "metadata": {},
   "execution_count": null
  },
  {
   "cell_type": "markdown",
   "source": [
    "We proceed to implement each term of the Hamiltonian, selecting our parameters\n",
    "so that the system occupies a region of the phase diagram that supports\n",
    "skyrmions. The exchange interactions are set as follows."
   ],
   "metadata": {}
  },
  {
   "outputs": [],
   "cell_type": "code",
   "source": [
    "J1 = -1           # Nearest-neighbor ferromagnetic\n",
    "J2 = (2.0/(1+√5)) # Tune competing exchange to set skyrmion scale length\n",
    "Δ = 2.6           # Exchange anisotropy\n",
    "\n",
    "ex1 = J1 * [1 0 0;\n",
    "            0 1 0;\n",
    "            0 0 Δ]\n",
    "ex2 = J2 * [1 0 0;\n",
    "            0 1 0;\n",
    "            0 0 Δ]\n",
    "set_exchange!(sys, ex1, Bond(1, 1, [1, 0, 0]))\n",
    "set_exchange!(sys, ex2, Bond(1, 1, [1, 2, 0]))"
   ],
   "metadata": {},
   "execution_count": null
  },
  {
   "cell_type": "markdown",
   "source": [
    "Next we add the external field,"
   ],
   "metadata": {}
  },
  {
   "outputs": [],
   "cell_type": "code",
   "source": [
    "h = 15.5\n",
    "field = set_field!(sys, [0, 0, h])"
   ],
   "metadata": {},
   "execution_count": null
  },
  {
   "cell_type": "markdown",
   "source": [
    "and finally an easy-plane single-ion anisotropy,"
   ],
   "metadata": {}
  },
  {
   "outputs": [],
   "cell_type": "code",
   "source": [
    "D = 19.0\n",
    "set_onsite_coupling!(sys, S -> D*S[3]^2, 1)"
   ],
   "metadata": {},
   "execution_count": null
  },
  {
   "cell_type": "markdown",
   "source": [
    "Initialize system to an infinite temperature (fully randomized) initial\n",
    "condition."
   ],
   "metadata": {}
  },
  {
   "cell_type": "markdown",
   "source": [
    "We will study a temperature quench process using a generalized\n",
    "`Langevin` spin dynamics. In this SU(3) treatment of quantum spin-1,\n",
    "the dynamics include coupled dipoles and quadrupoles. Select a relatively\n",
    "small damping magnitude to overcome local minima, and disable thermal\n",
    "fluctuations."
   ],
   "metadata": {}
  },
  {
   "outputs": [],
   "cell_type": "code",
   "source": [
    "damping = 0.05\n",
    "kT = 0"
   ],
   "metadata": {},
   "execution_count": null
  },
  {
   "cell_type": "markdown",
   "source": [
    "The first step is to determine a reasonable integration timestep. To determine\n",
    "this, we can initialize the system to some relatively low-energy\n",
    "configuration. A relatively large error tolerance of 0.025 is OK for this\n",
    "phenomenological study."
   ],
   "metadata": {}
  },
  {
   "outputs": [],
   "cell_type": "code",
   "source": [
    "randomize_spins!(sys)\n",
    "minimize_energy!(sys) # (this optimization does not need to converge)\n",
    "integrator = Langevin(; damping, kT)\n",
    "suggest_timestep(sys, integrator; tol=0.025)"
   ],
   "metadata": {},
   "execution_count": null
  },
  {
   "cell_type": "markdown",
   "source": [
    "Apply the suggested timestep."
   ],
   "metadata": {}
  },
  {
   "outputs": [],
   "cell_type": "code",
   "source": [
    "integrator.dt = 0.01"
   ],
   "metadata": {},
   "execution_count": null
  },
  {
   "cell_type": "markdown",
   "source": [
    "Now run the dynamical quench starting from a randomized configuration. We will\n",
    "record the state of the system at three different times during the quenching\n",
    "process by copying the `coherents` field of the `System`."
   ],
   "metadata": {}
  },
  {
   "outputs": [],
   "cell_type": "code",
   "source": [
    "randomize_spins!(sys)\n",
    "τs = [4, 16, 256]   # Times to record snapshots\n",
    "frames = []         # Empty array to store snapshots\n",
    "for i in eachindex(τs)\n",
    "    dur = i == 1 ? τs[1] : τs[i] - τs[i-1] # Determine the length of time to simulate\n",
    "    numsteps = round(Int, dur/integrator.dt)\n",
    "    for _ in 1:numsteps                    # Perform the integration\n",
    "        step!(sys, integrator)\n",
    "    end\n",
    "    push!(frames, copy(sys.coherents))     # Save a snapshot spin configuration\n",
    "end"
   ],
   "metadata": {},
   "execution_count": null
  },
  {
   "cell_type": "markdown",
   "source": [
    "To visualize the state of the system contained in each snapshot, we will\n",
    "calculate and plot the skyrmion density on each plaquette of our lattice. The\n",
    "function `plot_triangular_plaquettes` is not part of the core Sunny package,\n",
    "but rather something you could define yourself. We are using the definition in\n",
    "`plotting2d.jl` from the Sunny [`examples/extra`\n",
    "directory](https://github.com/SunnySuite/Sunny.jl/tree/main/examples/extra/Plotting)."
   ],
   "metadata": {}
  },
  {
   "outputs": [],
   "cell_type": "code",
   "source": [
    "include(pkgdir(Sunny, \"examples\", \"extra\", \"Plotting\", \"plotting2d.jl\"))\n",
    "\n",
    "function sun_berry_curvature(z₁, z₂, z₃)\n",
    "    z₁, z₂, z₃ = normalize.((z₁, z₂, z₃))\n",
    "    n₁ = z₁ ⋅ z₂\n",
    "    n₂ = z₂ ⋅ z₃\n",
    "    n₃ = z₃ ⋅ z₁\n",
    "    return angle(n₁ * n₂ * n₃)\n",
    "end\n",
    "\n",
    "plot_triangular_plaquettes(sun_berry_curvature, frames; size=(600,200),\n",
    "    offset_spacing=10, texts=[\"\\tt = \"*string(τ) for τ in τs], text_offset=(0, 6)\n",
    ")"
   ],
   "metadata": {},
   "execution_count": null
  },
  {
   "cell_type": "markdown",
   "source": [
    "The times are given in $\\hbar/|J_1|$. The white background corresponds to a\n",
    "quantum paramagnetic state, where the local spin exhibits a strong quadrupole\n",
    "moment and little or no dipole moment. At late times, there are well-formed\n",
    "skyrmions of positive (red) and negative (blue) charge, and various metastable\n",
    "spin configurations. A full-sized version of this figure is available in\n",
    "[Dahlbom et al.](https://doi.org/10.1103/PhysRevB.106.235154)."
   ],
   "metadata": {}
  }
 ],
 "nbformat_minor": 3,
 "metadata": {
  "language_info": {
   "file_extension": ".jl",
   "mimetype": "application/julia",
   "name": "julia",
   "version": "1.9.4"
  },
  "kernelspec": {
   "name": "julia-1.9",
   "display_name": "Julia 1.9.4",
   "language": "julia"
  }
 },
 "nbformat": 4
}
