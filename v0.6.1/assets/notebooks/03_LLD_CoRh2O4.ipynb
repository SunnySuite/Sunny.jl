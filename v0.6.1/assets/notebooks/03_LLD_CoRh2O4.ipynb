{
 "cells": [
  {
   "cell_type": "markdown",
   "source": [
    "# 3. Landau-Lifshitz dynamics of CoRh₂O₄ at finite *T*"
   ],
   "metadata": {}
  },
  {
   "outputs": [],
   "cell_type": "code",
   "source": [
    "using Sunny, GLMakie, Statistics"
   ],
   "metadata": {},
   "execution_count": null
  },
  {
   "cell_type": "markdown",
   "source": [
    "### System construction"
   ],
   "metadata": {}
  },
  {
   "cell_type": "markdown",
   "source": [
    "Construct the system as in the previous CoRh₂O₄ tutorial. After optimization, the system will be in an\n",
    "unfrustrated antiferromagnetic ground state."
   ],
   "metadata": {}
  },
  {
   "outputs": [],
   "cell_type": "code",
   "source": [
    "a = 8.5031 # (Å)\n",
    "latvecs = lattice_vectors(a, a, a, 90, 90, 90)\n",
    "cryst = Crystal(latvecs, [[0,0,0]], 227, setting=\"1\")\n",
    "\n",
    "units = Units(:meV)\n",
    "latsize = (2, 2, 2)\n",
    "S = 3/2\n",
    "J = 0.63 # (meV)\n",
    "sys = System(cryst, latsize, [SpinInfo(1; S, g=2)], :dipole; seed=0)\n",
    "set_exchange!(sys, J, Bond(1, 3, [0,0,0]))\n",
    "randomize_spins!(sys)\n",
    "minimize_energy!(sys)"
   ],
   "metadata": {},
   "execution_count": null
  },
  {
   "cell_type": "markdown",
   "source": [
    "Use `resize_supercell` to build a new system with a lattice of\n",
    "10×10×10 unit cells. The desired Néel order is retained."
   ],
   "metadata": {}
  },
  {
   "outputs": [],
   "cell_type": "code",
   "source": [
    "sys = resize_supercell(sys, (10, 10, 10))\n",
    "@assert energy_per_site(sys) ≈ -2J*S^2"
   ],
   "metadata": {},
   "execution_count": null
  },
  {
   "cell_type": "markdown",
   "source": [
    "We will be using a `Langevin` spin dynamics to thermalize the system.\n",
    "This dynamics involves a dimensionless `damping` magnitude and target\n",
    "temperature `kT` for thermal fluctuations."
   ],
   "metadata": {}
  },
  {
   "outputs": [],
   "cell_type": "code",
   "source": [
    "kT = 16 * units.K  # 16 K ≈ 1.38 meV, slightly below ordering temperature\n",
    "langevin = Langevin(; damping=0.2, kT)"
   ],
   "metadata": {},
   "execution_count": null
  },
  {
   "cell_type": "markdown",
   "source": [
    "Use `suggest_timestep` to select an integration timestep for the given\n",
    "error tolerance, e.g. `tol=1e-2`. The spin configuration in `sys` should\n",
    "ideally be relaxed into thermal equilibrium, but the current, energy-minimized\n",
    "configuration will also work reasonably well."
   ],
   "metadata": {}
  },
  {
   "outputs": [],
   "cell_type": "code",
   "source": [
    "suggest_timestep(sys, langevin; tol=1e-2)\n",
    "langevin.dt = 0.025;"
   ],
   "metadata": {},
   "execution_count": null
  },
  {
   "cell_type": "markdown",
   "source": [
    "Now run a dynamical trajectory to sample spin configurations. Keep track of\n",
    "the energy per site at each time step."
   ],
   "metadata": {}
  },
  {
   "outputs": [],
   "cell_type": "code",
   "source": [
    "energies = [energy_per_site(sys)]\n",
    "for _ in 1:1000\n",
    "    step!(sys, langevin)\n",
    "    push!(energies, energy_per_site(sys))\n",
    "end"
   ],
   "metadata": {},
   "execution_count": null
  },
  {
   "cell_type": "markdown",
   "source": [
    "Now that the spin configuration has relaxed, we can learn that `dt` was a\n",
    "little smaller than necessary; increasing it will make the remaining\n",
    "simulations faster."
   ],
   "metadata": {}
  },
  {
   "outputs": [],
   "cell_type": "code",
   "source": [
    "suggest_timestep(sys, langevin; tol=1e-2)\n",
    "langevin.dt = 0.042;"
   ],
   "metadata": {},
   "execution_count": null
  },
  {
   "cell_type": "markdown",
   "source": [
    "The energy per site has converged, which suggests that the system has reached\n",
    "thermal equilibrium."
   ],
   "metadata": {}
  },
  {
   "outputs": [],
   "cell_type": "code",
   "source": [
    "plot(energies, color=:blue, figure=(size=(600,300),), axis=(xlabel=\"Timesteps\", ylabel=\"Energy (meV)\"))"
   ],
   "metadata": {},
   "execution_count": null
  },
  {
   "cell_type": "markdown",
   "source": [
    "Thermal fluctuations are apparent in the spin configuration."
   ],
   "metadata": {}
  },
  {
   "outputs": [],
   "cell_type": "code",
   "source": [
    "S_ref = sys.dipoles[1,1,1,1]\n",
    "plot_spins(sys; color=[s'*S_ref for s in sys.dipoles])"
   ],
   "metadata": {},
   "execution_count": null
  },
  {
   "cell_type": "markdown",
   "source": [
    "### Instantaneous structure factor"
   ],
   "metadata": {}
  },
  {
   "cell_type": "markdown",
   "source": [
    "To visualize the instantaneous (equal-time) structure factor, create an object\n",
    "`instant_correlations`. Use `add_sample!` to accumulate data\n",
    "for each equilibrated spin configuration."
   ],
   "metadata": {}
  },
  {
   "outputs": [],
   "cell_type": "code",
   "source": [
    "sc = instant_correlations(sys)\n",
    "add_sample!(sc, sys)    # Accumulate the newly sampled structure factor into `sf`"
   ],
   "metadata": {},
   "execution_count": null
  },
  {
   "cell_type": "markdown",
   "source": [
    "Collect 20 additional decorrelated samples. For each sample, about 100\n",
    "Langevin time-steps is sufficient to collect approximately uncorrelated\n",
    "statistics."
   ],
   "metadata": {}
  },
  {
   "outputs": [],
   "cell_type": "code",
   "source": [
    "for _ in 1:20\n",
    "    for _ in 1:100\n",
    "        step!(sys, langevin)\n",
    "    end\n",
    "    add_sample!(sc, sys)\n",
    "end"
   ],
   "metadata": {},
   "execution_count": null
  },
  {
   "cell_type": "markdown",
   "source": [
    "Define a slice of momentum space. Wavevectors are specified in reciprocal\n",
    "lattice units (RLU). The notation `q1s in -10:0.1:10` indicates that the first\n",
    "$q$-component ranges from -10 to 10 in intervals of 0.1. That is, $q$\n",
    "spans over 20 Brillouin zones. To convert to absolute momentum units, each\n",
    "component of $q$ would need to be scaled by a reciprocal lattice vector."
   ],
   "metadata": {}
  },
  {
   "outputs": [],
   "cell_type": "code",
   "source": [
    "q1s = -10:0.1:10\n",
    "q2s = -10:0.1:10\n",
    "qs = [[q1, q2, 0.0] for q1 in q1s, q2 in q2s];"
   ],
   "metadata": {},
   "execution_count": null
  },
  {
   "cell_type": "markdown",
   "source": [
    "Plot the instantaneous structure factor for the given $q$-slice. We employ\n",
    "the appropriate `FormFactor` for Co2⁺. An `intensity_formula`\n",
    "defines how dynamical correlations correspond to the observable structure\n",
    "factor. The function `instant_intensities_interpolated` calculates\n",
    "intensities at the target `qs` by interpolating over the data available at\n",
    "discrete reciprocal-space lattice points."
   ],
   "metadata": {}
  },
  {
   "outputs": [],
   "cell_type": "code",
   "source": [
    "formfactors = [FormFactor(\"Co2\")]\n",
    "instant_formula = intensity_formula(sc, :perp; formfactors)\n",
    "iq = instant_intensities_interpolated(sc, qs, instant_formula);"
   ],
   "metadata": {},
   "execution_count": null
  },
  {
   "cell_type": "markdown",
   "source": [
    "Plot the resulting intensity data $I(𝐪)$. The color scale is clipped to 50%\n",
    "of the maximum intensity."
   ],
   "metadata": {}
  },
  {
   "outputs": [],
   "cell_type": "code",
   "source": [
    "heatmap(q1s, q2s, iq;\n",
    "    colorrange = (0, maximum(iq)/2),\n",
    "    axis = (\n",
    "        xlabel=\"Momentum Transfer Qx (r.l.u)\", xlabelsize=16,\n",
    "        ylabel=\"Momentum Transfer Qy (r.l.u)\", ylabelsize=16,\n",
    "        aspect=true,\n",
    "    )\n",
    ")"
   ],
   "metadata": {},
   "execution_count": null
  },
  {
   "cell_type": "markdown",
   "source": [
    "### Dynamical structure factor"
   ],
   "metadata": {}
  },
  {
   "cell_type": "markdown",
   "source": [
    "To collect statistics for the dynamical structure factor intensities\n",
    "$I(𝐪,ω)$ at finite temperature, use `dynamical_correlations`. The\n",
    "integration timestep `dt` used for measuring dynamical correlations can be\n",
    "somewhat larger than that used by the Langevin dynamics. We must also specify\n",
    "`nω` and `ωmax`, which determine the frequencies over which intensity data\n",
    "will be collected."
   ],
   "metadata": {}
  },
  {
   "outputs": [],
   "cell_type": "code",
   "source": [
    "dt = 2*langevin.dt\n",
    "ωmax = 6.0  # Maximum energy to resolve (meV)\n",
    "nω = 50     # Number of energies to resolve\n",
    "sc = dynamical_correlations(sys; dt, nω, ωmax)"
   ],
   "metadata": {},
   "execution_count": null
  },
  {
   "cell_type": "markdown",
   "source": [
    "Use Langevin dynamics to sample spin configurations from thermal equilibrium.\n",
    "For each sample, use `add_sample!` to run a classical spin dynamics\n",
    "trajectory and measure dynamical correlations. Here we average over just 5\n",
    "samples, but this number could be increased for better statistics."
   ],
   "metadata": {}
  },
  {
   "outputs": [],
   "cell_type": "code",
   "source": [
    "for _ in 1:5\n",
    "    for _ in 1:100\n",
    "        step!(sys, langevin)\n",
    "    end\n",
    "    add_sample!(sc, sys)\n",
    "end"
   ],
   "metadata": {},
   "execution_count": null
  },
  {
   "cell_type": "markdown",
   "source": [
    "Select points that define a piecewise-linear path through reciprocal space,\n",
    "and a sampling density."
   ],
   "metadata": {}
  },
  {
   "outputs": [],
   "cell_type": "code",
   "source": [
    "points = [[3/4, 3/4,   0],\n",
    "          [  0,   0,   0],\n",
    "          [  0, 1/2, 1/2],\n",
    "          [1/2,   1,   0],\n",
    "          [  0,   1,   0],\n",
    "          [1/4,   1, 1/4],\n",
    "          [  0,   1,   0],\n",
    "          [  0,  -4,   0]]\n",
    "density = 50 # (Å)\n",
    "path, xticks = reciprocal_space_path(cryst, points, density);"
   ],
   "metadata": {},
   "execution_count": null
  },
  {
   "cell_type": "markdown",
   "source": [
    "Calculate $I(𝐪, ω)$ intensities along this path with Lorentzian broadening\n",
    "on the scale of 0.1 meV."
   ],
   "metadata": {}
  },
  {
   "outputs": [],
   "cell_type": "code",
   "source": [
    "formula = intensity_formula(sc, :perp; formfactors, kT=langevin.kT)\n",
    "fwhm = 0.2\n",
    "iqw = intensities_interpolated(sc, path, formula)\n",
    "iqwc = broaden_energy(sc, iqw, (ω, ω₀) -> lorentzian(; fwhm)(ω-ω₀));"
   ],
   "metadata": {},
   "execution_count": null
  },
  {
   "cell_type": "markdown",
   "source": [
    "Plot the intensity data on a clipped color scale"
   ],
   "metadata": {}
  },
  {
   "outputs": [],
   "cell_type": "code",
   "source": [
    "ωs = available_energies(sc)\n",
    "heatmap(1:size(iqwc, 1), ωs, iqwc;\n",
    "    colorrange = (0, maximum(iqwc)/50),\n",
    "    axis = (;\n",
    "        xlabel=\"Momentum Transfer (r.l.u)\",\n",
    "        ylabel=\"Energy Transfer (meV)\",\n",
    "        xticks,\n",
    "        xticklabelrotation=π/5,\n",
    "        aspect = 1.4,\n",
    "    )\n",
    ")"
   ],
   "metadata": {},
   "execution_count": null
  },
  {
   "cell_type": "markdown",
   "source": [
    "### Powder averaged intensity"
   ],
   "metadata": {}
  },
  {
   "cell_type": "markdown",
   "source": [
    "Define spherical shells in reciprocal space via their radii, in absolute units\n",
    "of 1/Å. For each shell, calculate and average the intensities at 100\n",
    "$𝐪$-points, sampled approximately uniformly."
   ],
   "metadata": {}
  },
  {
   "outputs": [],
   "cell_type": "code",
   "source": [
    "radii = 0:0.05:3.5 # (1/Å)\n",
    "output = zeros(Float64, length(radii), length(ωs))\n",
    "for (i, radius) in enumerate(radii)\n",
    "    pts = reciprocal_space_shell(sc.crystal, radius, 100)\n",
    "    is = intensities_interpolated(sc, pts, formula)\n",
    "    is = broaden_energy(sc, is, (ω,ω₀) -> lorentzian(; fwhm)(ω-ω₀))\n",
    "    output[i, :] = mean(is , dims=1)[1,:]\n",
    "end"
   ],
   "metadata": {},
   "execution_count": null
  },
  {
   "cell_type": "markdown",
   "source": [
    "Plot resulting powder-averaged structure factor"
   ],
   "metadata": {}
  },
  {
   "outputs": [],
   "cell_type": "code",
   "source": [
    "heatmap(radii, ωs, output;\n",
    "    axis = (\n",
    "        xlabel=\"|Q| (Å⁻¹)\",\n",
    "        ylabel=\"Energy Transfer (meV)\",\n",
    "        aspect = 1.4,\n",
    "    ),\n",
    "    colorrange = (0, 20.0)\n",
    ")"
   ],
   "metadata": {},
   "execution_count": null
  }
 ],
 "nbformat_minor": 3,
 "metadata": {
  "language_info": {
   "file_extension": ".jl",
   "mimetype": "application/julia",
   "name": "julia",
   "version": "1.9.4"
  },
  "kernelspec": {
   "name": "julia-1.9",
   "display_name": "Julia 1.9.4",
   "language": "julia"
  }
 },
 "nbformat": 4
}
