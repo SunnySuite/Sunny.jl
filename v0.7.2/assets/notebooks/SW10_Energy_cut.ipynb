{
 "cells": [
  {
   "cell_type": "markdown",
   "source": [
    "# SW10 - Energy cut on square lattice\n",
    "\n",
    "This is a Sunny port of [SpinW Tutorial\n",
    "10](https://spinw.org/tutorials/10tutorial), originally authored by Sandor\n",
    "Toth. It calculates the spin wave spectrum on a constant energy cut of the\n",
    "frustrated square lattice."
   ],
   "metadata": {}
  },
  {
   "cell_type": "markdown",
   "source": [
    "Load Sunny and the GLMakie plotting package"
   ],
   "metadata": {}
  },
  {
   "outputs": [],
   "cell_type": "code",
   "source": [
    "using Sunny, GLMakie"
   ],
   "metadata": {},
   "execution_count": null
  },
  {
   "cell_type": "markdown",
   "source": [
    "Define the chemical cell for the 2D square lattice."
   ],
   "metadata": {}
  },
  {
   "outputs": [],
   "cell_type": "code",
   "source": [
    "units = Units(:meV, :angstrom)\n",
    "latvecs = lattice_vectors(1.0, 1.0, 3.0, 90, 90, 90)\n",
    "cryst = Crystal(latvecs, [[0, 0, 0]])"
   ],
   "metadata": {},
   "execution_count": null
  },
  {
   "cell_type": "markdown",
   "source": [
    "Construct a spin system with nearest-neighbor antiferomagnetic interactions of\n",
    "1.0 meV. Energy minimization yields the expected Néel order on the 2×2\n",
    "magnetic cell."
   ],
   "metadata": {}
  },
  {
   "outputs": [],
   "cell_type": "code",
   "source": [
    "sys = System(cryst, [1 => Moment(s=1, g=2)], :dipole; dims=(2, 2, 1))\n",
    "set_exchange!(sys, 1.0, Bond(1, 1, [1, 0, 0]))\n",
    "randomize_spins!(sys)\n",
    "minimize_energy!(sys)\n",
    "plot_spins(sys; ndims=2)"
   ],
   "metadata": {},
   "execution_count": null
  },
  {
   "cell_type": "markdown",
   "source": [
    "Define a 2D slice through $𝐪$-space with `q_space_grid`."
   ],
   "metadata": {}
  },
  {
   "outputs": [],
   "cell_type": "code",
   "source": [
    "grid = q_space_grid(cryst, [1, 0, 0], range(0, 2, 201), [0, 1, 0], range(0, 2, 201))"
   ],
   "metadata": {},
   "execution_count": null
  },
  {
   "cell_type": "markdown",
   "source": [
    "Calculate and plot a constant energy cut at the precise value of 3.75 meV.\n",
    "Apply a line broadening with a full-width half-max of 0.2 meV to approximately\n",
    "capture intensities between 3.5 and 4.0 meV."
   ],
   "metadata": {}
  },
  {
   "outputs": [],
   "cell_type": "code",
   "source": [
    "swt = SpinWaveTheory(sys; measure=ssf_perp(sys))\n",
    "res = intensities(swt, grid; energies=[3.75], kernel=gaussian(fwhm=0.2))\n",
    "plot_intensities(res; units)"
   ],
   "metadata": {},
   "execution_count": null
  },
  {
   "cell_type": "markdown",
   "source": [
    "Integrate intensities between 3.5 and 4 meV using `intensities_static`\n",
    "with the `bounds` option."
   ],
   "metadata": {}
  },
  {
   "outputs": [],
   "cell_type": "code",
   "source": [
    "res = intensities_static(swt, grid; bounds=(3.5, 4.01))\n",
    "plot_intensities(res; units)"
   ],
   "metadata": {},
   "execution_count": null
  }
 ],
 "nbformat_minor": 3,
 "metadata": {
  "language_info": {
   "file_extension": ".jl",
   "mimetype": "application/julia",
   "name": "julia",
   "version": "1.10.5"
  },
  "kernelspec": {
   "name": "julia-1.10",
   "display_name": "Julia 1.10.5",
   "language": "julia"
  }
 },
 "nbformat": 4
}
