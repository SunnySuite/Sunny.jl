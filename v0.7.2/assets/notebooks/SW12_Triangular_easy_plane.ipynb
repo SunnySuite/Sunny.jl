{
 "cells": [
  {
   "cell_type": "markdown",
   "source": [
    "# SW12 - Triangular lattice with easy plane\n",
    "\n",
    "This is a Sunny port of [SpinW Tutorial\n",
    "12](https://spinw.org/tutorials/12tutorial), originally authored by Sandor\n",
    "Toth. It calculates the spin wave dispersion of a triangular lattice model\n",
    "with antiferromagnetic interactions and easy-plane single-ion anisotropy."
   ],
   "metadata": {}
  },
  {
   "cell_type": "markdown",
   "source": [
    "Load packages"
   ],
   "metadata": {}
  },
  {
   "outputs": [],
   "cell_type": "code",
   "source": [
    "using Sunny, GLMakie"
   ],
   "metadata": {},
   "execution_count": null
  },
  {
   "cell_type": "markdown",
   "source": [
    "Build a triangular lattice with arbitrary lattice constant of 3 Å."
   ],
   "metadata": {}
  },
  {
   "outputs": [],
   "cell_type": "code",
   "source": [
    "latvecs = lattice_vectors(3, 3, 4, 90, 90, 120)\n",
    "cryst = Crystal(latvecs, [[0, 0, 0]])"
   ],
   "metadata": {},
   "execution_count": null
  },
  {
   "cell_type": "markdown",
   "source": [
    "Build a system with exchange +1 meV along nearest neighbor bonds. Set the\n",
    "lattice size in anticipation of a magnetic ordering with 3×3 cells."
   ],
   "metadata": {}
  },
  {
   "outputs": [],
   "cell_type": "code",
   "source": [
    "s = 3/2\n",
    "J1 = +1.0\n",
    "sys = System(cryst, [1 => Moment(; s, g=2)], :dipole; dims=(3, 3, 1))\n",
    "set_exchange!(sys, J1, Bond(1, 1, [1, 0, 0]))"
   ],
   "metadata": {},
   "execution_count": null
  },
  {
   "cell_type": "markdown",
   "source": [
    "Set an easy-axis anisotropy operator $+D S_z^2$ using\n",
    "`set_onsite_coupling!`. **Important note**: When introducing a\n",
    "single-ion anisotropy in `:dipole` mode, Sunny will automatically include a\n",
    "classical-to-quantum correction factor, as described in the document\n",
    "Interaction Renormalization. For an anisotropy operator that is\n",
    "quadratic in the spin operators, Sunny will automatically renormalize the\n",
    "interaction strength as $D → (1 - 1/2s) D$. We must \"undo\" Sunny's\n",
    "classical-to-quantum rescaling factor to reproduce the SpinW calculation.\n",
    "Alternatively, renormalization can be disabled by selecting the system mode\n",
    "`:dipole_large_s` instead of `:dipole`."
   ],
   "metadata": {}
  },
  {
   "outputs": [],
   "cell_type": "code",
   "source": [
    "undo_classical_to_quantum_rescaling = 1 / (1 - 1/2s)\n",
    "D = 0.2 * undo_classical_to_quantum_rescaling\n",
    "set_onsite_coupling!(sys, S -> D*S[3]^2, 1)\n",
    "randomize_spins!(sys)\n",
    "minimize_energy!(sys)\n",
    "plot_spins(sys; ndims=2)"
   ],
   "metadata": {},
   "execution_count": null
  },
  {
   "cell_type": "markdown",
   "source": [
    "Plot the spin wave spectrum for a path through $𝐪$-space."
   ],
   "metadata": {}
  },
  {
   "outputs": [],
   "cell_type": "code",
   "source": [
    "qs = [[0, 0, 0], [1, 1, 0]]\n",
    "path = q_space_path(cryst, qs, 400)\n",
    "swt = SpinWaveTheory(sys; measure=ssf_perp(sys))\n",
    "res = intensities_bands(swt, path)\n",
    "plot_intensities(res)"
   ],
   "metadata": {},
   "execution_count": null
  },
  {
   "cell_type": "markdown",
   "source": [
    "To select a specific linear combination of spin structure factor (SSF)\n",
    "components in global Cartesian coordinates, one can use `ssf_custom`.\n",
    "Here we calculate and plot the real part of $\\mathcal{S}^{zz}(𝐪, ω)$."
   ],
   "metadata": {}
  },
  {
   "outputs": [],
   "cell_type": "code",
   "source": [
    "measure = ssf_custom(sys) do q, ssf\n",
    "    return real(ssf[3, 3])\n",
    "end\n",
    "swt = SpinWaveTheory(sys; measure)\n",
    "res = intensities_bands(swt, path)\n",
    "plot_intensities(res)"
   ],
   "metadata": {},
   "execution_count": null
  },
  {
   "cell_type": "markdown",
   "source": [
    "It's also possible to get data for the full 3×3 SSF. For example, this is the\n",
    "SSF for the 7th energy band, at the 10th $𝐪$-point along the path."
   ],
   "metadata": {}
  },
  {
   "outputs": [],
   "cell_type": "code",
   "source": [
    "measure = ssf_custom((q, ssf) -> ssf, sys)\n",
    "swt = SpinWaveTheory(sys; measure)\n",
    "res = intensities_bands(swt, path)\n",
    "res.data[7, 10]"
   ],
   "metadata": {},
   "execution_count": null
  }
 ],
 "nbformat_minor": 3,
 "metadata": {
  "language_info": {
   "file_extension": ".jl",
   "mimetype": "application/julia",
   "name": "julia",
   "version": "1.10.5"
  },
  "kernelspec": {
   "name": "julia-1.10",
   "display_name": "Julia 1.10.5",
   "language": "julia"
  }
 },
 "nbformat": 4
}
