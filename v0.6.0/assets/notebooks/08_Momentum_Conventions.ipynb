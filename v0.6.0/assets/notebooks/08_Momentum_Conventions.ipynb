{
 "cells": [
  {
   "cell_type": "markdown",
   "source": [
    "# 8. Momentum transfer conventions\n",
    "\n",
    "This example illustrates Sunny's conventions for dynamical structure factor\n",
    "intensities, $\\mathcal{S}(𝐪,ω)$, as documented in the page Structure\n",
    "Factor Calculations. In the neutron scattering context, the variables\n",
    "$𝐪$ and $ω$ describe momentum and energy transfer _to_ the sample.\n",
    "\n",
    "For systems without inversion-symmetry, the structure factor intensities at\n",
    "$± 𝐪$ may be inequivalent. To highlight this inequivalence, we will\n",
    "construct a 1D chain with Dzyaloshinskii–Moriya interactions between nearest\n",
    "neighbor bonds, and apply a magnetic field."
   ],
   "metadata": {}
  },
  {
   "outputs": [],
   "cell_type": "code",
   "source": [
    "using Sunny, GLMakie"
   ],
   "metadata": {},
   "execution_count": null
  },
  {
   "cell_type": "markdown",
   "source": [
    "Selecting the P1 spacegroup will effectively disable all symmetry analysis.\n",
    "This can be a convenient way to avoid symmetry-imposed constraints on the\n",
    "couplings. A disadvantage is that all bonds are treated as inequivalent, and\n",
    "Sunny will therefore not be able to propagate any couplings between bonds."
   ],
   "metadata": {}
  },
  {
   "outputs": [],
   "cell_type": "code",
   "source": [
    "latvecs = lattice_vectors(2, 2, 1, 90, 90, 90)\n",
    "cryst = Crystal(latvecs, [[0,0,0]], \"P1\")"
   ],
   "metadata": {},
   "execution_count": null
  },
  {
   "cell_type": "markdown",
   "source": [
    "Construct a 1D chain system that extends along $𝐚₃$. The Hamiltonian\n",
    "includes DM and Zeeman coupling terms, $ℋ = ∑_j D ẑ ⋅ (𝐒_j × 𝐒_{j+1}) -\n",
    "∑_j 𝐁 ⋅ 𝐌_j$, where $𝐌_j = - μ_B g 𝐒_j$ is the\n",
    "`magnetic_moment` and $𝐁 ∝ ẑ$."
   ],
   "metadata": {}
  },
  {
   "outputs": [],
   "cell_type": "code",
   "source": [
    "sys = System(cryst, (1, 1, 25), [SpinInfo(1; S=1, g=2)], :dipole; seed=0)\n",
    "D = 0.1 # meV\n",
    "B = 10D / (sys.units.μB*2) # ~ 8.64T\n",
    "set_exchange!(sys, dmvec([0, 0, D]), Bond(1, 1, [0, 0, 1]))\n",
    "set_external_field!(sys, [0, 0, B])"
   ],
   "metadata": {},
   "execution_count": null
  },
  {
   "cell_type": "markdown",
   "source": [
    "The large external field fully polarizes the system. Here, the DM coupling\n",
    "contributes nothing, leaving only Zeeman coupling."
   ],
   "metadata": {}
  },
  {
   "outputs": [],
   "cell_type": "code",
   "source": [
    "randomize_spins!(sys)\n",
    "minimize_energy!(sys)\n",
    "@assert energy_per_site(sys) ≈ -10D"
   ],
   "metadata": {},
   "execution_count": null
  },
  {
   "cell_type": "markdown",
   "source": [
    "Sample from the classical Boltzmann distribution at a low temperature."
   ],
   "metadata": {}
  },
  {
   "outputs": [],
   "cell_type": "code",
   "source": [
    "dt = 0.1\n",
    "kT = 0.02\n",
    "damping = 0.1\n",
    "langevin = Langevin(dt; kT, damping)\n",
    "suggest_timestep(sys, langevin; tol=1e-2)\n",
    "for _ in 1:10_000\n",
    "    step!(sys, langevin)\n",
    "end"
   ],
   "metadata": {},
   "execution_count": null
  },
  {
   "cell_type": "markdown",
   "source": [
    "The Zeeman coupling polarizes the magnetic moments in the $𝐁 ∝ ẑ$\n",
    "direction. The spin dipoles, however, are anti-aligned with the magnetic\n",
    "moments, and therefore point towards $-ẑ$. This is shown below."
   ],
   "metadata": {}
  },
  {
   "outputs": [],
   "cell_type": "code",
   "source": [
    "plot_spins(sys)"
   ],
   "metadata": {},
   "execution_count": null
  },
  {
   "cell_type": "markdown",
   "source": [
    "Estimate the dynamical structure factor using classical dynamics."
   ],
   "metadata": {}
  },
  {
   "outputs": [],
   "cell_type": "code",
   "source": [
    "sc = dynamical_correlations(sys; dt, nω=100, ωmax=15D)\n",
    "add_sample!(sc, sys)\n",
    "nsamples = 100\n",
    "for _ in 1:nsamples\n",
    "    for _ in 1:1_000\n",
    "        step!(sys, langevin)\n",
    "    end\n",
    "    add_sample!(sc, sys)\n",
    "end\n",
    "density = 100\n",
    "path, xticks = reciprocal_space_path(cryst, [[0,0,-1/2], [0,0,+1/2]], density)\n",
    "data = intensities_interpolated(sc, path, intensity_formula(sc, :trace; kT));"
   ],
   "metadata": {},
   "execution_count": null
  },
  {
   "cell_type": "markdown",
   "source": [
    "Calculate the same quantity with linear spin wave theory at $T = 0$. Because\n",
    "the ground state is fully polarized, the required magnetic cell is a $1×1×1$\n",
    "grid of chemical unit cells."
   ],
   "metadata": {}
  },
  {
   "outputs": [],
   "cell_type": "code",
   "source": [
    "sys_small = resize_supercell(sys, (1,1,1))\n",
    "minimize_energy!(sys_small)\n",
    "swt = SpinWaveTheory(sys_small)\n",
    "formula = intensity_formula(swt, :trace; kernel=delta_function_kernel)\n",
    "disp_swt, intens_swt = intensities_bands(swt, path, formula);"
   ],
   "metadata": {},
   "execution_count": null
  },
  {
   "cell_type": "markdown",
   "source": [
    "This model system has a single magnon band with dispersion $ϵ(𝐪) = 1 - 0.2\n",
    "\\sin(2πq₃)$ and uniform intensity. Both calculation methods reproduce this\n",
    "analytical solution. Observe that $𝐪$ and $-𝐪$ are inequivalent. The\n",
    "structure factor calculated from classical dynamics additionally shows an\n",
    "elastic peak at $𝐪 = [0,0,0]$, reflecting the ferromagnetic ground state."
   ],
   "metadata": {}
  },
  {
   "outputs": [],
   "cell_type": "code",
   "source": [
    "fig = Figure()\n",
    "ax = Axis(fig[1,1]; aspect=1.4, ylabel=\"ω (meV)\", xlabel=\"𝐪 (r.l.u.)\",\n",
    "          xticks, xticklabelrotation=π/10)\n",
    "heatmap!(ax, 1:size(data, 1), available_energies(sc), data;  colorrange=(0.0, 50.0))\n",
    "lines!(ax, disp_swt[:,1]; color=:magenta, linewidth=2)\n",
    "fig"
   ],
   "metadata": {},
   "execution_count": null
  }
 ],
 "nbformat_minor": 3,
 "metadata": {
  "language_info": {
   "file_extension": ".jl",
   "mimetype": "application/julia",
   "name": "julia",
   "version": "1.9.4"
  },
  "kernelspec": {
   "name": "julia-1.9",
   "display_name": "Julia 1.9.4",
   "language": "julia"
  }
 },
 "nbformat": 4
}
