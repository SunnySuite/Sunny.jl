{
 "cells": [
  {
   "cell_type": "markdown",
   "source": [
    "# SW19 - Different magnetic ions\n",
    "\n",
    "This is a Sunny port of [SpinW Tutorial\n",
    "19](https://spinw.org/tutorials/19tutorial), originally authored by Bjorn Fak\n",
    "and Sandor Toth. This tutorial illustrates how to eliminate magnetic\n",
    "contributions from a subset of ions via the special value `zero(FormFactor)`."
   ],
   "metadata": {}
  },
  {
   "outputs": [],
   "cell_type": "code",
   "source": [
    "using Sunny, GLMakie"
   ],
   "metadata": {},
   "execution_count": null
  },
  {
   "cell_type": "markdown",
   "source": [
    "Build a crystal with Cu²⁺ and Fe²⁺ ions."
   ],
   "metadata": {}
  },
  {
   "outputs": [],
   "cell_type": "code",
   "source": [
    "units = Units(:meV, :angstrom)\n",
    "a = 3.0\n",
    "b = 8.0\n",
    "c = 4.0\n",
    "latvecs = lattice_vectors(a, b, c, 90, 90, 90)\n",
    "positions = [[0, 0, 0], [0, 1/2, 0]]\n",
    "types = [\"Cu2\", \"Fe2\"]\n",
    "cryst = Crystal(latvecs, positions, 1; types)\n",
    "view_crystal(cryst)"
   ],
   "metadata": {},
   "execution_count": null
  },
  {
   "cell_type": "markdown",
   "source": [
    "Set exchange interactions."
   ],
   "metadata": {}
  },
  {
   "outputs": [],
   "cell_type": "code",
   "source": [
    "J_Cu_Cu = 1.0\n",
    "J_Fe_Fe = 1.0\n",
    "J_Cu_Fe = -0.1\n",
    "moments = [1 => Moment(s=1/2, g=2), 2 => Moment(s=2, g=2)]\n",
    "sys = System(cryst, moments, :dipole; dims=(2, 1, 1), seed=0)\n",
    "set_exchange!(sys, J_Cu_Cu, Bond(1, 1, [-1, 0, 0]))\n",
    "set_exchange!(sys, J_Fe_Fe, Bond(2, 2, [-1, 0, 0]))\n",
    "set_exchange!(sys, J_Cu_Fe, Bond(2, 1, [0, 1, 0]))\n",
    "set_exchange!(sys, J_Cu_Fe, Bond(1, 2, [0, 0, 0]))"
   ],
   "metadata": {},
   "execution_count": null
  },
  {
   "cell_type": "markdown",
   "source": [
    "Find and plot a minimum energy configuration."
   ],
   "metadata": {}
  },
  {
   "outputs": [],
   "cell_type": "code",
   "source": [
    "randomize_spins!(sys)\n",
    "minimize_energy!(sys)\n",
    "plot_spins(sys)"
   ],
   "metadata": {},
   "execution_count": null
  },
  {
   "cell_type": "markdown",
   "source": [
    "Define a path through $𝐪$-space."
   ],
   "metadata": {}
  },
  {
   "outputs": [],
   "cell_type": "code",
   "source": [
    "qs = [[0,0,0], [1,0,0]]\n",
    "path = q_space_path(cryst, qs, 400)"
   ],
   "metadata": {},
   "execution_count": null
  },
  {
   "cell_type": "markdown",
   "source": [
    "Plot different pair correlation intensities by varying the\n",
    "`FormFactor` on different atom types. Indices 1 and 2 refer to atoms\n",
    "in the original chemical, and are propagated by symmetry. The special \"zero\"\n",
    "form factor effectively removes the spin moment from the calculation."
   ],
   "metadata": {}
  },
  {
   "outputs": [],
   "cell_type": "code",
   "source": [
    "fig = Figure(size=(768,600))\n",
    "\n",
    "formfactors = [1 => FormFactor(\"Cu2\"), 2 => FormFactor(\"Fe2\")]\n",
    "swt = SpinWaveTheory(sys; measure=ssf_perp(sys; formfactors))\n",
    "res = intensities_bands(swt, path)\n",
    "plot_intensities!(fig[1, 1], res; units, title=\"All correlations\")\n",
    "\n",
    "formfactors = [1 => FormFactor(\"Cu2\"), 2 => zero(FormFactor)]\n",
    "swt = SpinWaveTheory(sys; measure=ssf_perp(sys; formfactors))\n",
    "res = intensities_bands(swt, path)\n",
    "plot_intensities!(fig[1, 2], res; units, title=\"Cu-Cu correlations\")\n",
    "\n",
    "formfactors = [1 => zero(FormFactor), 2 => FormFactor(\"Fe2\")]\n",
    "swt = SpinWaveTheory(sys; measure=ssf_perp(sys; formfactors))\n",
    "res = intensities_bands(swt, path)\n",
    "plot_intensities!(fig[2, 2], res; units, title=\"Fe-Fe correlations\")\n",
    "\n",
    "fig"
   ],
   "metadata": {},
   "execution_count": null
  },
  {
   "cell_type": "markdown",
   "source": [
    "Calculate quantum corrections $δS$ to spin magnitude, which arise from the\n",
    "zero-point energy of the spin waves. The outputs are ordered following the\n",
    "`Site` indexing scheme for the system `sys`: `(cell1, cell2, cell3,\n",
    "sublattice)`, with left-most indices fastest. The two corrections $δS ≈\n",
    "-0.137$ and $δS ≈ -0.578$ apply to the Cu and Fe ions, respectively. The\n",
    "larger correction on Fe is due to the relatively weak interchain coupling."
   ],
   "metadata": {}
  },
  {
   "outputs": [],
   "cell_type": "code",
   "source": [
    "Sunny.magnetization_lswt_correction_dipole(swt; atol=1e-4)"
   ],
   "metadata": {},
   "execution_count": null
  }
 ],
 "nbformat_minor": 3,
 "metadata": {
  "language_info": {
   "file_extension": ".jl",
   "mimetype": "application/julia",
   "name": "julia",
   "version": "1.10.6"
  },
  "kernelspec": {
   "name": "julia-1.10",
   "display_name": "Julia 1.10.6",
   "language": "julia"
  }
 },
 "nbformat": 4
}
