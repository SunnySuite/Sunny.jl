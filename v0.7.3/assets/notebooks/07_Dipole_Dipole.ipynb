{
 "cells": [
  {
   "cell_type": "markdown",
   "source": [
    "# 7. Long-range dipole interactions\n",
    "\n",
    "This example shows how long-range dipole-dipole interactions can affect a spin\n",
    "wave calculation. These interactions can be included two ways: Ewald summation\n",
    "or in real-space with a distance cutoff. The study follows [Del Maestro and\n",
    "Gingras, J. Phys.: Cond. Matter, **16**, 3339\n",
    "(2004)](https://arxiv.org/abs/cond-mat/0403494)."
   ],
   "metadata": {}
  },
  {
   "outputs": [],
   "cell_type": "code",
   "source": [
    "using Sunny, GLMakie"
   ],
   "metadata": {},
   "execution_count": null
  },
  {
   "cell_type": "markdown",
   "source": [
    "Create a pyrochlore crystal from Wyckoff 16c for spacegroup 227."
   ],
   "metadata": {}
  },
  {
   "outputs": [],
   "cell_type": "code",
   "source": [
    "units = Units(:K, :angstrom)\n",
    "latvecs = lattice_vectors(10.19, 10.19, 10.19, 90, 90, 90)\n",
    "positions = [[0, 0, 0]]\n",
    "cryst = Crystal(latvecs, positions, 227)\n",
    "view_crystal(cryst)"
   ],
   "metadata": {},
   "execution_count": null
  },
  {
   "cell_type": "markdown",
   "source": [
    "Create a system and reshape to the primitive cell, which contains four atoms.\n",
    "Add antiferromagnetic nearest neighbor exchange interactions."
   ],
   "metadata": {}
  },
  {
   "outputs": [],
   "cell_type": "code",
   "source": [
    "sys = System(cryst, [1 => Moment(s=7/2, g=2)], :dipole; seed=0)\n",
    "sys = reshape_supercell(sys, primitive_cell(cryst))\n",
    "J1 = 0.304 # (K)\n",
    "set_exchange!(sys, J1, Bond(1, 2, [0,0,0]))"
   ],
   "metadata": {},
   "execution_count": null
  },
  {
   "cell_type": "markdown",
   "source": [
    "Create a copy of the system and enable long-range dipole-dipole interactions\n",
    "using Ewald summation."
   ],
   "metadata": {}
  },
  {
   "outputs": [],
   "cell_type": "code",
   "source": [
    "sys_lr = clone_system(sys)\n",
    "enable_dipole_dipole!(sys_lr, units.vacuum_permeability)"
   ],
   "metadata": {},
   "execution_count": null
  },
  {
   "cell_type": "markdown",
   "source": [
    "Create a copy of the system and add long-range dipole-dipole interactions up\n",
    "to a 5 Å cutoff distance."
   ],
   "metadata": {}
  },
  {
   "outputs": [],
   "cell_type": "code",
   "source": [
    "sys_lr_cut = clone_system(sys)\n",
    "modify_exchange_with_truncated_dipole_dipole!(sys_lr_cut, 5.0, units.vacuum_permeability)"
   ],
   "metadata": {},
   "execution_count": null
  },
  {
   "cell_type": "markdown",
   "source": [
    "Find an energy minimizing spin configuration accounting for the long-range\n",
    "dipole-dipole interactions. This will arbitrarily select from a discrete set\n",
    "of possible ground states based on the system `seed`."
   ],
   "metadata": {}
  },
  {
   "outputs": [],
   "cell_type": "code",
   "source": [
    "randomize_spins!(sys_lr)\n",
    "minimize_energy!(sys_lr)\n",
    "plot_spins(sys_lr; ghost_radius=8, color=[:red, :blue, :yellow, :purple])"
   ],
   "metadata": {},
   "execution_count": null
  },
  {
   "cell_type": "markdown",
   "source": [
    "Copy this configuration to the other two systems. Note that the original `sys`\n",
    "has a _continuum_ of degenerate ground states."
   ],
   "metadata": {}
  },
  {
   "outputs": [],
   "cell_type": "code",
   "source": [
    "sys.dipoles .= sys_lr.dipoles\n",
    "sys_lr_cut.dipoles .= sys_lr.dipoles;"
   ],
   "metadata": {},
   "execution_count": null
  },
  {
   "cell_type": "markdown",
   "source": [
    "Calculate dispersions for the three systems. The high-symmetry $𝐪$-points\n",
    "are specified in reciprocal lattice units with respect to the conventional\n",
    "cubic cell."
   ],
   "metadata": {}
  },
  {
   "outputs": [],
   "cell_type": "code",
   "source": [
    "qs = [[0,0,0], [0,1,0], [1,1/2,0], [1/2,1/2,1/2], [3/4,3/4,0], [0,0,0]]\n",
    "labels = [\"Γ\", \"X\", \"W\", \"L\", \"K\", \"Γ\"]\n",
    "path = q_space_path(cryst, qs, 500; labels)\n",
    "\n",
    "measure = ssf_trace(sys)\n",
    "swt = SpinWaveTheory(sys; measure)\n",
    "res1 = intensities_bands(swt, path)\n",
    "\n",
    "swt = SpinWaveTheory(sys_lr; measure)\n",
    "res2 = intensities_bands(swt, path)\n",
    "\n",
    "swt = SpinWaveTheory(sys_lr_cut; measure)\n",
    "res3 = intensities_bands(swt, path);"
   ],
   "metadata": {},
   "execution_count": null
  },
  {
   "cell_type": "markdown",
   "source": [
    "Create a panel corresponding to Fig. 2 of [Del Maestro and\n",
    "Gingras](https://arxiv.org/abs/cond-mat/0403494). Dashed lines show the effect\n",
    "of truncating dipole-dipole interactions at 5 Å. The Del Maestro and Gingras\n",
    "paper underreported the energy scale by a factor of two, and requires slight\n",
    "corrections to its third dispersion band."
   ],
   "metadata": {}
  },
  {
   "outputs": [],
   "cell_type": "code",
   "source": [
    "fig = Figure(size=(768, 300))\n",
    "plot_intensities!(fig[1, 1], res1; units, title=\"Without long-range dipole\")\n",
    "ax = plot_intensities!(fig[1, 2], res2; units, title=\"With long-range dipole\")\n",
    "for c in eachrow(res3.disp)\n",
    "    lines!(ax, eachindex(c), c; linestyle=:dash, color=:black)\n",
    "end\n",
    "fig"
   ],
   "metadata": {},
   "execution_count": null
  }
 ],
 "nbformat_minor": 3,
 "metadata": {
  "language_info": {
   "file_extension": ".jl",
   "mimetype": "application/julia",
   "name": "julia",
   "version": "1.10.6"
  },
  "kernelspec": {
   "name": "julia-1.10",
   "display_name": "Julia 1.10.6",
   "language": "julia"
  }
 },
 "nbformat": 4
}
