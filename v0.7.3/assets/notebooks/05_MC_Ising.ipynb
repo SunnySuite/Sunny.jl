{
 "cells": [
  {
   "cell_type": "markdown",
   "source": [
    "# 5. Monte Carlo sampling of the Ising model\n",
    "\n",
    "This tutorial illustrates simulation of the classical 2D Ising model."
   ],
   "metadata": {}
  },
  {
   "outputs": [],
   "cell_type": "code",
   "source": [
    "using Sunny, GLMakie"
   ],
   "metadata": {},
   "execution_count": null
  },
  {
   "cell_type": "markdown",
   "source": [
    "To model the 2D square lattice, create an elongated tetragonal cell with one\n",
    "atom."
   ],
   "metadata": {}
  },
  {
   "outputs": [],
   "cell_type": "code",
   "source": [
    "latvecs = lattice_vectors(1, 1, 10, 90, 90, 90)\n",
    "crystal = Crystal(latvecs, [[0, 0, 0]])"
   ],
   "metadata": {},
   "execution_count": null
  },
  {
   "cell_type": "markdown",
   "source": [
    "Create a `System` of spin dipoles. Following the Ising convention, we\n",
    "will restrict the dipoles to $±1$ along the global $\\hat{z}$-axis. Select\n",
    "$g=-1$ so that the Zeeman coupling between external field $𝐁$ and spin\n",
    "dipole $𝐒$ is $-𝐁⋅𝐒$. The system size is 128×128."
   ],
   "metadata": {}
  },
  {
   "outputs": [],
   "cell_type": "code",
   "source": [
    "L = 128\n",
    "sys = System(crystal, [1 => Moment(s=1, g=-1)], :dipole; dims=(L, L, 1), seed=0)\n",
    "polarize_spins!(sys, (0, 0, 1))"
   ],
   "metadata": {},
   "execution_count": null
  },
  {
   "cell_type": "markdown",
   "source": [
    "Use `set_exchange!` to include a ferromagnetic Heisenberg interaction\n",
    "along nearest-neighbor bonds. The `Bond` below connects two spins\n",
    "displaced by the lattice vector $𝐚₁$. This interaction will be propagated\n",
    "to all nearest-neighbors bonds in the system, consistent with the symmetries\n",
    "of the square lattice."
   ],
   "metadata": {}
  },
  {
   "outputs": [],
   "cell_type": "code",
   "source": [
    "set_exchange!(sys, -1.0, Bond(1, 1, (1, 0, 0)))"
   ],
   "metadata": {},
   "execution_count": null
  },
  {
   "cell_type": "markdown",
   "source": [
    "If an external field is desired, it can be set using `set_field!`."
   ],
   "metadata": {}
  },
  {
   "outputs": [],
   "cell_type": "code",
   "source": [
    "B = 0\n",
    "set_field!(sys, (0, 0, B))"
   ],
   "metadata": {},
   "execution_count": null
  },
  {
   "cell_type": "markdown",
   "source": [
    "The critical temperature for the Ising model is known analytically."
   ],
   "metadata": {}
  },
  {
   "outputs": [],
   "cell_type": "code",
   "source": [
    "Tc = 2/log(1+√2)"
   ],
   "metadata": {},
   "execution_count": null
  },
  {
   "cell_type": "markdown",
   "source": [
    "Use a `LocalSampler` to perform `nsweeps` Monte Carlo sweeps. A sweep\n",
    "consists of, on average, one trial update per spin in the system. Each\n",
    "proposed update is accepted or rejected according to the Metropolis acceptance\n",
    "probability. As its name suggests, the `propose_flip` function will\n",
    "only propose pure spin flips, $𝐒 \\rightarrow -𝐒$."
   ],
   "metadata": {}
  },
  {
   "outputs": [],
   "cell_type": "code",
   "source": [
    "nsweeps = 4000\n",
    "sampler = LocalSampler(kT=Tc, propose=propose_flip)\n",
    "for i in 1:nsweeps\n",
    "    step!(sys, sampler)\n",
    "end"
   ],
   "metadata": {},
   "execution_count": null
  },
  {
   "cell_type": "markdown",
   "source": [
    "Plot the Ising spins by extracting the $z$-component of the dipoles"
   ],
   "metadata": {}
  },
  {
   "outputs": [],
   "cell_type": "code",
   "source": [
    "heatmap(reshape([S[3] for S in sys.dipoles], (L, L)))"
   ],
   "metadata": {},
   "execution_count": null
  }
 ],
 "nbformat_minor": 3,
 "metadata": {
  "language_info": {
   "file_extension": ".jl",
   "mimetype": "application/julia",
   "name": "julia",
   "version": "1.10.6"
  },
  "kernelspec": {
   "name": "julia-1.10",
   "display_name": "Julia 1.10.6",
   "language": "julia"
  }
 },
 "nbformat": 4
}
