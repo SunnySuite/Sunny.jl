{
 "cells": [
  {
   "cell_type": "markdown",
   "source": [
    "# SW11 - La₂CuO₄\n",
    "\n",
    "This is a Sunny port of [SpinW Tutorial\n",
    "11](https://spinw.org/tutorials/11tutorial), originally authored by Sandor\n",
    "Toth. It calculates the spin wave spectrum of La₂CuO₄."
   ],
   "metadata": {}
  },
  {
   "cell_type": "markdown",
   "source": [
    "Load packages"
   ],
   "metadata": {}
  },
  {
   "outputs": [],
   "cell_type": "code",
   "source": [
    "using Sunny, GLMakie"
   ],
   "metadata": {},
   "execution_count": null
  },
  {
   "cell_type": "markdown",
   "source": [
    "Build a square lattice for the the Cu²⁺ atoms. The lattice constant 1 Å is\n",
    "selected arbitrarily."
   ],
   "metadata": {}
  },
  {
   "outputs": [],
   "cell_type": "code",
   "source": [
    "units = Units(:meV, :angstrom)\n",
    "latvecs = lattice_vectors(1, 1, 10, 90, 90, 90)\n",
    "positions = [[0, 0, 0]]\n",
    "types = [\"Cu\"]\n",
    "cryst = Crystal(latvecs, positions; types)\n",
    "view_crystal(cryst; ndims=2)"
   ],
   "metadata": {},
   "execution_count": null
  },
  {
   "cell_type": "markdown",
   "source": [
    "Build a spin system using the exchange parameters from [R. Coldea, Phys. Rev.\n",
    "Lett. **86**, 5377 (2001)](https://doi.org/10.1103/PhysRevLett.86.5377)."
   ],
   "metadata": {}
  },
  {
   "outputs": [],
   "cell_type": "code",
   "source": [
    "sys = System(cryst, [1 => Moment(s=1/2, g=2)], :dipole; dims=(2, 2, 1))\n",
    "J   = 138.3\n",
    "Jp  = 2\n",
    "Jpp = 2\n",
    "Jc  = 38\n",
    "set_exchange!(sys, J-Jc/2, Bond(1, 1, [1, 0, 0]))\n",
    "set_exchange!(sys, Jp-Jc/4, Bond(1, 1, [1, 1, 0]))\n",
    "set_exchange!(sys, Jpp, Bond(1, 1, [2, 0, 0]))"
   ],
   "metadata": {},
   "execution_count": null
  },
  {
   "cell_type": "markdown",
   "source": [
    "Energy minimization yields the expected Néel order"
   ],
   "metadata": {}
  },
  {
   "outputs": [],
   "cell_type": "code",
   "source": [
    "randomize_spins!(sys)\n",
    "minimize_energy!(sys)\n",
    "plot_spins(sys; ndims=2)"
   ],
   "metadata": {},
   "execution_count": null
  },
  {
   "cell_type": "markdown",
   "source": [
    "Plot the spin wave spectrum for a path through $𝐪$-space. Apply a manual\n",
    "\"quantum correction\" that adjusts energy scale by the factor 1.18."
   ],
   "metadata": {}
  },
  {
   "outputs": [],
   "cell_type": "code",
   "source": [
    "qs = [[3/4,1/4,0], [1/2, 1/2, 0], [1/2, 0, 0], [3/4, 1/4, 0], [1,0,0], [1/2 0 0]]\n",
    "labels = [\"P\", \"M\", \"X\", \"P\", \"Γ\", \"X\"]\n",
    "path = q_space_path(cryst, qs, 400; labels)\n",
    "energies = range(0, 320, 400)\n",
    "swt = SpinWaveTheory(sys; measure=ssf_perp(sys))\n",
    "res = intensities(swt, path; energies, kernel=gaussian(fwhm=35))\n",
    "res.energies .*= 1.18\n",
    "plot_intensities(res; units)"
   ],
   "metadata": {},
   "execution_count": null
  },
  {
   "cell_type": "markdown",
   "source": [
    "Plot instantaneous itensities, integrated over ω."
   ],
   "metadata": {}
  },
  {
   "outputs": [],
   "cell_type": "code",
   "source": [
    "res = intensities_static(swt, path)\n",
    "plot_intensities(res; colorrange=(0,20), units)"
   ],
   "metadata": {},
   "execution_count": null
  }
 ],
 "nbformat_minor": 3,
 "metadata": {
  "language_info": {
   "file_extension": ".jl",
   "mimetype": "application/julia",
   "name": "julia",
   "version": "1.10.6"
  },
  "kernelspec": {
   "name": "julia-1.10",
   "display_name": "Julia 1.10.6",
   "language": "julia"
  }
 },
 "nbformat": 4
}
