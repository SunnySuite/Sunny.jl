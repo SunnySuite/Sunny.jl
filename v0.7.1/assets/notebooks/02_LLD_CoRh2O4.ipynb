{
 "cells": [
  {
   "cell_type": "markdown",
   "source": [
    "# 2. Landau-Lifshitz dynamics of CoRh₂O₄ at finite *T*\n",
    "\n",
    "In the previous tutorial, we\n",
    "used spin wave theory to calculate the dynamical spin structure factor of\n",
    "CoRh₂O₄. Here, we perform a similar calculation using equilibrium samples from\n",
    "the Boltzmann distribution at finite $T$. For each sampled spin\n",
    "configuration, we will simulate the classical Landau-Lifshitz spin dynamics\n",
    "and extract dynamical spin-spin correlations. After applying a\n",
    "classical-to-quantum correction factor, the resulting intensities can be\n",
    "compared to inelastic neutron scattering data."
   ],
   "metadata": {}
  },
  {
   "cell_type": "markdown",
   "source": [
    "Construct the system as in the previous tutorial. For this antiferromagnetic model on the diamond\n",
    "cubic lattice, the ground state is unfrustrated Néel order."
   ],
   "metadata": {}
  },
  {
   "outputs": [],
   "cell_type": "code",
   "source": [
    "using Sunny, GLMakie\n",
    "\n",
    "units = Units(:meV, :angstrom)\n",
    "a = 8.5031 # (Å)\n",
    "latvecs = lattice_vectors(a, a, a, 90, 90, 90)\n",
    "cryst = Crystal(latvecs, [[0,0,0]], 227, setting=\"1\")\n",
    "\n",
    "sys = System(cryst, [1 => Moment(s=3/2, g=2)], :dipole)\n",
    "J = 0.63 # (meV)\n",
    "set_exchange!(sys, J, Bond(1, 3, [0,0,0]))\n",
    "randomize_spins!(sys)\n",
    "minimize_energy!(sys)\n",
    "plot_spins(sys; color=[S[3] for S in sys.dipoles])"
   ],
   "metadata": {},
   "execution_count": null
  },
  {
   "cell_type": "markdown",
   "source": [
    "Use `repeat_periodically` to extend the system to 10×10×10 chemical\n",
    "unit cells. The ground state Néel order is retained. Increasing the system\n",
    "size further would reduce finite-size artifacts and increase momentum-space\n",
    "resolution, but would also make the simulations slower."
   ],
   "metadata": {}
  },
  {
   "outputs": [],
   "cell_type": "code",
   "source": [
    "sys = repeat_periodically(sys, (10, 10, 10))\n",
    "plot_spins(sys; color=[S[3] for S in sys.dipoles])"
   ],
   "metadata": {},
   "execution_count": null
  },
  {
   "cell_type": "markdown",
   "source": [
    "### Langevin dynamics for sampling"
   ],
   "metadata": {}
  },
  {
   "cell_type": "markdown",
   "source": [
    "We will be using a `Langevin` spin dynamics to thermalize the system.\n",
    "This dynamics is a variant of the Landau-Lifshitz equation that incorporates\n",
    "noise and dissipation terms, which are linked by a fluctuation-dissipation\n",
    "theorem. The temperature 6 K ≈ 1.38 meV is slightly above ordering for this\n",
    "model. The dimensionless `damping` magnitude sets a timescale for coupling to\n",
    "the implicit thermal bath; 0.2 is usually a good choice."
   ],
   "metadata": {}
  },
  {
   "outputs": [],
   "cell_type": "code",
   "source": [
    "langevin = Langevin(; damping=0.2, kT=16*units.K)"
   ],
   "metadata": {},
   "execution_count": null
  },
  {
   "cell_type": "markdown",
   "source": [
    "Use `suggest_timestep` to select an integration timestep. A\n",
    "dimensionless error tolerance of `1e-2` is usually a good choice. The\n",
    "suggested timestep will vary according to the magnetic configuration. It is\n",
    "reasonable to start from an energy-minimized configuration."
   ],
   "metadata": {}
  },
  {
   "outputs": [],
   "cell_type": "code",
   "source": [
    "suggest_timestep(sys, langevin; tol=1e-2)\n",
    "langevin.dt = 0.025;"
   ],
   "metadata": {},
   "execution_count": null
  },
  {
   "cell_type": "markdown",
   "source": [
    "Now run a Langevin trajectory to sample spin configurations. Keep track of the\n",
    "energy per site at each time step."
   ],
   "metadata": {}
  },
  {
   "outputs": [],
   "cell_type": "code",
   "source": [
    "energies = [energy_per_site(sys)]\n",
    "for _ in 1:1000\n",
    "    step!(sys, langevin)\n",
    "    push!(energies, energy_per_site(sys))\n",
    "end"
   ],
   "metadata": {},
   "execution_count": null
  },
  {
   "cell_type": "markdown",
   "source": [
    "From the relaxed spin configuration, we can learn that `dt` was a little\n",
    "smaller than necessary; increasing it will make the remaining simulations\n",
    "faster."
   ],
   "metadata": {}
  },
  {
   "outputs": [],
   "cell_type": "code",
   "source": [
    "suggest_timestep(sys, langevin; tol=1e-2)\n",
    "langevin.dt = 0.042;"
   ],
   "metadata": {},
   "execution_count": null
  },
  {
   "cell_type": "markdown",
   "source": [
    "Plot energy versus time using the [Makie `lines`\n",
    "function](https://docs.makie.org/stable/reference/plots/lines). The plateau\n",
    "suggests that the system has reached thermal equilibrium."
   ],
   "metadata": {}
  },
  {
   "outputs": [],
   "cell_type": "code",
   "source": [
    "lines(energies, color=:blue, figure=(size=(600,300),), axis=(xlabel=\"Timesteps\", ylabel=\"Energy (meV)\"))"
   ],
   "metadata": {},
   "execution_count": null
  },
  {
   "cell_type": "markdown",
   "source": [
    "Plot the spins colored by their alignment with a reference spin at the origin.\n",
    "The field `sys.dipoles` is a 4D array storing the spin dipole data. The first\n",
    "three indices of label the chemical cell, while the fourth index labels an\n",
    "atom within the cell. Note that Julia arrays use 1-based indexing. Thermal\n",
    "fluctuations are apparent in the plot."
   ],
   "metadata": {}
  },
  {
   "outputs": [],
   "cell_type": "code",
   "source": [
    "S0 = sys.dipoles[1,1,1,1]\n",
    "plot_spins(sys; color=[S'*S0 for S in sys.dipoles])"
   ],
   "metadata": {},
   "execution_count": null
  },
  {
   "cell_type": "markdown",
   "source": [
    "### Static structure factor"
   ],
   "metadata": {}
  },
  {
   "cell_type": "markdown",
   "source": [
    "Use `SampledCorrelationsStatic` to estimate spatial correlations for\n",
    "configurations in classical thermal equilibrium. Each call to\n",
    "`add_sample!` will accumulate data for the current spin snapshot."
   ],
   "metadata": {}
  },
  {
   "outputs": [],
   "cell_type": "code",
   "source": [
    "formfactors = [1 => FormFactor(\"Co2\")]\n",
    "measure = ssf_perp(sys; formfactors)\n",
    "sc = SampledCorrelationsStatic(sys; measure)\n",
    "add_sample!(sc, sys)    # Accumulate the newly sampled structure factor into `sf`"
   ],
   "metadata": {},
   "execution_count": null
  },
  {
   "cell_type": "markdown",
   "source": [
    "Collect 20 additional samples. Perform 100 Langevin time-steps between\n",
    "measurements to approximately decorrelate the sample in thermal equilibrium."
   ],
   "metadata": {}
  },
  {
   "outputs": [],
   "cell_type": "code",
   "source": [
    "for _ in 1:20\n",
    "    for _ in 1:100\n",
    "        step!(sys, langevin)\n",
    "    end\n",
    "    add_sample!(sc, sys)\n",
    "end"
   ],
   "metadata": {},
   "execution_count": null
  },
  {
   "cell_type": "markdown",
   "source": [
    "Use `q_space_grid` to define a slice of momentum space $[H, K, 0]$,\n",
    "where $H$ and $K$ each range from -10 to 10 in RLU. This command produces\n",
    "a 200×200 grid of sample points."
   ],
   "metadata": {}
  },
  {
   "outputs": [],
   "cell_type": "code",
   "source": [
    "grid = q_space_grid(cryst, [1, 0, 0], range(-10, 10, 200), [0, 1, 0], (-10, 10))"
   ],
   "metadata": {},
   "execution_count": null
  },
  {
   "cell_type": "markdown",
   "source": [
    "Calculate and plot the instantaneous structure factor on the slice by\n",
    "integrating over all energy values ω. We employ the appropriate\n",
    "`FormFactor` for Co2⁺. Selecting `saturation = 1.0` sets the color\n",
    "saturation point to the maximum intensity value. This is reasonable because we\n",
    "are above the ordering temperature, and do not have sharp Bragg peaks."
   ],
   "metadata": {}
  },
  {
   "outputs": [],
   "cell_type": "code",
   "source": [
    "res = intensities_static(sc, grid)\n",
    "plot_intensities(res; saturation=1.0, title=\"Static Intensities at T = 16 K\")"
   ],
   "metadata": {},
   "execution_count": null
  },
  {
   "cell_type": "markdown",
   "source": [
    "### Dynamical structure factor"
   ],
   "metadata": {}
  },
  {
   "cell_type": "markdown",
   "source": [
    "To collect statistics for the _dynamical_ structure factor intensities\n",
    "$\\mathcal{S}(𝐪,ω)$ at finite temperature, use\n",
    "`SampledCorrelations`. It requires a range of `energies` to resolve,\n",
    "which will be associated with frequencies of the classical spin dynamics. The\n",
    "integration timestep `dt` can be somewhat larger than that used by the\n",
    "Langevin dynamics."
   ],
   "metadata": {}
  },
  {
   "outputs": [],
   "cell_type": "code",
   "source": [
    "dt = 2*langevin.dt\n",
    "energies = range(0, 6, 50)\n",
    "sc = SampledCorrelations(sys; dt, energies, measure=ssf_perp(sys))"
   ],
   "metadata": {},
   "execution_count": null
  },
  {
   "cell_type": "markdown",
   "source": [
    "Like before, use Langevin dynamics to sample spin configurations from thermal\n",
    "equilibrium. Now, however, each call to `add_sample!` will run a\n",
    "classical spin dynamics trajectory and measure dynamical correlations. To make\n",
    "the tutorial run quickly, we average over just 5 trajectories. To make a\n",
    "publication quality figure, this number should be significantly increased for\n",
    "better statistics."
   ],
   "metadata": {}
  },
  {
   "outputs": [],
   "cell_type": "code",
   "source": [
    "for _ in 1:5\n",
    "    for _ in 1:100\n",
    "        step!(sys, langevin)\n",
    "    end\n",
    "    add_sample!(sc, sys)\n",
    "end"
   ],
   "metadata": {},
   "execution_count": null
  },
  {
   "cell_type": "markdown",
   "source": [
    "Select points that define a piecewise-linear path through reciprocal space,\n",
    "and a sampling density."
   ],
   "metadata": {}
  },
  {
   "outputs": [],
   "cell_type": "code",
   "source": [
    "qs = [[3/4, 3/4,   0],\n",
    "      [  0,   0,   0],\n",
    "      [  0, 1/2, 1/2],\n",
    "      [1/2,   1,   0],\n",
    "      [  0,   1,   0],\n",
    "      [1/4,   1, 1/4],\n",
    "      [  0,   1,   0],\n",
    "      [  0,  -4,   0]]\n",
    "path = q_space_path(cryst, qs, 500)"
   ],
   "metadata": {},
   "execution_count": null
  },
  {
   "cell_type": "markdown",
   "source": [
    "Calculate and plot the intensities along this path."
   ],
   "metadata": {}
  },
  {
   "outputs": [],
   "cell_type": "code",
   "source": [
    "res = intensities(sc, path; energies, langevin.kT)\n",
    "plot_intensities(res; units, title=\"Intensities at 16 K\")"
   ],
   "metadata": {},
   "execution_count": null
  },
  {
   "cell_type": "markdown",
   "source": [
    "### Powder averaged intensity"
   ],
   "metadata": {}
  },
  {
   "cell_type": "markdown",
   "source": [
    "Define spherical shells in reciprocal space via their radii, in absolute units\n",
    "of 1/Å. For each shell, calculate and average the intensities at 350\n",
    "$𝐪$-points"
   ],
   "metadata": {}
  },
  {
   "outputs": [],
   "cell_type": "code",
   "source": [
    "radii = range(0, 3.5, 200) # (1/Å)\n",
    "res = powder_average(cryst, radii, 350) do qs\n",
    "    intensities(sc, qs; energies, langevin.kT)\n",
    "end\n",
    "plot_intensities(res; units, title=\"Powder Average at 16 K\")"
   ],
   "metadata": {},
   "execution_count": null
  }
 ],
 "nbformat_minor": 3,
 "metadata": {
  "language_info": {
   "file_extension": ".jl",
   "mimetype": "application/julia",
   "name": "julia",
   "version": "1.10.5"
  },
  "kernelspec": {
   "name": "julia-1.10",
   "display_name": "Julia 1.10.5",
   "language": "julia"
  }
 },
 "nbformat": 4
}
