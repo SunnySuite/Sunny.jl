{
 "cells": [
  {
   "cell_type": "markdown",
   "source": [
    "# 8. Momentum transfer conventions\n",
    "\n",
    "Sunny defines the dynamical structure factor following conventions as in\n",
    "[Squire](https://doi.org/10.1017/CBO9781139107808) and\n",
    "[Boothroyd](https://groups.physics.ox.ac.uk/Boothroyd/PNS/),\n",
    "\n",
    "$$\n",
    "\\mathcal{S}^{αβ}(𝐪, ω) ≡ \\frac{1}{2π} \\int_{-∞}^{∞} e^{-iωt} ⟨\\hat{M}^{†α}_𝐪(0) \\hat{M}^β_𝐪(t)⟩ dt.\n",
    "$$\n",
    "\n",
    "The momentum-space dipole operator $\\hat{𝐌}_𝐪$ is obtained from the\n",
    "real-space density $\\hat{𝐌}(𝐫)$ using the Fourier transform convention,\n",
    "\n",
    "$$\n",
    "\\hat{𝐌}_𝐪 ≡ \\int_V e^{+ i 𝐪⋅𝐫} \\hat{𝐌}(𝐫) d𝐫.\n",
    "$$\n",
    "\n",
    "With appropriate contraction of spin components, $\\mathcal{S}^{αβ}(𝐪, ω)$\n",
    "directly relates to the neutron scattering cross-section. Here, $𝐪$ and\n",
    "$ω$ represent momentum and energy transfer _to_ the sample. Sunny will\n",
    "report the structure factor as an intensive quantity by dividing by the number\n",
    "of chemical cells in the macroscopic sample. Full details are given in the\n",
    "documentation page Structure Factor Conventions.\n",
    "\n",
    "If the spin Hamiltonian lacks inversion symmetry, intensities at $±𝐪$ may\n",
    "be inequivalent. A simple example is the 1D chain with competing Ising and\n",
    "Dzyaloshinskii–Moriya couplings. Sunny calculations on this model can be\n",
    "compared to those of other codes. For example, [SpinW](https://spinw.org/)\n",
    "employs the opposite sign convention for the momentum transfer $𝐪$."
   ],
   "metadata": {}
  },
  {
   "cell_type": "markdown",
   "source": [
    "### 1D model lacking reflection symmetry"
   ],
   "metadata": {}
  },
  {
   "outputs": [],
   "cell_type": "code",
   "source": [
    "using Sunny, GLMakie\n",
    "@assert pkgversion(Sunny) >= v\"0.7.8\""
   ],
   "metadata": {},
   "execution_count": null
  },
  {
   "cell_type": "markdown",
   "source": [
    "Create a `Crystal` with spacegroup P1 to effectively disable all\n",
    "symmetry analysis. This avoids any symmetry-imposed constraints on the\n",
    "couplings. Because all bonds are treated as symmetry-inequivalent, each\n",
    "coupling must be specified independently; there is no automatic propagation to\n",
    "\"equivalent\" bonds."
   ],
   "metadata": {}
  },
  {
   "outputs": [],
   "cell_type": "code",
   "source": [
    "latvecs = lattice_vectors(1, 1, 1, 90, 90, 90)\n",
    "cryst = Crystal(latvecs, [[0, 0, 0]], \"P1\")"
   ],
   "metadata": {},
   "execution_count": null
  },
  {
   "cell_type": "markdown",
   "source": [
    "Include DM and Ising couplings between nearest neighbors on a chain. Letting\n",
    "$j$ denote the site position along axis $𝐚_3$, the full Hamiltonian is\n",
    "$$\n",
    "ℋ = 𝐃 ⋅ ∑_j 𝐒_j × 𝐒_{j+1} - J ∑_j ∑_j S^z_j S^z_{j+1},\n",
    "$$\n",
    "with `dmvec` $𝐃 = D ẑ$."
   ],
   "metadata": {}
  },
  {
   "outputs": [],
   "cell_type": "code",
   "source": [
    "s = 3/2\n",
    "sys = System(cryst, [1 => Moment(; s, g=2)], :dipole)\n",
    "J = 1.0\n",
    "D = 0.2\n",
    "z = [0, 0, 1]\n",
    "set_exchange!(sys, dmvec(D * z) - J * z * z', Bond(1, 1, [0, 0, 1]))"
   ],
   "metadata": {},
   "execution_count": null
  },
  {
   "cell_type": "markdown",
   "source": [
    "The relatively large Ising coupling favors one of two polarized states,\n",
    "$±ẑ$. Use `polarize_spins!` to align $𝐒$ with $+ẑ$. This\n",
    "polarization could also be realized via an applied $𝐁$ field in the\n",
    "_opposite_ direction, as documented in `set_field!`."
   ],
   "metadata": {}
  },
  {
   "outputs": [],
   "cell_type": "code",
   "source": [
    "polarize_spins!(sys, [0, 0, 1])\n",
    "@assert energy(sys) ≈ - s^2\n",
    "plot_spins(sys)"
   ],
   "metadata": {},
   "execution_count": null
  },
  {
   "cell_type": "markdown",
   "source": [
    "### Intensities from linear spin wave theory"
   ],
   "metadata": {}
  },
  {
   "cell_type": "markdown",
   "source": [
    "The `SpinWaveTheory` calculation shows a single band with dispersion\n",
    "$ϵ(𝐪) = 2 s [J ± D \\sin(2πq_3)]$ for the polarization state $𝐒 = ± s\n",
    "ẑ$. There is a clear dependence on the sign of $q_3$."
   ],
   "metadata": {}
  },
  {
   "outputs": [],
   "cell_type": "code",
   "source": [
    "path = q_space_path(cryst, [[0, 0, -1/2], [0, 0, 0], [0, 0, +1/2]], 400)\n",
    "swt = SpinWaveTheory(sys; measure=ssf_trace(sys))\n",
    "res = intensities_bands(swt, path)\n",
    "plot_intensities(res; ylims=(0, 5))"
   ],
   "metadata": {},
   "execution_count": null
  },
  {
   "cell_type": "markdown",
   "source": [
    "### Intensities from classical spin dynamics"
   ],
   "metadata": {}
  },
  {
   "cell_type": "markdown",
   "source": [
    "Classical dynamics at low temperatures produces, in principle, the same\n",
    "excitation spectrum. Here, finite-size effects will limit $𝐪$-space\n",
    "resolution. Use `resize_supercell` to study a chain of 32 sites."
   ],
   "metadata": {}
  },
  {
   "outputs": [],
   "cell_type": "code",
   "source": [
    "sys2 = resize_supercell(sys, (1, 1, 32))"
   ],
   "metadata": {},
   "execution_count": null
  },
  {
   "cell_type": "markdown",
   "source": [
    "Use `Langevin` dynamics to sample from the classical Boltzmann\n",
    "distribution at a relatively low temperature, $k_B T / J = 0.03$"
   ],
   "metadata": {}
  },
  {
   "outputs": [],
   "cell_type": "code",
   "source": [
    "dt = 0.03 / J\n",
    "kT = 0.03 * J\n",
    "damping = 0.1\n",
    "langevin = Langevin(dt; kT, damping)\n",
    "suggest_timestep(sys2, langevin; tol=1e-2)\n",
    "for _ in 1:10_000\n",
    "    step!(sys, langevin)\n",
    "end"
   ],
   "metadata": {},
   "execution_count": null
  },
  {
   "cell_type": "markdown",
   "source": [
    "Use `SampledCorrelations` to collect statistics from classical spin\n",
    "dynamic trajectories."
   ],
   "metadata": {}
  },
  {
   "outputs": [],
   "cell_type": "code",
   "source": [
    "sc = SampledCorrelations(sys2; dt, energies=range(0, 5, 100), measure=ssf_trace(sys2))\n",
    "add_sample!(sc, sys2)\n",
    "nsamples = 100\n",
    "for _ in 1:nsamples\n",
    "    for _ in 1:1000\n",
    "        step!(sys2, langevin)\n",
    "    end\n",
    "    add_sample!(sc, sys2)\n",
    "end"
   ],
   "metadata": {},
   "execution_count": null
  },
  {
   "cell_type": "markdown",
   "source": [
    "In the limit $T → 0$, the `intensities` match linear spin wave\n",
    "theory up to finite-size effects and statistical error. Additionally, the\n",
    "classical dynamics calculation shows the elastic peak at $𝐪 = [0,0,0]$,\n",
    "associated with the ferromagnetic ground state."
   ],
   "metadata": {}
  },
  {
   "outputs": [],
   "cell_type": "code",
   "source": [
    "res2 = intensities(sc, path; energies=:available, kT)\n",
    "plot_intensities(res2)"
   ],
   "metadata": {},
   "execution_count": null
  }
 ],
 "nbformat_minor": 3,
 "metadata": {
  "language_info": {
   "file_extension": ".jl",
   "mimetype": "application/julia",
   "name": "julia",
   "version": "1.10.10"
  },
  "kernelspec": {
   "name": "julia-1.10",
   "display_name": "Julia 1.10.10",
   "language": "julia"
  }
 },
 "nbformat": 4
}
