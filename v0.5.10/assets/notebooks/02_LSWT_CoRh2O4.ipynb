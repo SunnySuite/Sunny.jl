{
 "cells": [
  {
   "cell_type": "markdown",
   "source": [
    "# 2. Spin wave simulations of CoRh₂O₄\n",
    "\n",
    "This tutorial illustrates the conventional spin wave theory of dipoles. We\n",
    "consider a simple model of the diamond-cubic crystal CoRh₂O₄, with parameters\n",
    "extracted from [Ge et al., Phys. Rev. B 96,\n",
    "064413](https://doi.org/10.1103/PhysRevB.96.064413)."
   ],
   "metadata": {}
  },
  {
   "outputs": [],
   "cell_type": "code",
   "source": [
    "using Sunny, GLMakie"
   ],
   "metadata": {},
   "execution_count": null
  },
  {
   "cell_type": "markdown",
   "source": [
    "Construct a diamond `Crystal` in the conventional (non-primitive)\n",
    "cubic unit cell. Sunny will populate all eight symmetry-equivalent sites when\n",
    "given the international spacegroup number 227 (\"Fd-3m\") and the appropriate\n",
    "setting. For this spacegroup, there are two conventional translations of the\n",
    "unit cell, and it is necessary to disambiguate through the `setting` keyword\n",
    "argument. (On your own: what happens if `setting` is omitted?)"
   ],
   "metadata": {}
  },
  {
   "outputs": [],
   "cell_type": "code",
   "source": [
    "a = 8.5031 # (Å)\n",
    "latvecs = lattice_vectors(a, a, a, 90, 90, 90)\n",
    "cryst = Crystal(latvecs, [[0,0,0]], 227, setting=\"1\")"
   ],
   "metadata": {},
   "execution_count": null
  },
  {
   "cell_type": "markdown",
   "source": [
    "In a running Julia environment, the crystal can be viewed interactively using\n",
    "`view_crystal`."
   ],
   "metadata": {}
  },
  {
   "outputs": [],
   "cell_type": "code",
   "source": [
    "view_crystal(cryst)"
   ],
   "metadata": {},
   "execution_count": null
  },
  {
   "cell_type": "markdown",
   "source": [
    "Construct a `System` with quantum spin $S=3/2$ constrained to the\n",
    "space of dipoles. Including an antiferromagnetic nearest neighbor interaction\n",
    "`J` will favor Néel order. To optimize this magnetic structure, it is\n",
    "sufficient to employ a magnetic lattice consisting of a single crystal unit\n",
    "cell, `latsize=(1,1,1)`. Passing an explicit random number `seed` will ensure\n",
    "repeatable results."
   ],
   "metadata": {}
  },
  {
   "outputs": [],
   "cell_type": "code",
   "source": [
    "latsize = (1, 1, 1)\n",
    "S = 3/2\n",
    "J = 7.5413*meV_per_K # (~ 0.65 meV)\n",
    "sys = System(cryst, latsize, [SpinInfo(1; S, g=2)], :dipole; seed=0)\n",
    "set_exchange!(sys, J, Bond(1, 3, [0,0,0]))"
   ],
   "metadata": {},
   "execution_count": null
  },
  {
   "cell_type": "markdown",
   "source": [
    "In the ground state, each spin is exactly anti-aligned with its 4\n",
    "nearest-neighbors. Because every bond contributes an energy of $-JS^2$, the\n",
    "energy per site is $-2JS^2$. In this calculation, a factor of 1/2 avoids\n",
    "double-counting the bonds. Due to lack of frustration, direct energy\n",
    "minimization is successful in finding the ground state."
   ],
   "metadata": {}
  },
  {
   "outputs": [],
   "cell_type": "code",
   "source": [
    "randomize_spins!(sys)\n",
    "minimize_energy!(sys)\n",
    "\n",
    "@assert energy_per_site(sys) ≈ -2J*S^2"
   ],
   "metadata": {},
   "execution_count": null
  },
  {
   "cell_type": "markdown",
   "source": [
    "Plotting the spins confirms the expected Néel order. Note that the overall,\n",
    "global rotation of dipoles is arbitrary."
   ],
   "metadata": {}
  },
  {
   "outputs": [],
   "cell_type": "code",
   "source": [
    "s0 = sys.dipoles[1,1,1,1]\n",
    "plot_spins(sys; color=[s'*s0 for s in sys.dipoles])"
   ],
   "metadata": {},
   "execution_count": null
  },
  {
   "cell_type": "markdown",
   "source": [
    "For numerical efficiency, it is helpful to work with the smallest possible\n",
    "magnetic supercell; in this case, it is the primitive cell. The columns of the\n",
    "3×3 `shape` matrix define the lattice vectors of the primitive cell as\n",
    "multiples of the conventional, cubic lattice vectors. After transforming the\n",
    "system with `reshape_supercell`, the energy per site remains the same."
   ],
   "metadata": {}
  },
  {
   "outputs": [],
   "cell_type": "code",
   "source": [
    "shape = [0 1 1;\n",
    "         1 0 1;\n",
    "         1 1 0] / 2\n",
    "sys_prim = reshape_supercell(sys, shape)\n",
    "@assert energy_per_site(sys_prim) ≈ -2J*S^2\n",
    "plot_spins(sys_prim; color=[s'*s0 for s in sys_prim.dipoles])"
   ],
   "metadata": {},
   "execution_count": null
  },
  {
   "cell_type": "markdown",
   "source": [
    "Now estimate $𝒮(𝐪,ω)$ with `SpinWaveTheory` and an\n",
    "`intensity_formula`. The mode `:perp` contracts with a dipole factor\n",
    "to return the unpolarized intensity. The formula also employs\n",
    "`lorentzian` broadening. The isotropic `FormFactor` for\n",
    "Cobalt(2+) dampens intensities at large $𝐪$."
   ],
   "metadata": {}
  },
  {
   "outputs": [],
   "cell_type": "code",
   "source": [
    "swt = SpinWaveTheory(sys_prim)\n",
    "kernel = lorentzian(fwhm=0.8)\n",
    "formfactors = [FormFactor(\"Co2\")]\n",
    "formula = intensity_formula(swt, :perp; kernel, formfactors)"
   ],
   "metadata": {},
   "execution_count": null
  },
  {
   "cell_type": "markdown",
   "source": [
    "For the \"single crystal\" result, we may use `reciprocal_space_path` to\n",
    "construct a path that connects high-symmetry points in reciprocal space. The\n",
    "`intensities_broadened` function collects intensities along this path\n",
    "for the given set of energy values."
   ],
   "metadata": {}
  },
  {
   "outputs": [],
   "cell_type": "code",
   "source": [
    "qpoints = [[0, 0, 0], [1/2, 0, 0], [1/2, 1/2, 0], [0, 0, 0]]\n",
    "path, xticks = reciprocal_space_path(cryst, qpoints, 50)\n",
    "energies = collect(0:0.01:6)\n",
    "is = intensities_broadened(swt, path, energies, formula)\n",
    "\n",
    "fig = Figure()\n",
    "ax = Axis(fig[1,1]; aspect=1.4, ylabel=\"ω (meV)\", xlabel=\"𝐪 (r.l.u.)\",\n",
    "          xticks, xticklabelrotation=π/10)\n",
    "heatmap!(ax, 1:size(is, 1), energies, is, colormap=:gnuplot2)\n",
    "fig"
   ],
   "metadata": {},
   "execution_count": null
  },
  {
   "cell_type": "markdown",
   "source": [
    "A powder measurement effectively involves an average over all possible crystal\n",
    "orientations. We use the function `reciprocal_space_shell` to sample\n",
    "`n` wavevectors on a sphere of a given radius (inverse angstroms), and then\n",
    "calculate the spherically-averaged intensity."
   ],
   "metadata": {}
  },
  {
   "outputs": [],
   "cell_type": "code",
   "source": [
    "radii = 0.01:0.02:3 # (1/Å)\n",
    "output = zeros(Float64, length(radii), length(energies))\n",
    "for (i, radius) in enumerate(radii)\n",
    "    n = 300\n",
    "    qs = reciprocal_space_shell(cryst, radius, n)\n",
    "    is = intensities_broadened(swt, qs, energies, formula)\n",
    "    output[i, :] = sum(is, dims=1) / size(is, 1)\n",
    "end\n",
    "\n",
    "fig = Figure()\n",
    "ax = Axis(fig[1,1]; xlabel=\"Q (Å⁻¹)\", ylabel=\"ω (meV)\")\n",
    "heatmap!(ax, radii, energies, output, colormap=:gnuplot2)\n",
    "fig"
   ],
   "metadata": {},
   "execution_count": null
  },
  {
   "cell_type": "markdown",
   "source": [
    "This result can be compared to experimental neutron scattering data\n",
    "from Fig. 5 of [Ge et al.](https://doi.org/10.1103/PhysRevB.96.064413)\n",
    "\n",
    "<img width=\"95%\" src=\"https://raw.githubusercontent.com/SunnySuite/Sunny.jl/main/docs/src/assets/CoRh2O4_intensity.jpg\">"
   ],
   "metadata": {}
  }
 ],
 "nbformat_minor": 3,
 "metadata": {
  "language_info": {
   "file_extension": ".jl",
   "mimetype": "application/julia",
   "name": "julia",
   "version": "1.9.4"
  },
  "kernelspec": {
   "name": "julia-1.9",
   "display_name": "Julia 1.9.4",
   "language": "julia"
  }
 },
 "nbformat": 4
}
