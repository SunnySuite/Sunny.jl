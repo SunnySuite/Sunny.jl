{
 "cells": [
  {
   "cell_type": "markdown",
   "source": [
    "# 7. Long-range dipole interactions\n",
    "\n",
    "This example demonstrates Sunny's ability to incorporate long-range dipole\n",
    "interactions using Ewald summation. The calculation reproduces previous\n",
    "results in  [Del Maestro and Gingras, J. Phys.: Cond. Matter, **16**, 3339\n",
    "(2004)](https://arxiv.org/abs/cond-mat/0403494)."
   ],
   "metadata": {}
  },
  {
   "outputs": [],
   "cell_type": "code",
   "source": [
    "using Sunny, GLMakie"
   ],
   "metadata": {},
   "execution_count": null
  },
  {
   "cell_type": "markdown",
   "source": [
    "Create a Pyrochlore crystal from spacegroup 227."
   ],
   "metadata": {}
  },
  {
   "outputs": [],
   "cell_type": "code",
   "source": [
    "latvecs = lattice_vectors(10.19, 10.19, 10.19, 90, 90, 90)\n",
    "positions = [[0, 0, 0]]\n",
    "cryst = Crystal(latvecs, positions, 227, setting=\"2\")\n",
    "\n",
    "sys = System(cryst, (1, 1, 1), [SpinInfo(1, S=7/2, g=2)], :dipole, seed=2)\n",
    "\n",
    "J1 = 0.304 * meV_per_K\n",
    "set_exchange!(sys, J1, Bond(1, 2, [0,0,0]))"
   ],
   "metadata": {},
   "execution_count": null
  },
  {
   "cell_type": "markdown",
   "source": [
    "Reshape to the primitive cell with four atoms. To facilitate indexing, the\n",
    "function `position_to_site` accepts positions with respect to the\n",
    "original (cubic) cell."
   ],
   "metadata": {}
  },
  {
   "outputs": [],
   "cell_type": "code",
   "source": [
    "shape = [1/2 1/2 0; 0 1/2 1/2; 1/2 0 1/2]\n",
    "sys_prim = reshape_supercell(sys, shape)\n",
    "\n",
    "set_dipole!(sys_prim, [+1, -1, 0], position_to_site(sys_prim, [0, 0, 0]))\n",
    "set_dipole!(sys_prim, [-1, +1, 0], position_to_site(sys_prim, [1/4, 1/4, 0]))\n",
    "set_dipole!(sys_prim, [+1, +1, 0], position_to_site(sys_prim, [1/4, 0, 1/4]))\n",
    "set_dipole!(sys_prim, [-1, -1, 0], position_to_site(sys_prim, [0, 1/4, 1/4]))\n",
    "\n",
    "plot_spins(sys_prim; ghost_radius=8, color=[:red,:blue,:yellow,:purple])"
   ],
   "metadata": {},
   "execution_count": null
  },
  {
   "cell_type": "markdown",
   "source": [
    "Calculate dispersions with and without long-range dipole interactions. The\n",
    "high-symmetry k-points are specified with respect to the conventional cubic\n",
    "cell."
   ],
   "metadata": {}
  },
  {
   "outputs": [],
   "cell_type": "code",
   "source": [
    "q_points = [[0,0,0], [0,1,0], [1,1/2,0], [1/2,1/2,1/2], [3/4,3/4,0], [0,0,0]]\n",
    "q_labels = [\"Γ\",\"X\",\"W\",\"L\",\"K\",\"Γ\"]\n",
    "density = 150\n",
    "path, xticks = reciprocal_space_path(cryst, q_points, density)\n",
    "xticks = (xticks[1], q_labels)\n",
    "\n",
    "swt = SpinWaveTheory(sys_prim)\n",
    "disp1 = dispersion(swt, path)\n",
    "\n",
    "sys_prim_dd = clone_system(sys_prim)\n",
    "enable_dipole_dipole!(sys_prim_dd)\n",
    "swt = SpinWaveTheory(sys_prim_dd)\n",
    "disp2 = dispersion(swt, path)\n",
    "\n",
    "sys_prim_tdd = clone_system(sys_prim)\n",
    "modify_exchange_with_truncated_dipole_dipole!(sys_prim_tdd, 5.0)\n",
    "swt = SpinWaveTheory(sys_prim_tdd)\n",
    "disp3 = dispersion(swt, path);"
   ],
   "metadata": {},
   "execution_count": null
  },
  {
   "cell_type": "markdown",
   "source": [
    "To reproduce Fig. 2 of [Del Maestro and\n",
    "Gingras](https://arxiv.org/abs/cond-mat/0403494), an empirical rescaling of\n",
    "energy is necessary."
   ],
   "metadata": {}
  },
  {
   "outputs": [],
   "cell_type": "code",
   "source": [
    "fudge_factor = 1/2 # To reproduce prior work\n",
    "\n",
    "fig = Figure(size=(900,300))\n",
    "\n",
    "ax = Axis(fig[1,1]; xlabel=\"\", ylabel=\"Energy (K)\", xticks, xticklabelrotation=0)\n",
    "ylims!(ax, 0, 2)\n",
    "xlims!(ax, 1, size(disp1, 1))\n",
    "for i in axes(disp1, 2)\n",
    "    lines!(ax, 1:length(disp1[:,i]), fudge_factor*disp1[:,i]/meV_per_K)\n",
    "end\n",
    "\n",
    "ax = Axis(fig[1,2]; xlabel=\"\", ylabel=\"Energy (K)\", xticks, xticklabelrotation=0)\n",
    "ylims!(ax, 0.0, 3)\n",
    "xlims!(ax, 1, size(disp2, 1))\n",
    "for i in axes(disp2, 2)\n",
    "    lines!(ax, 1:length(disp2[:,i]), fudge_factor*disp2[:,i]/meV_per_K)\n",
    "end\n",
    "\n",
    "for i in axes(disp3, 2)\n",
    "    lines!(ax, 1:length(disp3[:,i]), fudge_factor*disp3[:,i]/meV_per_K; color=:gray, linestyle=:dash)\n",
    "end\n",
    "\n",
    "fig"
   ],
   "metadata": {},
   "execution_count": null
  }
 ],
 "nbformat_minor": 3,
 "metadata": {
  "language_info": {
   "file_extension": ".jl",
   "mimetype": "application/julia",
   "name": "julia",
   "version": "1.9.4"
  },
  "kernelspec": {
   "name": "julia-1.9",
   "display_name": "Julia 1.9.4",
   "language": "julia"
  }
 },
 "nbformat": 4
}
