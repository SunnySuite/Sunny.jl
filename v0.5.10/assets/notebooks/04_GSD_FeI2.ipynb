{
 "cells": [
  {
   "cell_type": "markdown",
   "source": [
    "# 4. Generalized spin dynamics of FeI₂ at finite *T*"
   ],
   "metadata": {}
  },
  {
   "outputs": [],
   "cell_type": "code",
   "source": [
    "using Sunny, LinearAlgebra, GLMakie"
   ],
   "metadata": {},
   "execution_count": null
  },
  {
   "cell_type": "markdown",
   "source": [
    "In the previous FeI₂ tutorial\"), we used multi-flavor spin wave theory to calculate the\n",
    "dynamical structure factor. Here, we perform a similar calculation using a\n",
    "[generalized classical spin dynamics](https://arxiv.org/abs/2209.01265) that\n",
    "captures the coupled dynamics of spin dipoles and quadrupoles for\n",
    "configurations sampled at finite temperature.\n",
    "\n",
    "Compared to spin wave theory, simulations using classical dynamics will be\n",
    "slower and limited in $k$-space resolution. However, they make it is possible\n",
    "to study [temperature driven phase\n",
    "transitions](https://arxiv.org/abs/2310.19905). They may also be used to study\n",
    "out-of-equilibrium systems (e.g., relaxation of spin glasses), or systems with\n",
    "quenched inhomogeneities that require large simulation volumes.\n",
    "\n",
    "In this tutorial, we show how to study the finite temperature dynamics of FeI₂\n",
    "using the classical approach. It is important to stress that the estimation of\n",
    "$S(𝐪,ω)$ with classical dynamics is fundamentally a Monte Carlo\n",
    "calculation: sample spin configurations are drawn from thermal equilibrium and\n",
    "used as initial conditions for generating dissipationless trajectories. The\n",
    "correlations of these trajectories are then averaged and used to calculate\n",
    "scattering intensities. It is therefore important to ensure that the initial\n",
    "spin configurations are sampled appropriately and that sufficient statistics\n",
    "are collected. We will demonstrate one approach here.\n",
    "\n",
    "As an overview, we will:\n",
    "\n",
    "1. Identify the ground state.\n",
    "2. Measure correlation data describing the excitations around that ground\n",
    "   state.\n",
    "3. Use the correlation data to compute scattering intensities.\n",
    "\n",
    "To begin, please follow our previous tutorial\") to initialize a FeI₂ `sys` with lattice\n",
    "dimensions $4×4×4$."
   ],
   "metadata": {}
  },
  {
   "outputs": [],
   "cell_type": "code",
   "source": [
    "a = b = 4.05012#hide\n",
    "c = 6.75214#hide\n",
    "latvecs = lattice_vectors(a, b, c, 90, 90, 120)#hide\n",
    "positions = [[0,0,0], [1/3, 2/3, 1/4], [2/3, 1/3, 3/4]]#hide\n",
    "types = [\"Fe\", \"I\", \"I\"]#hide\n",
    "FeI2 = Crystal(latvecs, positions; types)#hide\n",
    "cryst = subcrystal(FeI2, \"Fe\")#hide\n",
    "sys = System(cryst, (4,4,4), [SpinInfo(1,S=1,g=2)], :SUN, seed=2)#hide\n",
    "J1pm   = -0.236#hide\n",
    "J1pmpm = -0.161#hide\n",
    "J1zpm  = -0.261#hide\n",
    "J2pm   = 0.026#hide\n",
    "J3pm   = 0.166#hide\n",
    "J′0pm  = 0.037#hide\n",
    "J′1pm  = 0.013#hide\n",
    "J′2apm = 0.068#hide\n",
    "J1zz   = -0.236#hide\n",
    "J2zz   = 0.113#hide\n",
    "J3zz   = 0.211#hide\n",
    "J′0zz  = -0.036#hide\n",
    "J′1zz  = 0.051#hide\n",
    "J′2azz = 0.073#hide\n",
    "J1xx = J1pm + J1pmpm#hide\n",
    "J1yy = J1pm - J1pmpm#hide\n",
    "J1yz = J1zpm#hide\n",
    "set_exchange!(sys, [J1xx 0.0 0.0; 0.0 J1yy J1yz; 0.0 J1yz J1zz], Bond(1,1,[1,0,0]))#hide\n",
    "set_exchange!(sys, [J2pm 0.0 0.0; 0.0 J2pm 0.0; 0.0 0.0 J2zz], Bond(1,1,[1,2,0]))#hide\n",
    "set_exchange!(sys, [J3pm 0.0 0.0; 0.0 J3pm 0.0; 0.0 0.0 J3zz], Bond(1,1,[2,0,0]))#hide\n",
    "set_exchange!(sys, [J′0pm 0.0 0.0; 0.0 J′0pm 0.0; 0.0 0.0 J′0zz], Bond(1,1,[0,0,1]))#hide\n",
    "set_exchange!(sys, [J′1pm 0.0 0.0; 0.0 J′1pm 0.0; 0.0 0.0 J′1zz], Bond(1,1,[1,0,1]))#hide\n",
    "set_exchange!(sys, [J′2apm 0.0 0.0; 0.0 J′2apm 0.0; 0.0 0.0 J′2azz], Bond(1,1,[1,2,1]))#hide\n",
    "D = 2.165#hide\n",
    "set_onsite_coupling!(sys, S -> -D*S[3]^2, 1)#hide\n",
    "sys"
   ],
   "metadata": {},
   "execution_count": null
  },
  {
   "cell_type": "markdown",
   "source": [
    "## Finding a ground state"
   ],
   "metadata": {}
  },
  {
   "cell_type": "markdown",
   "source": [
    "As previously observed\"), direct energy minimization is susceptible to trapping in a local\n",
    "energy minimum."
   ],
   "metadata": {}
  },
  {
   "outputs": [],
   "cell_type": "code",
   "source": [
    "randomize_spins!(sys)\n",
    "minimize_energy!(sys)\n",
    "plot_spins(sys; color=[s[3] for s in sys.dipoles])"
   ],
   "metadata": {},
   "execution_count": null
  },
  {
   "cell_type": "markdown",
   "source": [
    "Alternatively, one can search for the ordered state by sampling spin\n",
    "configurations from thermal equilibrium. Sunny supports this via a\n",
    "`Langevin` dynamics of SU(_N_) coherent states. This dynamics involves\n",
    "a dimensionless `damping` magnitude and target temperature `kT` for thermal\n",
    "fluctuations."
   ],
   "metadata": {}
  },
  {
   "outputs": [],
   "cell_type": "code",
   "source": [
    "kT = 0.2  # Temperature in meV\n",
    "langevin = Langevin(; damping=0.2, kT)"
   ],
   "metadata": {},
   "execution_count": null
  },
  {
   "cell_type": "markdown",
   "source": [
    "Use `suggest_timestep` to select an integration timestep for the given\n",
    "error tolerance, e.g. `tol=1e-2`. The spin configuration in `sys` should\n",
    "ideally be relaxed into thermal equilibrium, but the current, energy-minimized\n",
    "configuration will also work reasonably well."
   ],
   "metadata": {}
  },
  {
   "outputs": [],
   "cell_type": "code",
   "source": [
    "suggest_timestep(sys, langevin; tol=1e-2)\n",
    "langevin.dt = 0.027;"
   ],
   "metadata": {},
   "execution_count": null
  },
  {
   "cell_type": "markdown",
   "source": [
    "Sample spin configurations using Langevin dynamics. We have carefully selected\n",
    "a temperature of 0.2 eV that is below the ordering temperature, but large\n",
    "enough to that the dynamics can overcome local energy barriers and annihilate\n",
    "defects."
   ],
   "metadata": {}
  },
  {
   "outputs": [],
   "cell_type": "code",
   "source": [
    "for _ in 1:10_000\n",
    "    step!(sys, langevin)\n",
    "end"
   ],
   "metadata": {},
   "execution_count": null
  },
  {
   "cell_type": "markdown",
   "source": [
    "Calling `suggest_timestep` shows that thermalization has not\n",
    "substantially altered the suggested `dt`."
   ],
   "metadata": {}
  },
  {
   "outputs": [],
   "cell_type": "code",
   "source": [
    "suggest_timestep(sys, langevin; tol=1e-2)"
   ],
   "metadata": {},
   "execution_count": null
  },
  {
   "cell_type": "markdown",
   "source": [
    "Although thermal fluctuations are present, the correct antiferromagnetic order\n",
    "(2 up, 2 down) has been found."
   ],
   "metadata": {}
  },
  {
   "outputs": [],
   "cell_type": "code",
   "source": [
    "plot_spins(sys; color=[s[3] for s in sys.dipoles])"
   ],
   "metadata": {},
   "execution_count": null
  },
  {
   "cell_type": "markdown",
   "source": [
    "For other phases, it can be much harder to find thermal equilibrium, and more\n",
    "complicated sampling procedures may be necessary."
   ],
   "metadata": {}
  },
  {
   "cell_type": "markdown",
   "source": [
    "## Calculating Thermal-Averaged Correlations $\\langle S^{\\alpha\\beta}(𝐪,ω)\\rangle$\n",
    "\n",
    "Our aim is to study the classical spin dynamics for states sampled in thermal\n",
    "equilibrium. To minimize finite size effects, and achieve sufficient momentum\n",
    "space resolution, we should significantly enlarge the system volume. The\n",
    "function `resize_supercell` takes new dimensions as multiples of the\n",
    "unit cell lattice vectors."
   ],
   "metadata": {}
  },
  {
   "outputs": [],
   "cell_type": "code",
   "source": [
    "sys_large = resize_supercell(sys, (16,16,4)) # 16x16x4 copies of the original unit cell\n",
    "plot_spins(sys_large; color=[s[3] for s in sys_large.dipoles])"
   ],
   "metadata": {},
   "execution_count": null
  },
  {
   "cell_type": "markdown",
   "source": [
    "Now we will re-thermalize the system to a configuration just above the\n",
    "ordering temperature. Sunny expects energies in meV by default, so\n",
    "we use `meV_per_K` to convert from kelvin."
   ],
   "metadata": {}
  },
  {
   "outputs": [],
   "cell_type": "code",
   "source": [
    "kT = 3.5 * meV_per_K     # 3.5K ≈ 0.30 meV\n",
    "langevin.kT = kT\n",
    "for _ in 1:10_000\n",
    "    step!(sys_large, langevin)\n",
    "end"
   ],
   "metadata": {},
   "execution_count": null
  },
  {
   "cell_type": "markdown",
   "source": [
    "With this increase in temperature, the suggested timestep has increased slightly."
   ],
   "metadata": {}
  },
  {
   "outputs": [],
   "cell_type": "code",
   "source": [
    "suggest_timestep(sys_large, langevin; tol=1e-2)\n",
    "langevin.dt = 0.040;"
   ],
   "metadata": {},
   "execution_count": null
  },
  {
   "cell_type": "markdown",
   "source": [
    "The next step is to collect correlation data $S^{\\alpha\\beta}$. This will\n",
    "involve sampling spin configurations from thermal equilibrium, and then\n",
    "integrating [an energy-conserving generalized classical spin\n",
    "dynamics](https://arxiv.org/abs/2204.07563) to collect Fourier-space\n",
    "information about normal modes. Quantization of these modes yields the\n",
    "magnons, and the associated dynamical spin-spin correlations can be compared\n",
    "with neutron scattering intensities $S^{\\alpha\\beta}(q,\\omega)$. Because\n",
    "this a real-space calculation, data is only available for discrete $q$ modes\n",
    "(the resolution scales like inverse system size).\n",
    "\n",
    "The function `dynamical_correlations` creates an object to store\n",
    "sampled correlations. The integration timestep `dt` used for measuring\n",
    "dynamical correlations can be somewhat larger than that used by the Langevin\n",
    "dynamics. We must also specify `nω` and `ωmax`, which determine the\n",
    "frequencies over which intensity data will be collected."
   ],
   "metadata": {}
  },
  {
   "outputs": [],
   "cell_type": "code",
   "source": [
    "dt = 2*langevin.dt\n",
    "ωmax = 7.5  # Maximum energy to resolve (meV)\n",
    "nω = 120    # Number of energies to resolve\n",
    "sc = dynamical_correlations(sys_large; dt, nω, ωmax)"
   ],
   "metadata": {},
   "execution_count": null
  },
  {
   "cell_type": "markdown",
   "source": [
    "The function `add_sample!` will collect data by running a dynamical\n",
    "trajectory starting from the current system configuration."
   ],
   "metadata": {}
  },
  {
   "outputs": [],
   "cell_type": "code",
   "source": [
    "add_sample!(sc, sys_large)"
   ],
   "metadata": {},
   "execution_count": null
  },
  {
   "cell_type": "markdown",
   "source": [
    "To collect additional data, it is required to re-sample the spin configuration\n",
    "from the thermal distribution. For efficiency, the dynamics should be run long\n",
    "enough that consecutive samples are uncorrelated."
   ],
   "metadata": {}
  },
  {
   "outputs": [],
   "cell_type": "code",
   "source": [
    "for _ in 1:2\n",
    "    for _ in 1:1000               # Enough steps to decorrelate spins\n",
    "        step!(sys_large, langevin)\n",
    "    end\n",
    "    add_sample!(sc, sys_large)\n",
    "end"
   ],
   "metadata": {},
   "execution_count": null
  },
  {
   "cell_type": "markdown",
   "source": [
    "Now, `sc` has more samples included:"
   ],
   "metadata": {}
  },
  {
   "outputs": [],
   "cell_type": "code",
   "source": [
    "sc"
   ],
   "metadata": {},
   "execution_count": null
  },
  {
   "cell_type": "markdown",
   "source": [
    "## Computing Scattering Intensities"
   ],
   "metadata": {}
  },
  {
   "cell_type": "markdown",
   "source": [
    "With the thermally-averaged correlation data $\\langle S^{\\alpha\\beta}(q,\\omega)\\rangle$\n",
    "in hand, we now need to specify how to extract a scattering intensity from this information.\n",
    "This is done by constructing an `intensity_formula`.\n",
    "By way of example, we will use a formula which computes the trace of the structure\n",
    "factor and applies a classical-to-quantum temperature-dependent rescaling `kT`."
   ],
   "metadata": {}
  },
  {
   "outputs": [],
   "cell_type": "code",
   "source": [
    "formula = intensity_formula(sc, :trace; kT)"
   ],
   "metadata": {},
   "execution_count": null
  },
  {
   "cell_type": "markdown",
   "source": [
    "Recall that $\\langle S^{\\alpha\\beta}(q,\\omega)\\rangle$ is only available at certain discrete\n",
    "$q$ values, due to the finite lattice size.\n",
    "There are two basic approaches to handling this discreteness.\n",
    "The first approach is to interpolate between the available\n",
    "data using `intensities_interpolated`. For example, we can plot single-$q$ slices\n",
    "at (0,0,0) and (π,π,π) using this method:"
   ],
   "metadata": {}
  },
  {
   "outputs": [],
   "cell_type": "code",
   "source": [
    "qs = [[0, 0, 0], [0.5, 0.5, 0.5]]\n",
    "is = intensities_interpolated(sc, qs, formula; interpolation = :round)\n",
    "\n",
    "ωs = available_energies(sc)\n",
    "fig = lines(ωs, is[1,:]; axis=(xlabel=\"meV\", ylabel=\"Intensity\"), label=\"(0,0,0)\")\n",
    "lines!(ωs, is[2,:]; label=\"(π,π,π)\")\n",
    "axislegend()\n",
    "fig"
   ],
   "metadata": {},
   "execution_count": null
  },
  {
   "cell_type": "markdown",
   "source": [
    "The resolution in energy can be improved by increasing `nω`, and the\n",
    "statistical accuracy can be improved by collecting additional samples from the\n",
    "thermal equilibrium.\n",
    "\n",
    "For real calculations, one often wants to apply further corrections and more\n",
    "accurate formulas. Here, we apply `FormFactor` corrections appropriate\n",
    "for `Fe2` magnetic ions, and a dipole polarization correction `:perp`."
   ],
   "metadata": {}
  },
  {
   "outputs": [],
   "cell_type": "code",
   "source": [
    "formfactors = [FormFactor(\"Fe2\"; g_lande=3/2)]\n",
    "new_formula = intensity_formula(sc, :perp; kT, formfactors = formfactors)"
   ],
   "metadata": {},
   "execution_count": null
  },
  {
   "cell_type": "markdown",
   "source": [
    "Frequently, one wants to extract energy intensities along lines that connect\n",
    "special wave vectors--a so-called \"spaghetti plot\". The function\n",
    "`reciprocal_space_path` creates an appropriate horizontal axis for\n",
    "this plot by linearly sampling between provided $q$-points with a given\n",
    "sample density. The number of sample points between two wavevectors `q1` and\n",
    "`q2` is given by `dist*density` where `dist = norm(cryst.recipvecs * (q1 -\n",
    "q2))` is measured in the global frame."
   ],
   "metadata": {}
  },
  {
   "outputs": [],
   "cell_type": "code",
   "source": [
    "points = [[0,   0, 0],  # List of wave vectors that define a path\n",
    "          [1,   0, 0],\n",
    "          [0,   1, 0],\n",
    "          [1/2, 0, 0],\n",
    "          [0,   1, 0],\n",
    "          [0,   0, 0]]\n",
    "density = 40\n",
    "path, xticks = reciprocal_space_path(cryst, points, density);"
   ],
   "metadata": {},
   "execution_count": null
  },
  {
   "cell_type": "markdown",
   "source": [
    "Again using `intensities_interpolated`, we can evaluate the (interpolated) intensity\n",
    "at each point on the `path`.\n",
    "Since scattering intensities are only available at a certain discrete $(Q,\\omega)$\n",
    "points, the intensity on the path can be calculated by interpolating between these\n",
    "discrete points:"
   ],
   "metadata": {}
  },
  {
   "outputs": [],
   "cell_type": "code",
   "source": [
    "is_interpolated = intensities_interpolated(sc, path, new_formula;\n",
    "    interpolation = :linear,       # Interpolate between available wave vectors\n",
    ");\n",
    "# Add artificial broadening\n",
    "is_interpolated_broadened = broaden_energy(sc, is, (ω, ω₀) -> lorentzian(fwhm=0.1)(ω-ω₀));"
   ],
   "metadata": {},
   "execution_count": null
  },
  {
   "cell_type": "markdown",
   "source": [
    "The second approach to handle the discreteness of the data is to bin the intensity\n",
    "at the discrete points into the bins of a histogram.\n",
    "First, the five sub-histograms are set up using `reciprocal_space_path_bins` in\n",
    "analogy to `reciprocal_space_path`."
   ],
   "metadata": {}
  },
  {
   "outputs": [],
   "cell_type": "code",
   "source": [
    "cut_width = 0.3\n",
    "density = 15\n",
    "paramsList, markers, ranges = reciprocal_space_path_bins(sc,points,density,cut_width);"
   ],
   "metadata": {},
   "execution_count": null
  },
  {
   "cell_type": "markdown",
   "source": [
    "Then, the intensity data is computed using `intensities_binned` for each sub-histogram:"
   ],
   "metadata": {}
  },
  {
   "outputs": [],
   "cell_type": "code",
   "source": [
    "total_bins = ranges[end][end]\n",
    "energy_bins = paramsList[1].numbins[4]\n",
    "is_binned = zeros(Float64,total_bins,energy_bins)\n",
    "integrated_kernel = integrated_lorentzian(fwhm=0.1) # Lorentzian broadening\n",
    "for k in eachindex(paramsList)\n",
    "    bin_data, counts = intensities_binned(sc,paramsList[k], new_formula;\n",
    "        integrated_kernel = integrated_kernel\n",
    "    )\n",
    "    is_binned[ranges[k],:] = bin_data[:,1,1,:] ./ counts[:,1,1,:]\n",
    "end"
   ],
   "metadata": {},
   "execution_count": null
  },
  {
   "cell_type": "markdown",
   "source": [
    "The graph produced by interpolating (top) is similar to the one produced by binning (bottom):"
   ],
   "metadata": {}
  },
  {
   "outputs": [],
   "cell_type": "code",
   "source": [
    "fig = Figure()\n",
    "ax_top = Axis(fig[1,1],ylabel = \"meV\",xticklabelrotation=π/8,xticklabelsize=12;xticks)\n",
    "ax_bottom = Axis(fig[2,1],ylabel = \"meV\",xticks = (markers, string.(points)),xticklabelrotation=π/8,xticklabelsize=12)\n",
    "\n",
    "heatmap!(ax_top,1:size(is_interpolated,1), ωs, is_interpolated;\n",
    "    colorrange=(0.0,0.07),\n",
    ")\n",
    "\n",
    "heatmap!(ax_bottom,1:size(is_binned,1), ωs, is_binned;\n",
    "    colorrange=(0.0,0.05),\n",
    ")\n",
    "\n",
    "fig"
   ],
   "metadata": {},
   "execution_count": null
  },
  {
   "cell_type": "markdown",
   "source": [
    "Note that we have clipped the colors in order to make the higher-energy\n",
    "excitations more visible."
   ],
   "metadata": {}
  },
  {
   "cell_type": "markdown",
   "source": [
    "# Unconventional RLU Systems and Constant Energy Cuts"
   ],
   "metadata": {}
  },
  {
   "cell_type": "markdown",
   "source": [
    "Often it is useful to plot cuts across multiple wave vectors but at a single\n",
    "energy. We'll pick an energy,"
   ],
   "metadata": {}
  },
  {
   "outputs": [],
   "cell_type": "code",
   "source": [
    "ωidx = 60\n",
    "target_ω = ωs[ωidx]"
   ],
   "metadata": {},
   "execution_count": null
  },
  {
   "cell_type": "markdown",
   "source": [
    "and take a constant-energy cut at that energy.\n",
    "The most straightforward way is to make a plot whose axes are aligned with\n",
    "the conventional reciprocal lattice of the crystal.\n",
    "This is accomplished using `unit_resolution_binning_parameters`:"
   ],
   "metadata": {}
  },
  {
   "outputs": [],
   "cell_type": "code",
   "source": [
    "params = unit_resolution_binning_parameters(sc)\n",
    "params.binstart[1:2] .= -1 # Expand plot range slightly\n",
    "\n",
    "# Set energy integration range\n",
    "omega_width = 0.3\n",
    "params.binstart[4] = target_ω - (omega_width/2)\n",
    "params.binend[4] = target_ω # `binend` should be inside (e.g. at the center) of the range\n",
    "params.binwidth[4] = omega_width\n",
    "\n",
    "integrate_axes!(params, axes = 3) # Integrate out z direction entirely\n",
    "\n",
    "params"
   ],
   "metadata": {},
   "execution_count": null
  },
  {
   "cell_type": "markdown",
   "source": [
    "In each of the following plots, black dashed lines represent (direct) lattice vectors.\n",
    "Since these plots are in reciprocal space, direct lattice vectors are represented\n",
    "as covectors (i.e. coordinate grids) instead of as arrows."
   ],
   "metadata": {}
  },
  {
   "outputs": [],
   "cell_type": "code",
   "source": [
    "is, counts = intensities_binned(sc,params,new_formula)\n",
    "\n",
    "fig = Figure()\n",
    "ax = Axis(fig[1,1];\n",
    "    title=\"Δω=0.3 meV (Binned)\", aspect=true,\n",
    "    xlabel = \"[H, 0, 0]\",\n",
    "    ylabel = \"[0, K, 0]\"\n",
    ")\n",
    "bcs = axes_bincenters(params)\n",
    "hm = heatmap!(ax,bcs[1],bcs[2],is[:,:,1,1] ./ counts[:,:,1,1])\n",
    "function add_lines!(ax,params)#hide\n",
    "  bes = Sunny.axes_binedges(params)#hide\n",
    "  hrange = range(-2,2,length=17)#hide\n",
    "  linesegments!(ax,[(Point2f(params.covectors[1,1:3] ⋅ [h,-10,0],params.covectors[2,1:3] ⋅ [h,-10,0]),Point2f(params.covectors[1,1:3] ⋅ [h,10,0],params.covectors[2,1:3] ⋅ [h,10,0])) for h = hrange],linestyle=:dash,color=:black)#hide\n",
    "  krange = range(-2,2,length=17)#hide\n",
    "  linesegments!(ax,[(Point2f(params.covectors[1,1:3] ⋅ [-10,k,0],params.covectors[2,1:3] ⋅ [-10,k,0]),Point2f(params.covectors[1,1:3] ⋅ [10,k,0],params.covectors[2,1:3] ⋅ [10,k,0])) for k = krange],linestyle=:dash,color=:black)#hide\n",
    "  xlims!(ax,bes[1][1],bes[1][end])#hide\n",
    "  ylims!(ax,bes[2][1],bes[2][end])#hide\n",
    "end#hide\n",
    "add_lines!(ax,params)\n",
    "Colorbar(fig[1,2], hm);\n",
    "fig"
   ],
   "metadata": {},
   "execution_count": null
  },
  {
   "cell_type": "markdown",
   "source": [
    "In the above plot, the dashed-line (direct) lattice vectors are clearly orthogonal.\n",
    "However, we know that in real space, the lattice vectors $a$ and $b$ are *not* orthogonal, but rather\n",
    "point along the edges of a hexagon (see lower left corner):\n",
    "\n",
    "\n",
    "<br><img src=\"https://raw.githubusercontent.com/SunnySuite/Sunny.jl/main/docs/src/assets/FeI2_crystal.jpg\" width=\"400\"><br>\n",
    "\n",
    "\n",
    "Thus, plotting the direct lattice vectors as orthogonal (even in reciprocal space) is somewhat misleading.\n",
    "Worse yet, the `[H,0,0]` by `[0,K,0]` plot apparently loses the 6-fold symmetry of the crystal!\n",
    "Lastly, if one works out the components of the real-space metric with respect to the axes of the plot,\n",
    "one finds that there are non-zero off-diagonal entries,"
   ],
   "metadata": {}
  },
  {
   "outputs": [],
   "cell_type": "code",
   "source": [
    "latvecs = sys.crystal.latvecs\n",
    "metric = latvecs' * I(3) * latvecs"
   ],
   "metadata": {},
   "execution_count": null
  },
  {
   "cell_type": "markdown",
   "source": [
    "so real-space rotations and angles map into reciprocal space rotations angles in a complicated way.\n",
    "\n",
    "To resolve these important issues, we want to use axes which are orthogonal (i.e. they diagonalize\n",
    "the metric and solve all of the problems just mentioned). The canonical choice is to use\n",
    "the combination $\\frac{1}{2}a + b$ of lattice vectors (equiv. $a^* - \\frac{1}{2}b^*$), which is orthogonal to $a$:"
   ],
   "metadata": {}
  },
  {
   "outputs": [],
   "cell_type": "code",
   "source": [
    "(latvecs * [1/2,1,0]) ⋅ (latvecs * [1,0,0]) == 0"
   ],
   "metadata": {},
   "execution_count": null
  },
  {
   "cell_type": "markdown",
   "source": [
    "This new vector $\\frac{1}{2}a+b$ is visibly orthogonal to $a$ in real space:"
   ],
   "metadata": {}
  },
  {
   "outputs": [],
   "cell_type": "code",
   "source": [
    "f = Figure()#hide\n",
    "ax = Axis(f[1,1])#hide\n",
    "arrows!(ax,[Point2f(0,0),Point2f(latvecs[1:2,1] ./ 2)],[Vec2f(latvecs[1:2,1] ./ 2), Vec2f(latvecs[1:2,2])],arrowcolor = :blue,arrowsize = 30.,linewidth = 5.,linecolor = :blue)#hide\n",
    "arrows!(ax,[Point2f(0,0)],[Vec2f(latvecs[1:2,:] * [1/2,1,0])],arrowcolor = :red,arrowsize = 30.,linewidth = 5.,linecolor = :red, linestyle = :dash)#hide\n",
    "scatter!(ax,[Point2f(latvecs[1:2,:] * [a,b,0]) for a in -1:1, b in -1:1][:],color = :black)#hide\n",
    "annotations!(ax,[\"0\",\"0+b\",\"0+a\", \"a/2\", \"b\"],[Point2f(0,-0.3),Point2f(latvecs[1:2,2]) .- Vec2f(0,0.3),Point2f(latvecs[1:2,1]) .- Vec2f(0,0.3),Point2f(latvecs[1:2,1] ./ 4) .- Vec2f(0,0.3),Point2f(latvecs[1:2,1] ./ 2) .+ Vec2f(latvecs[1:2,2] ./ 2) .+ Vec2f(0.3,0.3)],color=[:black,:black,:black,:blue,:blue])#hide\n",
    "f#hide"
   ],
   "metadata": {},
   "execution_count": null
  },
  {
   "cell_type": "markdown",
   "source": [
    "To use \"projection onto the new vector\" as a histogram axis, only a single change is needed to the binning parameters.\n",
    "The second covector (previously $b$) must be swapped out for $\\frac{1}{2}a + b$ (recall that reciprocal space covectors, such\n",
    "as those used in `BinningParameters` correspond to direct space vectors)."
   ],
   "metadata": {}
  },
  {
   "outputs": [],
   "cell_type": "code",
   "source": [
    "params.covectors[2,1:3] = [1/2,1,0] # [1/2,1,0] times [a;b;c] is (a/2 + b)\n",
    "params#hide"
   ],
   "metadata": {},
   "execution_count": null
  },
  {
   "cell_type": "markdown",
   "source": [
    "The second axis of the histogram now agrees with what is conventionally labelled as `[H,-H/2,0]`."
   ],
   "metadata": {}
  },
  {
   "cell_type": "markdown",
   "source": [
    "!!! warning \"Length of the new vector\"\n",
    "\n",
    "    Note that, although $\\frac{1}{2}a+b$ is orthogonal to $a$, it is not the same length as $a$.\n",
    "    Instead, it is `sqrt(3/4)` times as long. Note the unsymmetrical axes labels in the plots that\n",
    "    follow as a direct result of this!"
   ],
   "metadata": {}
  },
  {
   "outputs": [],
   "cell_type": "code",
   "source": [
    "# Zoom out horizontal axis\n",
    "params.binstart[1], params.binend[1] = -2, 2\n",
    "\n",
    "# Adjust vertical axis bounds to account for\n",
    "# length of a/2 + b\n",
    "params.binstart[2], params.binend[2] = -2 * sqrt(3/4), 2 * sqrt(3/4)\n",
    "\n",
    "# Re-compute in the new coordinate system\n",
    "is, counts = intensities_binned(sc,params,new_formula)\n",
    "\n",
    "fig = Figure(; size=(600,250))#hide\n",
    "ax_right = Axis(fig[1,3];#hide\n",
    "    title=\"ω≈$(round(target_ω, digits=2)) meV with Δω=0.3 meV (Binned)\", aspect=true,#hide\n",
    "    xlabel = \"[H, -1/2H, 0]\"#hide\n",
    ")#hide\n",
    "bcs = axes_bincenters(params)#hide\n",
    "hm_right = heatmap!(ax_right,bcs[1],bcs[2],is[:,:,1,1] ./ counts[:,:,1,1])#hide\n",
    "add_lines!(ax_right,params)\n",
    "Colorbar(fig[1,4], hm_right);#hide"
   ],
   "metadata": {},
   "execution_count": null
  },
  {
   "cell_type": "markdown",
   "source": [
    "For comparison purposes, we will make the same plot using\n",
    "`intensities_interpolated` to emulate zero-width bins.\n",
    "This time, it's more convenient to think in terms of reciprocal vectors $a^*$ and $b^*$.\n",
    "Now, our coordinate transformation consists of\n",
    "establishing a new, orthogonal basis\n",
    "to specify our wave vectors: $a^* - \\frac{1}{2}b^*$, $b^*$ and $c^*$.\n",
    "Writing this in matrix form allows us to sample a rectilinear grid of wave vectors in this frame.\n",
    "Finally, we'll convert these back into the original RLU system for input into Sunny."
   ],
   "metadata": {}
  },
  {
   "outputs": [],
   "cell_type": "code",
   "source": [
    "# New basis matrix\n",
    "A = [1    0 0\n",
    "     -1/2 1 0\n",
    "     0    0 1]\n",
    "\n",
    "# Define our grid of wave vectors\n",
    "npoints = 60\n",
    "as = range(-2, 2, npoints)\n",
    "bs = range(-3/√3, 3/√3, npoints)\n",
    "qs_ortho = [[a, b, 0] for a in as, b in bs]\n",
    "\n",
    "# Convert to original RLU system for input to Sunny\n",
    "qs = [A * q for q in qs_ortho]\n",
    "\n",
    "# Use interpolation to get intensities\n",
    "is = intensities_interpolated(sc, qs, new_formula; interpolation=:linear)\n",
    "\n",
    "ax_left = Axis(fig[1,2];#hide\n",
    "    title=\"ω≈$(round(ωs[ωidx], digits=2)) meV (Interpolated)\", aspect=true,#hide\n",
    "    xlabel = \"[H, -1/2H, 0]\", ylabel = \"[0, K, 0]\"#hide\n",
    ")#hide\n",
    "hm_left = heatmap!(ax_left, as, bs, is[:,:,ωidx])#hide\n",
    "add_lines!(ax_left,params)\n",
    "Colorbar(fig[1,1], hm_left);#hide\n",
    "fig"
   ],
   "metadata": {},
   "execution_count": null
  },
  {
   "cell_type": "markdown",
   "source": [
    "Now, not only are the dashed-line lattice vectors no longer misleadingly orthogonal,\n",
    "but the six-fold symmetry has been restored as well!\n",
    "Further, the metric has been diagonalized:"
   ],
   "metadata": {}
  },
  {
   "outputs": [],
   "cell_type": "code",
   "source": [
    "metric = (latvecs * inv(A'))' * I(3) * (latvecs * inv(A'))"
   ],
   "metadata": {},
   "execution_count": null
  },
  {
   "cell_type": "markdown",
   "source": [
    "Finally, we note that instantaneous structure factor data, $𝒮(𝐪)$, can be\n",
    "obtained from a dynamic structure factor with\n",
    "`instant_intensities_interpolated`. Here we'll reuse the grid of wave\n",
    "vectors we generated above."
   ],
   "metadata": {}
  },
  {
   "outputs": [],
   "cell_type": "code",
   "source": [
    "is_static = instant_intensities_interpolated(sc, qs, new_formula; interpolation = :linear)\n",
    "\n",
    "hm = heatmap(as, bs, is_static;\n",
    "    axis=(\n",
    "        title=\"Instantaneous Structure Factor\",\n",
    "        xlabel = \"[H, -1/2H, 0]\",\n",
    "        ylabel = \"[0, K, 0]\",\n",
    "        aspect=true\n",
    "    )\n",
    ")\n",
    "Colorbar(hm.figure[1,2], hm.plot)\n",
    "hm"
   ],
   "metadata": {},
   "execution_count": null
  }
 ],
 "nbformat_minor": 3,
 "metadata": {
  "language_info": {
   "file_extension": ".jl",
   "mimetype": "application/julia",
   "name": "julia",
   "version": "1.9.4"
  },
  "kernelspec": {
   "name": "julia-1.9",
   "display_name": "Julia 1.9.4",
   "language": "julia"
  }
 },
 "nbformat": 4
}
