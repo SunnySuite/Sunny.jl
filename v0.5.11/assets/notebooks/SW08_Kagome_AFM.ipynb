{
 "cells": [
  {
   "cell_type": "markdown",
   "source": [
    "# SW8 - Kagome Antiferromagnet\n",
    "\n",
    "This is a Sunny port of [SpinW Tutorial\n",
    "8](https://spinw.org/tutorials/08tutorial), originally authored by Bjorn Fak\n",
    "and Sandor Toth. The goal is to calculate the linear spin wave theory spectrum\n",
    "for the $\\sqrt{3} \\times \\sqrt{3}$ order of a Kagome antiferromagnet."
   ],
   "metadata": {}
  },
  {
   "cell_type": "markdown",
   "source": [
    "Load Packages"
   ],
   "metadata": {}
  },
  {
   "outputs": [],
   "cell_type": "code",
   "source": [
    "using Sunny, GLMakie"
   ],
   "metadata": {},
   "execution_count": null
  },
  {
   "cell_type": "markdown",
   "source": [
    "Build a `Crystal` with $P\\overline{3}$ space group,"
   ],
   "metadata": {}
  },
  {
   "outputs": [],
   "cell_type": "code",
   "source": [
    "a = 1\n",
    "latvecs = lattice_vectors(a, a, 10a, 90, 90, 120)\n",
    "cryst = Crystal(latvecs, [[1/2,0,0]], 147)"
   ],
   "metadata": {},
   "execution_count": null
  },
  {
   "cell_type": "markdown",
   "source": [
    "Build a `System` with antiferrogmanetic nearest neighbor exchange\n",
    "$J=1$."
   ],
   "metadata": {}
  },
  {
   "outputs": [],
   "cell_type": "code",
   "source": [
    "S = 1\n",
    "sys = System(cryst, (3, 3, 1), [SpinInfo(1; S, g=2)], :dipole)\n",
    "J = 1.0\n",
    "set_exchange!(sys, J, Bond(2, 3, [0, 0, 0]))"
   ],
   "metadata": {},
   "execution_count": null
  },
  {
   "cell_type": "markdown",
   "source": [
    "Initialize to an energy minimizing magnetic structure, for which\n",
    "nearest-neighbor spins are at 120° angles."
   ],
   "metadata": {}
  },
  {
   "outputs": [],
   "cell_type": "code",
   "source": [
    "k = -[1/3, 1/3, 0]\n",
    "axis = [0,0,1]\n",
    "set_spiral_order_on_sublattice!(sys, 1; k, axis, S0=[cos(0),sin(0),0])\n",
    "set_spiral_order_on_sublattice!(sys, 2; k, axis, S0=[cos(0),sin(0),0])\n",
    "set_spiral_order_on_sublattice!(sys, 3; k, axis, S0=[cos(2π/3),sin(2π/3),0])\n",
    "plot_spins(sys; dims=2)"
   ],
   "metadata": {},
   "execution_count": null
  },
  {
   "cell_type": "markdown",
   "source": [
    "Check energy. Each site participates in 4 bonds with energy $JS^2\\cos(2π/3)$.\n",
    "Factor of 1/2 avoids double counting."
   ],
   "metadata": {}
  },
  {
   "outputs": [],
   "cell_type": "code",
   "source": [
    "@assert energy_per_site(sys) ≈ (4/2)*J*S^2*cos(2π/3)"
   ],
   "metadata": {},
   "execution_count": null
  },
  {
   "cell_type": "markdown",
   "source": [
    "Define a path in reciprocal space."
   ],
   "metadata": {}
  },
  {
   "outputs": [],
   "cell_type": "code",
   "source": [
    "points_rlu = [[-1/2, 0, 0], [0, 0, 0], [1/2, 1/2, 0]]\n",
    "density = 100\n",
    "path, xticks = reciprocal_space_path(cryst, points_rlu, density);"
   ],
   "metadata": {},
   "execution_count": null
  },
  {
   "cell_type": "markdown",
   "source": [
    "Calculate discrete intensities"
   ],
   "metadata": {}
  },
  {
   "outputs": [],
   "cell_type": "code",
   "source": [
    "swt = SpinWaveTheory(sys)\n",
    "formula = intensity_formula(swt, :perp; kernel=delta_function_kernel)\n",
    "disp, intensity = intensities_bands(swt, path, formula);"
   ],
   "metadata": {},
   "execution_count": null
  },
  {
   "cell_type": "markdown",
   "source": [
    "Plot over a restricted color range from [0,1e-2]. Note that the intensities of\n",
    "the flat band at zero-energy are off-scale."
   ],
   "metadata": {}
  },
  {
   "outputs": [],
   "cell_type": "code",
   "source": [
    "fig = Figure()\n",
    "ax = Axis(fig[1,1]; xlabel=\"Momentum (r.l.u.)\", ylabel=\"Energy (meV)\",\n",
    "          xticks, xticklabelrotation=π/6)\n",
    "ylims!(ax, -1e-1, 2.3)\n",
    "for i in axes(disp, 2)\n",
    "    lines!(ax, 1:length(disp[:,i]), disp[:,i]; color=intensity[:,i], colorrange=(0,1e-2))\n",
    "end\n",
    "fig"
   ],
   "metadata": {},
   "execution_count": null
  }
 ],
 "nbformat_minor": 3,
 "metadata": {
  "language_info": {
   "file_extension": ".jl",
   "mimetype": "application/julia",
   "name": "julia",
   "version": "1.9.4"
  },
  "kernelspec": {
   "name": "julia-1.9",
   "display_name": "Julia 1.9.4",
   "language": "julia"
  }
 },
 "nbformat": 4
}
