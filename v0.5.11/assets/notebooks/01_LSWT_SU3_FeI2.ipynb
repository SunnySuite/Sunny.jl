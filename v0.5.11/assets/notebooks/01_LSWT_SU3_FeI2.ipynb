{
 "cells": [
  {
   "cell_type": "markdown",
   "source": [
    "# 1. Multi-flavor spin wave simulations of FeI₂ (Showcase)\n",
    "\n",
    "FeI₂ is an effective spin-1 material with strong single-ion anisotropy.\n",
    "Quadrupolar fluctuations give rise to a single-ion bound state that cannot be\n",
    "described by a dipole-only model. This tutorial illustrates how to use the\n",
    "linear spin wave theory of SU(3) coherent states (i.e. 2-flavor bosons) to\n",
    "model the magnetic behavior in FeI₂. The original study was performed in [Bai\n",
    "et al., Nature Physics 17, 467–472\n",
    "(2021)](https://doi.org/10.1038/s41567-020-01110-1).\n",
    "\n",
    "\n",
    "<img src=\"https://raw.githubusercontent.com/SunnySuite/Sunny.jl/main/docs/src/assets/FeI2_crystal.jpg\" style=\"float: left;\" width=\"400\">\n",
    "\n",
    "\n",
    "The Fe atoms are arranged in stacked triangular layers. The effective spin\n",
    "Hamiltonian takes the form,\n",
    "\n",
    "$$\n",
    "\\mathcal{H}=\\sum_{(i,j)} 𝐒_i ⋅ J_{ij} 𝐒_j - D\\sum_i \\left(S_i^z\\right)^2,\n",
    "$$\n",
    "\n",
    "where the set of exchange matrices $J_{ij}$ between bonded sites $(i,j)$\n",
    "includes competing ferromagnetic and antiferromagnetic interactions. This\n",
    "model also includes a strong easy axis anisotropy, $D > 0$.\n",
    "\n",
    "We will formulate this Hamiltonian in Sunny and then calculate its dynamic\n",
    "structure factor."
   ],
   "metadata": {}
  },
  {
   "cell_type": "markdown",
   "source": [
    "## Get Julia and Sunny\n",
    "\n",
    "Sunny is implemented in Julia. This is a relatively new programming language\n",
    "that allows for interactive development (like Python or Matlab) while also\n",
    "providing high numerical efficiency (like C++ or Fortran). New Julia users may\n",
    "wish to take a look at our [Getting Started with\n",
    "Julia](https://github.com/SunnySuite/Sunny.jl/wiki/Getting-started-with-Julia)\n",
    "guide. Sunny requires Julia 1.9 or later.\n",
    "\n",
    "From the Julia prompt, load `Sunny` and `GLMakie` for 3D graphics."
   ],
   "metadata": {}
  },
  {
   "outputs": [],
   "cell_type": "code",
   "source": [
    "using Sunny, GLMakie"
   ],
   "metadata": {},
   "execution_count": null
  },
  {
   "cell_type": "markdown",
   "source": [
    "If these packages are not yet installed, Julia should offer to install them\n",
    "using its built-in package management system. If old versions are installed,\n",
    "you may need to update them to run this tutorial."
   ],
   "metadata": {}
  },
  {
   "cell_type": "markdown",
   "source": [
    "## Crystals\n",
    "\n",
    "A `Crystal` describes the crystallographic unit cell and will usually\n",
    "be loaded from a `.cif` file. Here, we instead build a crystal by listing all\n",
    "atoms and their types."
   ],
   "metadata": {}
  },
  {
   "outputs": [],
   "cell_type": "code",
   "source": [
    "a = b = 4.05012  # Lattice constants for triangular lattice\n",
    "c = 6.75214      # Spacing in the z-direction\n",
    "\n",
    "latvecs = lattice_vectors(a, b, c, 90, 90, 120) # A 3x3 matrix of lattice vectors that\n",
    "                                                # define the conventional unit cell\n",
    "positions = [[0, 0, 0], [1/3, 2/3, 1/4], [2/3, 1/3, 3/4]]  # Positions of atoms in fractions\n",
    "                                                           # of lattice vectors\n",
    "types = [\"Fe\", \"I\", \"I\"]\n",
    "FeI2 = Crystal(latvecs, positions; types)"
   ],
   "metadata": {},
   "execution_count": null
  },
  {
   "cell_type": "markdown",
   "source": [
    "Observe that Sunny inferred the space group, 'P -3 m 1' (164) and labeled the\n",
    "atoms according to their point group symmetries."
   ],
   "metadata": {}
  },
  {
   "cell_type": "markdown",
   "source": [
    "Only the Fe atoms are magnetic, so we discard the I ions using\n",
    "`subcrystal`."
   ],
   "metadata": {}
  },
  {
   "outputs": [],
   "cell_type": "code",
   "source": [
    "cryst = subcrystal(FeI2, \"Fe\")"
   ],
   "metadata": {},
   "execution_count": null
  },
  {
   "cell_type": "markdown",
   "source": [
    "Importantly, `cryst` retains the spacegroup symmetry of the full FeI₂ crystal.\n",
    "This information will be used, for example, to propagate exchange interactions\n",
    "between symmetry-equivalent bonds.\n",
    "\n",
    "In a running Julia environment, the crystal can be viewed interactively using\n",
    "`view_crystal`."
   ],
   "metadata": {}
  },
  {
   "outputs": [],
   "cell_type": "code",
   "source": [
    "view_crystal(cryst)"
   ],
   "metadata": {},
   "execution_count": null
  },
  {
   "cell_type": "markdown",
   "source": [
    "## Symmetry analysis\n",
    "\n",
    "The command `print_symmetry_table` provides a list of all the\n",
    "symmetry-allowed interactions up to a cutoff distance."
   ],
   "metadata": {}
  },
  {
   "outputs": [],
   "cell_type": "code",
   "source": [
    "print_symmetry_table(cryst, 8.0)"
   ],
   "metadata": {},
   "execution_count": null
  },
  {
   "cell_type": "markdown",
   "source": [
    "The allowed $g$-tensor is expressed as a 3×3 matrix in the free coefficients\n",
    "`A`, `B`, ... The allowed single-ion anisotropy is expressed as a linear\n",
    "combination of Stevens operators. The latter correspond to polynomials of the\n",
    "spin operators, as we will describe below.\n",
    "\n",
    "The allowed exchange interactions are given as a 3×3 matrix for representative\n",
    "bonds. The notation `Bond(i, j, n)` indicates a bond between atom indices `i`\n",
    "and `j`, with cell offset `n`. In the general case, it will be necessary to\n",
    "associate atom indices with their positions in the unit cell; these can be\n",
    "viewed with `display(cryst)`. Note that the order of the pair $(i, j)$ is\n",
    "significant if the exchange tensor contains antisymmetric\n",
    "Dzyaloshinskii–Moriya (DM) interactions.\n",
    "\n",
    "In the case of FeI₂, `Bond(1, 1, [1,0,0])` is one of the 6 nearest-neighbor\n",
    "Fe-Fe bonds on a triangular lattice layer, and `Bond(1, 1, [0,0,1])` is an\n",
    "Fe-Fe bond between layers."
   ],
   "metadata": {}
  },
  {
   "cell_type": "markdown",
   "source": [
    "## Building a spin System"
   ],
   "metadata": {}
  },
  {
   "cell_type": "markdown",
   "source": [
    "In constructing a spin `System`, we must provide several additional\n",
    "details about the spins."
   ],
   "metadata": {}
  },
  {
   "outputs": [],
   "cell_type": "code",
   "source": [
    "sys = System(cryst, (4, 4, 4), [SpinInfo(1, S=1, g=2)], :SUN, seed=2)"
   ],
   "metadata": {},
   "execution_count": null
  },
  {
   "cell_type": "markdown",
   "source": [
    "This system includes $4×4×4$ unit cells, i.e. 64 Fe atoms, each with spin $S=1$\n",
    "and a $g$-factor of 2. Quantum mechanically, spin $S=1$ involves a\n",
    "superposition of $2S+1=3$ distinct angular momentum states. In `:SUN` mode,\n",
    "this superposition will be modeled explicitly using the formalism of SU(3)\n",
    "coherent states, which captures both dipolar and quadrupolar fluctuations. For\n",
    "the more traditional dipole dynamics, use `:dipole` mode instead."
   ],
   "metadata": {}
  },
  {
   "cell_type": "markdown",
   "source": [
    "Next we will use `set_exchange!` to assign interaction to bonds. Sunny\n",
    "will automatically propagate each interaction to all symmetry-equivalent bonds\n",
    "in the unit cell. The FeI₂ interactions below follow [Bai et\n",
    "al](https://doi.org/10.1038/s41567-020-01110-1)."
   ],
   "metadata": {}
  },
  {
   "outputs": [],
   "cell_type": "code",
   "source": [
    "J1pm   = -0.236\n",
    "J1pmpm = -0.161\n",
    "J1zpm  = -0.261\n",
    "J2pm   = 0.026\n",
    "J3pm   = 0.166\n",
    "J′0pm  = 0.037\n",
    "J′1pm  = 0.013\n",
    "J′2apm = 0.068\n",
    "\n",
    "J1zz   = -0.236\n",
    "J2zz   = 0.113\n",
    "J3zz   = 0.211\n",
    "J′0zz  = -0.036\n",
    "J′1zz  = 0.051\n",
    "J′2azz = 0.073\n",
    "\n",
    "J1xx = J1pm + J1pmpm\n",
    "J1yy = J1pm - J1pmpm\n",
    "J1yz = J1zpm\n",
    "\n",
    "set_exchange!(sys, [J1xx   0.0    0.0;\n",
    "                    0.0    J1yy   J1yz;\n",
    "                    0.0    J1yz   J1zz], Bond(1,1,[1,0,0]))\n",
    "set_exchange!(sys, [J2pm   0.0    0.0;\n",
    "                    0.0    J2pm   0.0;\n",
    "                    0.0    0.0    J2zz], Bond(1,1,[1,2,0]))\n",
    "set_exchange!(sys, [J3pm   0.0    0.0;\n",
    "                    0.0    J3pm   0.0;\n",
    "                    0.0    0.0    J3zz], Bond(1,1,[2,0,0]))\n",
    "set_exchange!(sys, [J′0pm  0.0    0.0;\n",
    "                    0.0    J′0pm  0.0;\n",
    "                    0.0    0.0    J′0zz], Bond(1,1,[0,0,1]))\n",
    "set_exchange!(sys, [J′1pm  0.0    0.0;\n",
    "                    0.0    J′1pm  0.0;\n",
    "                    0.0    0.0    J′1zz], Bond(1,1,[1,0,1]))\n",
    "set_exchange!(sys, [J′2apm 0.0    0.0;\n",
    "                    0.0    J′2apm 0.0;\n",
    "                    0.0    0.0    J′2azz], Bond(1,1,[1,2,1]))"
   ],
   "metadata": {},
   "execution_count": null
  },
  {
   "cell_type": "markdown",
   "source": [
    "The function `set_onsite_coupling!` assigns a single-ion anisotropy.\n",
    "The argument can be constructed using `spin_matrices` or\n",
    "`stevens_matrices`. Here we use Julia's anonymous function syntax to\n",
    "assign an easy-axis anisotropy along the direction $\\hat{z}$."
   ],
   "metadata": {}
  },
  {
   "outputs": [],
   "cell_type": "code",
   "source": [
    "D = 2.165\n",
    "set_onsite_coupling!(sys, S -> -D*S[3]^2, 1)"
   ],
   "metadata": {},
   "execution_count": null
  },
  {
   "cell_type": "markdown",
   "source": [
    "# Calculating structure factor intensities"
   ],
   "metadata": {}
  },
  {
   "cell_type": "markdown",
   "source": [
    "In the remainder of this tutorial, we will examine Sunny's tools for\n",
    "calculating the dynamical structure factor using a [multi-boson\n",
    "generalization](https://arxiv.org/abs/1307.7731) of linear spin wave theory\n",
    "(LSWT). This theory describes non-interacting quasi-particle excitations that\n",
    "hybridize dipolar and quadrupolar modes."
   ],
   "metadata": {}
  },
  {
   "cell_type": "markdown",
   "source": [
    "## Finding the ground state"
   ],
   "metadata": {}
  },
  {
   "cell_type": "markdown",
   "source": [
    "Begin with a random configuration and use `minimize_energy!` to find a\n",
    "configuration of the SU(3) coherent states (i.e. spin dipoles and quadrupoles)\n",
    "that locally minimizes energy."
   ],
   "metadata": {}
  },
  {
   "outputs": [],
   "cell_type": "code",
   "source": [
    "randomize_spins!(sys)\n",
    "minimize_energy!(sys)"
   ],
   "metadata": {},
   "execution_count": null
  },
  {
   "cell_type": "markdown",
   "source": [
    "A positive number above indicates that the procedure has converged to a local\n",
    "energy minimum. The configuration, however, may still have defects. This can\n",
    "be checked by visualizing the spins, colored according to their\n",
    "$z$-components."
   ],
   "metadata": {}
  },
  {
   "outputs": [],
   "cell_type": "code",
   "source": [
    "plot_spins(sys; color=[s[3] for s in sys.dipoles])"
   ],
   "metadata": {},
   "execution_count": null
  },
  {
   "cell_type": "markdown",
   "source": [
    "A different understanding of the magnetic ordering can be obtained by moving\n",
    "to Fourier space. The 'instant' structure factor $𝒮(𝐪)$ is an experimental\n",
    "observable. To investigate $𝒮(𝐪)$ as true 3D data, Sunny provides\n",
    "`instant_correlations` and related functions. Here, however, we will\n",
    "use `print_wrapped_intensities`, which gives average intensities for\n",
    "the individual Bravais sublattices (in effect, all wavevectors are wrapped to\n",
    "the first Brillouin zone)."
   ],
   "metadata": {}
  },
  {
   "outputs": [],
   "cell_type": "code",
   "source": [
    "print_wrapped_intensities(sys)"
   ],
   "metadata": {},
   "execution_count": null
  },
  {
   "cell_type": "markdown",
   "source": [
    "The result will likely be approximately consistent with the known zero-field\n",
    "energy-minimizing magnetic structure of FeI₂, which is single-$Q$ (two-up,\n",
    "two-down antiferromagnetic order). Mathematically, spontaneous symmetry\n",
    "breaking should select one of $±Q = [0, -1/4, 1/4]$, $[1/4, 0, 1/4]$, or\n",
    "$[-1/4,1/4,1/4]$, associated with the three-fold rotational symmetry of the\n",
    "crystal spacegroup. In nature, however, one will frequently encounter\n",
    "competing \"domains\" associated with the three possible orientations of the\n",
    "ground state."
   ],
   "metadata": {}
  },
  {
   "cell_type": "markdown",
   "source": [
    "If the desired ground state is already known, as with FeI₂, it could be\n",
    "entered by hand using `set_dipole!`. Alternatively, in the case of\n",
    "FeI₂, we could repeatedly employ the above randomization and minimization\n",
    "procedure until a defect-free configuration is found. Some systems will have\n",
    "more complicated ground states, which can be much more challenging to find.\n",
    "For this, Sunny provides experimental support for powerful simulated annealing\n",
    "via [parallel tempering](https://en.wikipedia.org/wiki/Parallel_tempering),\n",
    "but that is outside the scope of this tutorial."
   ],
   "metadata": {}
  },
  {
   "cell_type": "markdown",
   "source": [
    "Here, let's break the three-fold symmetry of FeI₂ by hand. Given one or more\n",
    "desired $Q$ modes, Sunny can suggest a magnetic supercell with appropriate\n",
    "periodicity. Let's arbitrarily select one of the three possible ordering\n",
    "wavevectors, $Q = [0, -1/4, 1/4]$. Sunny suggests a corresponding magnetic\n",
    "supercell in units of the crystal lattice vectors."
   ],
   "metadata": {}
  },
  {
   "outputs": [],
   "cell_type": "code",
   "source": [
    "suggest_magnetic_supercell([[0, -1/4, 1/4]])"
   ],
   "metadata": {},
   "execution_count": null
  },
  {
   "cell_type": "markdown",
   "source": [
    "The system returned by `reshape_supercell` is smaller, and is sheared\n",
    "relative to the original system. This makes it much easier to find the global\n",
    "energy minimum."
   ],
   "metadata": {}
  },
  {
   "outputs": [],
   "cell_type": "code",
   "source": [
    "sys_min = reshape_supercell(sys, [1 0 0; 0 2 1; 0 -2 1])\n",
    "randomize_spins!(sys_min)\n",
    "minimize_energy!(sys_min);"
   ],
   "metadata": {},
   "execution_count": null
  },
  {
   "cell_type": "markdown",
   "source": [
    "Plot the system again, now including \"ghost\" spins out to 12Å"
   ],
   "metadata": {}
  },
  {
   "outputs": [],
   "cell_type": "code",
   "source": [
    "plot_spins(sys_min; color=[s[3] for s in sys_min.dipoles], ghost_radius=12)"
   ],
   "metadata": {},
   "execution_count": null
  },
  {
   "cell_type": "markdown",
   "source": [
    "## Linear spin wave theory\n",
    "\n",
    "Now that we have found the ground state for a magnetic supercell, we can\n",
    "immediately proceed to perform zero-temperature calculations using linear spin\n",
    "wave theory. We begin by instantiating a `SpinWaveTheory` type using the\n",
    "supercell."
   ],
   "metadata": {}
  },
  {
   "outputs": [],
   "cell_type": "code",
   "source": [
    "swt = SpinWaveTheory(sys_min)"
   ],
   "metadata": {},
   "execution_count": null
  },
  {
   "cell_type": "markdown",
   "source": [
    "Select a sequence of wavevectors that will define a piecewise linear\n",
    "interpolation in reciprocal lattice units (RLU)."
   ],
   "metadata": {}
  },
  {
   "outputs": [],
   "cell_type": "code",
   "source": [
    "q_points = [[0,0,0], [1,0,0], [0,1,0], [1/2,0,0], [0,1,0], [0,0,0]];"
   ],
   "metadata": {},
   "execution_count": null
  },
  {
   "cell_type": "markdown",
   "source": [
    "The function `reciprocal_space_path` will linearly sample a `path`\n",
    "between the provided $q$-points with a given `density`. The `xticks` return\n",
    "value provides labels for use in plotting."
   ],
   "metadata": {}
  },
  {
   "outputs": [],
   "cell_type": "code",
   "source": [
    "density = 50\n",
    "path, xticks = reciprocal_space_path(cryst, q_points, density);"
   ],
   "metadata": {},
   "execution_count": null
  },
  {
   "cell_type": "markdown",
   "source": [
    "The `dispersion` function defines the quasiparticle excitation\n",
    "energies $ω_i(𝐪)$ for each point $𝐪$ along the reciprocal space path."
   ],
   "metadata": {}
  },
  {
   "outputs": [],
   "cell_type": "code",
   "source": [
    "disp = dispersion(swt, path);"
   ],
   "metadata": {},
   "execution_count": null
  },
  {
   "cell_type": "markdown",
   "source": [
    "In addition to the band energies $ω_i(𝐪)$, Sunny can calculate the inelastic\n",
    "neutron scattering intensity $I_i(𝐪)$ for each band $i$ according to an\n",
    "`intensity_formula`. We choose to apply a polarization correction\n",
    "$(1 - 𝐪⊗𝐪)$ by setting the mode argument to `:perp`. Selecting\n",
    "`delta_function_kernel` specifies that we want the energy and intensity of\n",
    "each band individually."
   ],
   "metadata": {}
  },
  {
   "outputs": [],
   "cell_type": "code",
   "source": [
    "formula = intensity_formula(swt, :perp; kernel=delta_function_kernel)"
   ],
   "metadata": {},
   "execution_count": null
  },
  {
   "cell_type": "markdown",
   "source": [
    "The function `intensities_bands` uses linear spin wave theory to\n",
    "calculate both the dispersion and intensity data for the provided path."
   ],
   "metadata": {}
  },
  {
   "outputs": [],
   "cell_type": "code",
   "source": [
    "disp, intensity = intensities_bands(swt, path, formula);"
   ],
   "metadata": {},
   "execution_count": null
  },
  {
   "cell_type": "markdown",
   "source": [
    "These can be plotted in GLMakie."
   ],
   "metadata": {}
  },
  {
   "outputs": [],
   "cell_type": "code",
   "source": [
    "fig = Figure()\n",
    "ax = Axis(fig[1,1]; xlabel=\"Momentum (r.l.u.)\", ylabel=\"Energy (meV)\", xticks, xticklabelrotation=π/6)\n",
    "ylims!(ax, 0.0, 7.5)\n",
    "xlims!(ax, 1, size(disp, 1))\n",
    "colorrange = extrema(intensity)\n",
    "for i in axes(disp, 2)\n",
    "    lines!(ax, 1:length(disp[:,i]), disp[:,i]; color=intensity[:,i], colorrange)\n",
    "end\n",
    "fig"
   ],
   "metadata": {},
   "execution_count": null
  },
  {
   "cell_type": "markdown",
   "source": [
    "To make comparisons with inelastic neutron scattering (INS) data, it is\n",
    "helpful to employ an empirical broadening kernel, e.g., a\n",
    "`lorentzian`."
   ],
   "metadata": {}
  },
  {
   "outputs": [],
   "cell_type": "code",
   "source": [
    "fwhm = 0.3 # full width at half maximum (meV)\n",
    "broadened_formula = intensity_formula(swt, :perp; kernel=lorentzian(; fwhm))"
   ],
   "metadata": {},
   "execution_count": null
  },
  {
   "cell_type": "markdown",
   "source": [
    "The `intensities_broadened` function requires an energy range in\n",
    "addition to the $𝐪$-space path."
   ],
   "metadata": {}
  },
  {
   "outputs": [],
   "cell_type": "code",
   "source": [
    "energies = collect(0:0.01:10)  # 0 < ω < 10 (meV).\n",
    "is1 = intensities_broadened(swt, path, energies, broadened_formula);"
   ],
   "metadata": {},
   "execution_count": null
  },
  {
   "cell_type": "markdown",
   "source": [
    "A real FeI₂ sample will exhibit competing magnetic domains associated with\n",
    "spontaneous symmetry breaking of the 6-fold rotational symmetry of the\n",
    "triangular lattice. Note that the wavevectors $𝐪$ and $-𝐪$ are equivalent in\n",
    "the structure factor, which leaves three distinct domain orientations, which\n",
    "are related by 120° rotations about the $ẑ$-axis. Rather than rotating the\n",
    "spin configuration directly, on can rotate the $𝐪$-space path. Below, we use\n",
    "`rotation_in_rlu` to average the intensities over all three possible\n",
    "orientations."
   ],
   "metadata": {}
  },
  {
   "outputs": [],
   "cell_type": "code",
   "source": [
    "R = rotation_in_rlu(cryst, [0, 0, 1], 2π/3)\n",
    "is2 = intensities_broadened(swt, [R*q for q in path], energies, broadened_formula)\n",
    "is3 = intensities_broadened(swt, [R*R*q for q in path], energies, broadened_formula)\n",
    "is_averaged = (is1 + is2 + is3) / 3\n",
    "\n",
    "fig = Figure()\n",
    "ax = Axis(fig[1,1]; xlabel=\"Momentum (r.l.u.)\", ylabel=\"Energy (meV)\", xticks, xticklabelrotation=π/6)\n",
    "heatmap!(ax, 1:size(is_averaged, 1), energies, is_averaged)\n",
    "fig"
   ],
   "metadata": {},
   "execution_count": null
  },
  {
   "cell_type": "markdown",
   "source": [
    "This result can be directly compared to experimental neutron scattering data\n",
    "from [Bai et al.](https://doi.org/10.1038/s41567-020-01110-1)\n",
    "\n",
    "<img src=\"https://raw.githubusercontent.com/SunnySuite/Sunny.jl/main/docs/src/assets/FeI2_intensity.jpg\">\n",
    "\n",
    "\n",
    "(The publication figure accidentally used a non-standard coordinate system to\n",
    "label the wave vectors.)\n",
    "\n",
    "To get this agreement, the use of SU(3) coherent states is essential. In other\n",
    "words, we needed a theory of multi-flavored bosons. The lower band has large\n",
    "quadrupolar character, and arises from the strong easy-axis anisotropy of\n",
    "FeI₂. By setting `mode = :SUN`, the calculation captures this coupled\n",
    "dipole-quadrupole dynamics.\n",
    "\n",
    "An interesting exercise is to repeat the same study, but using `mode =\n",
    ":dipole` instead of `:SUN`. That alternative choice would constrain the\n",
    "coherent state dynamics to the space of dipoles only."
   ],
   "metadata": {}
  },
  {
   "cell_type": "markdown",
   "source": [
    "The full dynamical spin structure factor (DSSF) can be retrieved as a $3×3$\n",
    "matrix with the `dssf` function, for a given path of $𝐪$-vectors."
   ],
   "metadata": {}
  },
  {
   "outputs": [],
   "cell_type": "code",
   "source": [
    "disp, is = dssf(swt, path);"
   ],
   "metadata": {},
   "execution_count": null
  },
  {
   "cell_type": "markdown",
   "source": [
    "The first output `disp` is identical to that obtained from `dispersion`. The\n",
    "second output `is` contains a list of $3×3$ matrix of intensities. For\n",
    "example, `is[q,n][2,3]` yields the $(ŷ,ẑ)$ component of the structure factor\n",
    "intensity for `nth` mode at the `q`th wavevector in the `path`."
   ],
   "metadata": {}
  },
  {
   "cell_type": "markdown",
   "source": [
    "## What's next?\n",
    "\n",
    "The multi-boson linear spin wave theory, applied above, can be understood as\n",
    "the quantization of a certain generalization of the Landau-Lifshitz spin\n",
    "dynamics. Rather than dipoles, this dynamics takes places on the space of\n",
    "[SU(_N_) coherent states](https://arxiv.org/abs/2106.14125).\n",
    "\n",
    "The full SU(_N_) coherent state dynamics, with appropriate quantum correction\n",
    "factors, can be useful to model finite temperature scattering data. In\n",
    "particular, it captures certain anharmonic effects due to thermal\n",
    "fluctuations. See our generalized spin dynamics tutorial.\n",
    "\n",
    "The classical dynamics is also a good starting point to study non-equilibrium\n",
    "phenomena. Empirical noise and damping terms can be used to model [coupling to\n",
    "a thermal bath](https://arxiv.org/abs/2209.01265). This yields a Langevin\n",
    "dynamics of SU(_N_) coherent states. Our dynamical SU(_N_) quench tutorial illustrates how a\n",
    "temperature quench can give rise to novel liquid phase of CP² skyrmions."
   ],
   "metadata": {}
  }
 ],
 "nbformat_minor": 3,
 "metadata": {
  "language_info": {
   "file_extension": ".jl",
   "mimetype": "application/julia",
   "name": "julia",
   "version": "1.9.4"
  },
  "kernelspec": {
   "name": "julia-1.9",
   "display_name": "Julia 1.9.4",
   "language": "julia"
  }
 },
 "nbformat": 4
}
