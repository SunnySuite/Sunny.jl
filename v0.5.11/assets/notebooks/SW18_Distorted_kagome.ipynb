{
 "cells": [
  {
   "cell_type": "markdown",
   "source": [
    "# SW18 - Distorted kagome\n",
    "\n",
    "This is a Sunny port of [SpinW Tutorial\n",
    "18](https://spinw.org/tutorials/19tutorial), originally authored by Goran\n",
    "Nilsen and Sandor Toth. This tutorial illustrates Sunny's **experimental** for\n",
    "studying incommensurate, single-$Q$ structures. The test system is\n",
    "KCu₃As₂O₇(OD)₃. The Cu ions are arranged in a distorted kagome lattice, and\n",
    "exhibit helical magnetic order, as described in [G. J. Nilsen, et al., Phys.\n",
    "Rev. B **89**, 140412 (2014)](https://doi.org/10.1103/PhysRevB.89.140412)."
   ],
   "metadata": {}
  },
  {
   "outputs": [],
   "cell_type": "code",
   "source": [
    "using Sunny, GLMakie"
   ],
   "metadata": {},
   "execution_count": null
  },
  {
   "cell_type": "markdown",
   "source": [
    "Build the distorted kagome crystal, with spacegroup 12."
   ],
   "metadata": {}
  },
  {
   "outputs": [],
   "cell_type": "code",
   "source": [
    "latvecs = lattice_vectors(10.2, 5.94, 7.81, 90, 117.7, 90)\n",
    "positions = [[0, 0, 0], [1/4, 1/4, 0]]\n",
    "types = [\"Cu1\", \"Cu2\"]\n",
    "cryst = Crystal(latvecs, positions, 12; types, setting=\"b1\")\n",
    "view_crystal(cryst)"
   ],
   "metadata": {},
   "execution_count": null
  },
  {
   "cell_type": "markdown",
   "source": [
    "Define the interactions."
   ],
   "metadata": {}
  },
  {
   "outputs": [],
   "cell_type": "code",
   "source": [
    "spininfos = [SpinInfo(1, S=1/2, g=2), SpinInfo(3, S=1/2, g=2)]\n",
    "sys = System(cryst, (1,1,1), spininfos, :dipole, seed=0)\n",
    "J   = -2\n",
    "Jp  = -1\n",
    "Jab = 0.75\n",
    "Ja  = -J/.66 - Jab\n",
    "Jip = 0.01\n",
    "set_exchange!(sys, J, Bond(1, 3, [0, 0, 0]))\n",
    "set_exchange!(sys, Jp, Bond(3, 5, [0, 0, 0]))\n",
    "set_exchange!(sys, Ja, Bond(3, 4, [0, 0, 0]))\n",
    "set_exchange!(sys, Jab, Bond(1, 2, [0, 0, 0]))\n",
    "set_exchange!(sys, Jip, Bond(3, 4, [0, 0, 1]))"
   ],
   "metadata": {},
   "execution_count": null
  },
  {
   "cell_type": "markdown",
   "source": [
    "Optimize the generalized spiral structure. This will determine the propagation\n",
    "wavevector `k`, as well as spin values within the unit cell. One must provide\n",
    "a fixed `axis` perpendicular to the polarization plane. For this system, all\n",
    "interactions are rotationally invariant, and the `axis` vector is arbitrary.\n",
    "In other cases, a good `axis` will frequently be determined from symmetry\n",
    "considerations. The qualified notation `Sunny.*` indicates that these\n",
    "functions are not stabilized, and may change between Sunny releases."
   ],
   "metadata": {}
  },
  {
   "outputs": [],
   "cell_type": "code",
   "source": [
    "axis = [0, 0, 1]\n",
    "randomize_spins!(sys)\n",
    "k = Sunny.minimize_energy_spiral!(sys, axis; k_guess=randn(3))\n",
    "plot_spins(sys; dims=2)"
   ],
   "metadata": {},
   "execution_count": null
  },
  {
   "cell_type": "markdown",
   "source": [
    "If successful, the optimization process will find one two possible\n",
    "wavevectors, ±k_ref, with opposite chiralities."
   ],
   "metadata": {}
  },
  {
   "outputs": [],
   "cell_type": "code",
   "source": [
    "k_ref = [0.785902495, 0.0, 0.107048756]\n",
    "k_ref_alt = [1, 0, 1] - k_ref\n",
    "@assert isapprox(k, k_ref; atol=1e-6) || isapprox(k, k_ref_alt; atol=1e-6)\n",
    "@assert Sunny.spiral_energy_per_site(sys; k, axis) ≈ -0.78338383838"
   ],
   "metadata": {},
   "execution_count": null
  },
  {
   "cell_type": "markdown",
   "source": [
    "Check the energy with a real-space calculation using a large magnetic cell.\n",
    "First, we must determine a lattice size for which k becomes approximately\n",
    "commensurate."
   ],
   "metadata": {}
  },
  {
   "outputs": [],
   "cell_type": "code",
   "source": [
    "suggest_magnetic_supercell([k_ref]; tol=1e-3)"
   ],
   "metadata": {},
   "execution_count": null
  },
  {
   "cell_type": "markdown",
   "source": [
    "Resize the system as suggested, and perform a real-space calculation. Working\n",
    "with a commensurate wavevector increases the energy slightly. The precise\n",
    "value might vary from run-to-run due to trapping in a local energy minimum."
   ],
   "metadata": {}
  },
  {
   "outputs": [],
   "cell_type": "code",
   "source": [
    "new_shape = [14 0 1; 0 1 0; 0 0 2]\n",
    "sys2 = reshape_supercell(sys, new_shape)\n",
    "randomize_spins!(sys2)\n",
    "minimize_energy!(sys2)\n",
    "energy_per_site(sys2) # < -0.7834 meV"
   ],
   "metadata": {},
   "execution_count": null
  },
  {
   "cell_type": "markdown",
   "source": [
    "Now return to the perfectly incommensurate single-k order. Define a path in\n",
    "reciprocal space."
   ],
   "metadata": {}
  },
  {
   "outputs": [],
   "cell_type": "code",
   "source": [
    "q_points = [[0,0,0], [1,0,0]]\n",
    "density = 200\n",
    "path, xticks = reciprocal_space_path(cryst, q_points, density)\n",
    "swt = SpinWaveTheory(sys)\n",
    "formula = Sunny.intensity_formula_spiral(swt, :perp; k, axis, kernel=delta_function_kernel)\n",
    "disp, _ = intensities_bands(swt, path, formula);\n",
    "energies = collect(0:0.01:5.5)\n",
    "broadened_formula = Sunny.intensity_formula_spiral(swt, :perp; k, axis,\n",
    "                                                   kernel=gaussian(fwhm=0.1))\n",
    "is = intensities_broadened(swt, path, energies, broadened_formula);"
   ],
   "metadata": {},
   "execution_count": null
  },
  {
   "cell_type": "markdown",
   "source": [
    "Create the plot"
   ],
   "metadata": {}
  },
  {
   "outputs": [],
   "cell_type": "code",
   "source": [
    "fig = Figure()\n",
    "ax = Axis(fig[1,1]; xlabel=\"Momentum (r.l.u.)\", ylabel=\"Energy (meV)\",\n",
    "          title=\"Spin wave dispersion: \", xticks)\n",
    "ylims!(ax, 0, 5)\n",
    "heatmap!(ax, 1:size(is, 1), energies, is; colorrange=(0.2, 100),\n",
    "         colormap=Reverse(:thermal), lowclip=:white)\n",
    "for d in eachcol(disp)\n",
    "    lines!(ax, d; color=:black)\n",
    "end\n",
    "fig"
   ],
   "metadata": {},
   "execution_count": null
  },
  {
   "cell_type": "markdown",
   "source": [
    "The powder average can be calculated as shown below. It is commented out for\n",
    "now because the calculation is a bit slow to run and is yet to be optimized."
   ],
   "metadata": {}
  },
  {
   "outputs": [],
   "cell_type": "code",
   "source": [
    "if false\n",
    "    radii = 0.01:0.02:3\n",
    "    output = zeros(Float64, length(radii), length(energies))\n",
    "    for (i, radius) in enumerate(radii)\n",
    "        n = 300\n",
    "        qs = reciprocal_space_shell(cryst, radius, n)\n",
    "        is1 = intensities_broadened(swt, qs, energies, broadened_formula)\n",
    "        is2 = dropdims(sum(is1[:,:,:,:], dims=[3,4]), dims=(3,4))\n",
    "        output[i, :] = sum(is2, dims=1) / size(is2, 1)\n",
    "    end\n",
    "\n",
    "    fig = Figure()\n",
    "    ax = Axis(fig[1,1]; xlabel=\"Q (Å⁻¹)\", ylabel=\"ω (meV)\", title=\"Broadened powder spectra\")\n",
    "    ylims!(ax, 0.0, 5)\n",
    "    heatmap!(ax, radii, energies, output, colormap=:gnuplot2, colorrange=(0.0,1))\n",
    "    fig\n",
    "end"
   ],
   "metadata": {},
   "execution_count": null
  }
 ],
 "nbformat_minor": 3,
 "metadata": {
  "language_info": {
   "file_extension": ".jl",
   "mimetype": "application/julia",
   "name": "julia",
   "version": "1.9.4"
  },
  "kernelspec": {
   "name": "julia-1.9",
   "display_name": "Julia 1.9.4",
   "language": "julia"
  }
 },
 "nbformat": 4
}
