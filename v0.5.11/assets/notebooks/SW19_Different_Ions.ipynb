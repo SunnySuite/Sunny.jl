{
 "cells": [
  {
   "cell_type": "markdown",
   "source": [
    "# SW19 - Different magnetic ions\n",
    "\n",
    "This is a Sunny port of [SpinW Tutorial\n",
    "19](https://spinw.org/tutorials/19tutorial), originally authored by Bjorn Fak\n",
    "and Sandor Toth. This tutorial illustrates how to eliminate magnetic\n",
    "contributions from a subset of ions via the special value `zero(FormFactor)`."
   ],
   "metadata": {}
  },
  {
   "outputs": [],
   "cell_type": "code",
   "source": [
    "using Sunny, GLMakie"
   ],
   "metadata": {},
   "execution_count": null
  },
  {
   "cell_type": "markdown",
   "source": [
    "Build a crystal with Cu²⁺ and Fe²⁺ ions"
   ],
   "metadata": {}
  },
  {
   "outputs": [],
   "cell_type": "code",
   "source": [
    "a = 3.0\n",
    "b = 8.0\n",
    "c = 4.0\n",
    "latvecs = lattice_vectors(a, b, c, 90, 90, 90)\n",
    "positions = [[0, 0, 0], [0, 1/2, 0]]\n",
    "types = [\"Cu2\", \"Fe2\"]\n",
    "cryst = Crystal(latvecs, positions, 1; types)\n",
    "view_crystal(cryst)"
   ],
   "metadata": {},
   "execution_count": null
  },
  {
   "cell_type": "markdown",
   "source": [
    "Set interactions"
   ],
   "metadata": {}
  },
  {
   "outputs": [],
   "cell_type": "code",
   "source": [
    "J_Cu_Cu = 1.0\n",
    "J_Fe_Fe = 1.0\n",
    "J_Cu_Fe = -0.1\n",
    "sys = System(cryst, (2,1,1), [SpinInfo(1,S=1/2,g=2), SpinInfo(2,S=2,g=2)], :dipole; seed=0)\n",
    "set_exchange!(sys, J_Cu_Cu, Bond(1, 1, [-1, 0, 0]))\n",
    "set_exchange!(sys, J_Fe_Fe, Bond(2, 2, [-1, 0, 0]))\n",
    "set_exchange!(sys, J_Cu_Fe, Bond(2, 1, [0, 1, 0]))\n",
    "set_exchange!(sys, J_Cu_Fe, Bond(1, 2, [0, 0, 0]))"
   ],
   "metadata": {},
   "execution_count": null
  },
  {
   "cell_type": "markdown",
   "source": [
    "Find and plot a minimum energy configuration"
   ],
   "metadata": {}
  },
  {
   "outputs": [],
   "cell_type": "code",
   "source": [
    "randomize_spins!(sys)\n",
    "minimize_energy!(sys)\n",
    "plot_spins(sys)"
   ],
   "metadata": {},
   "execution_count": null
  },
  {
   "cell_type": "markdown",
   "source": [
    "Plot dispersions colored by total summed intensity for each degenerate band"
   ],
   "metadata": {}
  },
  {
   "outputs": [],
   "cell_type": "code",
   "source": [
    "swt = SpinWaveTheory(sys)\n",
    "q_points = [[0,0,0], [1,0,0]]\n",
    "path, xticks = reciprocal_space_path(cryst, q_points, 200)\n",
    "formula = intensity_formula(swt, :perp; kernel=delta_function_kernel)\n",
    "disp, intensity = intensities_bands(swt, path, formula)\n",
    "fig = Figure()\n",
    "ax = Axis(fig[1,1]; xlabel=\"Momentum (RLU)\", ylabel=\"Energy (meV)\",\n",
    "          title=\"Spin wave dispersion\", xticks)\n",
    "ylims!(ax, 0.0, 4.5)\n",
    "xlims!(ax, 1, size(disp, 1))\n",
    "lines!(ax, disp[:, 1]; color=vec(sum(intensity[:, 1:2]; dims=2)), colorrange=(0,2))\n",
    "lines!(ax, disp[:, 3]; color=vec(sum(intensity[:, 3:4]; dims=2)), colorrange=(0,2))\n",
    "fig"
   ],
   "metadata": {},
   "execution_count": null
  },
  {
   "cell_type": "markdown",
   "source": [
    "Functions to plot broadened intensities"
   ],
   "metadata": {}
  },
  {
   "outputs": [],
   "cell_type": "code",
   "source": [
    "function plot_intensities(formfactors, title)\n",
    "    formula = intensity_formula(swt, :trace; kernel=gaussian(fwhm=0.2), formfactors)\n",
    "    energies = collect(0:0.02:140)\n",
    "    is = intensities_broadened(swt, path, energies, formula)\n",
    "    fig = Figure()\n",
    "    ax = Axis(fig[1,1]; xlabel=\"Momentum (RLU)\", ylabel=\"Energy (meV)\", title, xticks)\n",
    "    ylims!(ax, 0.0, 4.5)\n",
    "    heatmap!(ax, 1:size(is, 1), energies, is; colorrange=(0.1,50),\n",
    "             colormap=Reverse(:thermal), lowclip=:white)\n",
    "    for d in eachcol(disp)\n",
    "        lines!(ax, d; color=:pink)\n",
    "    end\n",
    "    fig\n",
    "end"
   ],
   "metadata": {},
   "execution_count": null
  },
  {
   "cell_type": "markdown",
   "source": [
    "Plot full intensity spectrum"
   ],
   "metadata": {}
  },
  {
   "outputs": [],
   "cell_type": "code",
   "source": [
    "plot_intensities([FormFactor(\"Cu2\"), FormFactor(\"Fe2\")], \"All correlations\")"
   ],
   "metadata": {},
   "execution_count": null
  },
  {
   "cell_type": "markdown",
   "source": [
    "Plot Cu-Cu correlations only"
   ],
   "metadata": {}
  },
  {
   "outputs": [],
   "cell_type": "code",
   "source": [
    "plot_intensities([FormFactor(\"Cu2\"), zero(FormFactor)], \"Cu-Cu correlations\")"
   ],
   "metadata": {},
   "execution_count": null
  },
  {
   "cell_type": "markdown",
   "source": [
    "Fe-Fe correlations only"
   ],
   "metadata": {}
  },
  {
   "outputs": [],
   "cell_type": "code",
   "source": [
    "plot_intensities([zero(FormFactor), FormFactor(\"Fe2\")], \"Fe-Fe correlations\")"
   ],
   "metadata": {},
   "execution_count": null
  }
 ],
 "nbformat_minor": 3,
 "metadata": {
  "language_info": {
   "file_extension": ".jl",
   "mimetype": "application/julia",
   "name": "julia",
   "version": "1.9.4"
  },
  "kernelspec": {
   "name": "julia-1.9",
   "display_name": "Julia 1.9.4",
   "language": "julia"
  }
 },
 "nbformat": 4
}
