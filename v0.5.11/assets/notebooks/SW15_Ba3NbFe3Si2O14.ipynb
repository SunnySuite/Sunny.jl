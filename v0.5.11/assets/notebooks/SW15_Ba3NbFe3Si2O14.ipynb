{
 "cells": [
  {
   "cell_type": "markdown",
   "source": [
    "# SW15 - Ba₃NbFe₃Si₂O₁₄\n",
    "\n",
    "This is a Sunny port of [SpinW Tutorial\n",
    "15](https://spinw.org/tutorials/15tutorial), originally authored by Sandor\n",
    "Toth. The goal is to calculate the linear spin wave theory spectrum for\n",
    "Ba₃NbFe₃Si₂O₁₄."
   ],
   "metadata": {}
  },
  {
   "cell_type": "markdown",
   "source": [
    "Load packages"
   ],
   "metadata": {}
  },
  {
   "outputs": [],
   "cell_type": "code",
   "source": [
    "using Sunny, GLMakie"
   ],
   "metadata": {},
   "execution_count": null
  },
  {
   "cell_type": "markdown",
   "source": [
    "Build a `Crystal` for Ba₃NbFe₃Si₂O₁₄ using the crystal\n",
    "structure from [Marty et al., Phys. Rev. Lett. **101**, 247201\n",
    "(2008)](http://dx.doi.org/10.1103/PhysRevLett.101.247201)."
   ],
   "metadata": {}
  },
  {
   "outputs": [],
   "cell_type": "code",
   "source": [
    "a = b = 8.539 # (Å)\n",
    "c = 5.2414\n",
    "latvecs = lattice_vectors(a, b, c, 90, 90, 120)\n",
    "types = [\"Fe\", \"Nb\", \"Ba\", \"Si\", \"O\", \"O\", \"O\"]\n",
    "positions = [[0.24964,0,0.5], [0,0,0], [0.56598,0,0], [2/3,1/3,0.5220],\n",
    "             [2/3,1/3,0.2162], [0.5259,0.7024,0.3536], [0.7840,0.9002,0.7760]]\n",
    "langasite = Crystal(latvecs, positions, 150; types)\n",
    "cryst = subcrystal(langasite, \"Fe\")\n",
    "view_crystal(cryst)"
   ],
   "metadata": {},
   "execution_count": null
  },
  {
   "cell_type": "markdown",
   "source": [
    "Create a `System` with a lattice size of $(1,1,7)$. The magnetic\n",
    "structure of Ba₃NbFe₃Si₂O₁₄ was\n",
    "determined to have the ordering wavevector $𝐐=(0,0,1/7)$ and hence the\n",
    "magnetic unit cell has 7 sites."
   ],
   "metadata": {}
  },
  {
   "outputs": [],
   "cell_type": "code",
   "source": [
    "latsize = (1,1,7)\n",
    "S = 5/2\n",
    "seed = 5\n",
    "sys = System(cryst, latsize, [SpinInfo(1; S, g=2)], :dipole)"
   ],
   "metadata": {},
   "execution_count": null
  },
  {
   "cell_type": "markdown",
   "source": [
    "Set exchange interactions as parametrized in [Loire et al., Phys. Rev. Lett.\n",
    "**106**, 207201 (2011)](http://dx.doi.org/10.1103/PhysRevLett.106.207201)"
   ],
   "metadata": {}
  },
  {
   "outputs": [],
   "cell_type": "code",
   "source": [
    "J₁ = 0.85\n",
    "J₂ = 0.24\n",
    "J₃ = 0.053\n",
    "J₄ = 0.017\n",
    "J₅ = 0.24\n",
    "set_exchange!(sys, J₁, Bond(3, 2, [1,1,0]))\n",
    "set_exchange!(sys, J₄, Bond(1, 1, [0,0,1]))\n",
    "set_exchange!(sys, J₂, Bond(1, 3, [0,0,0]))"
   ],
   "metadata": {},
   "execution_count": null
  },
  {
   "cell_type": "markdown",
   "source": [
    "The final two exchanges define the chirality of the magnetic structure. The\n",
    "crystal chirality, $\\epsilon_T$, the chirality of each triangle, $ϵ_D$ and the\n",
    "sense of rotation of the spin helices along $c$, $ϵ_{H}$. The three\n",
    "chiralities are related by $ϵ_T=ϵ_D ϵ_H$. We now assign $J_3$ and $J_5$\n",
    "according to the crystal chirality."
   ],
   "metadata": {}
  },
  {
   "outputs": [],
   "cell_type": "code",
   "source": [
    "ϵD = -1\n",
    "ϵH = +1\n",
    "ϵT = ϵD * ϵH\n",
    "\n",
    "if ϵT == -1\n",
    "    set_exchange!(sys, J₃, Bond(2, 3, [-1,-1,1]))\n",
    "    set_exchange!(sys, J₅, Bond(3, 2, [1,1,1]))\n",
    "elseif ϵT == 1\n",
    "    set_exchange!(sys, J₅, Bond(2, 3, [-1,-1,1]))\n",
    "    set_exchange!(sys, J₃, Bond(3, 2, [1,1,1]))\n",
    "else\n",
    "    throw(\"Provide a valid chirality\")\n",
    "end"
   ],
   "metadata": {},
   "execution_count": null
  },
  {
   "cell_type": "markdown",
   "source": [
    "Whilst Sunny provides tools to optimize the ground state automatically, in\n",
    "this case we already know the model ground state. Set the spiral magnetic\n",
    "order using `set_spiral_order_on_sublattice!`. It takes an ordering\n",
    "wavevector `q`, an axis of rotation for the spins `axis`, and the initial spin\n",
    "`S0` for each sublattice."
   ],
   "metadata": {}
  },
  {
   "outputs": [],
   "cell_type": "code",
   "source": [
    "k = [0, 0, 1/7]\n",
    "axis = [0,0,1]\n",
    "set_spiral_order_on_sublattice!(sys, 1; k, axis, S0=[1, 0, 0])\n",
    "set_spiral_order_on_sublattice!(sys, 2; k, axis, S0=[-1/2, -sqrt(3)/2, 0])\n",
    "set_spiral_order_on_sublattice!(sys, 3; k, axis, S0=[-1/2, +sqrt(3)/2, 0])\n",
    "\n",
    "plot_spins(sys; color=[s[1] for s in sys.dipoles])"
   ],
   "metadata": {},
   "execution_count": null
  },
  {
   "cell_type": "markdown",
   "source": [
    "Define a path in reciprocal space, $[0,1,-1+\\xi]$ for $\\xi = 0 \\dots 3$."
   ],
   "metadata": {}
  },
  {
   "outputs": [],
   "cell_type": "code",
   "source": [
    "points_rlu = [[0,1,-1],[0,1,-1+1],[0,1,-1+2],[0,1,-1+3]];\n",
    "density = 200\n",
    "path, xticks = reciprocal_space_path(cryst, points_rlu, density);"
   ],
   "metadata": {},
   "execution_count": null
  },
  {
   "cell_type": "markdown",
   "source": [
    "Calculate broadened intensities"
   ],
   "metadata": {}
  },
  {
   "outputs": [],
   "cell_type": "code",
   "source": [
    "swt = SpinWaveTheory(sys; energy_ϵ=1e-6)\n",
    "broadened_formula = intensity_formula(swt, :perp; kernel=gaussian(fwhm=0.25))\n",
    "energies = collect(0:0.05:6)  # 0 < ω < 6 (meV)\n",
    "is = intensities_broadened(swt, path, energies, broadened_formula);"
   ],
   "metadata": {},
   "execution_count": null
  },
  {
   "cell_type": "markdown",
   "source": [
    "Plot"
   ],
   "metadata": {}
  },
  {
   "outputs": [],
   "cell_type": "code",
   "source": [
    "fig = Figure()\n",
    "ax = Axis(fig[1,1]; xlabel=\"Momentum (r.l.u.)\", ylabel=\"Energy (meV)\",\n",
    "          xticks, xticklabelrotation=π/6)\n",
    "heatmap!(ax, 1:size(is,1), energies, is, colormap=:jet, colorrange=(0,150))\n",
    "fig"
   ],
   "metadata": {},
   "execution_count": null
  }
 ],
 "nbformat_minor": 3,
 "metadata": {
  "language_info": {
   "file_extension": ".jl",
   "mimetype": "application/julia",
   "name": "julia",
   "version": "1.9.4"
  },
  "kernelspec": {
   "name": "julia-1.9",
   "display_name": "Julia 1.9.4",
   "language": "julia"
  }
 },
 "nbformat": 4
}
