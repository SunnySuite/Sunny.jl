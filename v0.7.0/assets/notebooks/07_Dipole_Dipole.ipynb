{
 "cells": [
  {
   "cell_type": "markdown",
   "source": [
    "# 7. Long-range dipole interactions\n",
    "\n",
    "This example shows how long-range dipole-dipole interactions can affect a spin\n",
    "wave calculation. These interactions can be included two ways: Ewald summation\n",
    "or in real-space with a distance cutoff. The study follows [Del Maestro and\n",
    "Gingras, J. Phys.: Cond. Matter, **16**, 3339\n",
    "(2004)](https://arxiv.org/abs/cond-mat/0403494)."
   ],
   "metadata": {}
  },
  {
   "outputs": [],
   "cell_type": "code",
   "source": [
    "using Sunny, GLMakie"
   ],
   "metadata": {},
   "execution_count": null
  },
  {
   "cell_type": "markdown",
   "source": [
    "Create a pyrochlore crystal from spacegroup 227."
   ],
   "metadata": {}
  },
  {
   "outputs": [],
   "cell_type": "code",
   "source": [
    "units = Units(:K, :angstrom)\n",
    "latvecs = lattice_vectors(10.19, 10.19, 10.19, 90, 90, 90)\n",
    "positions = [[1/8, 1/8, 1/8]]\n",
    "cryst = Crystal(latvecs, positions, 227, setting=\"1\")\n",
    "view_crystal(cryst)"
   ],
   "metadata": {},
   "execution_count": null
  },
  {
   "cell_type": "markdown",
   "source": [
    "Create a system with antiferromagnetic nearest neighbor exchange."
   ],
   "metadata": {}
  },
  {
   "outputs": [],
   "cell_type": "code",
   "source": [
    "sys = System(cryst, [1 => Moment(s=7/2, g=2)], :dipole)\n",
    "J1 = 0.304 # (K)\n",
    "set_exchange!(sys, J1, Bond(1, 2, [0,0,0]))"
   ],
   "metadata": {},
   "execution_count": null
  },
  {
   "cell_type": "markdown",
   "source": [
    "Reshape to the primitive cell, which contains four atoms. To facilitate\n",
    "indexing, the function `position_to_site` accepts positions with\n",
    "respect to the original (cubic) cell."
   ],
   "metadata": {}
  },
  {
   "outputs": [],
   "cell_type": "code",
   "source": [
    "shape = [1/2 1/2 0; 0 1/2 1/2; 1/2 0 1/2]\n",
    "sys_prim = reshape_supercell(sys, shape)\n",
    "\n",
    "set_dipole!(sys_prim, [+1, -1, 0], position_to_site(sys_prim, [1/8, 1/8, 1/8]))\n",
    "set_dipole!(sys_prim, [-1, +1, 0], position_to_site(sys_prim, [3/8, 3/8, 1/8]))\n",
    "set_dipole!(sys_prim, [+1, +1, 0], position_to_site(sys_prim, [3/8, 1/8, 3/8]))\n",
    "set_dipole!(sys_prim, [-1, -1, 0], position_to_site(sys_prim, [1/8, 3/8, 3/8]))\n",
    "\n",
    "plot_spins(sys_prim; ghost_radius=8, color=[:red, :blue, :yellow, :purple])"
   ],
   "metadata": {},
   "execution_count": null
  },
  {
   "cell_type": "markdown",
   "source": [
    "Calculate dispersions with and without long-range dipole interactions. The\n",
    "high-symmetry $𝐪$-points are specified with respect to the conventional\n",
    "cubic cell."
   ],
   "metadata": {}
  },
  {
   "outputs": [],
   "cell_type": "code",
   "source": [
    "qs = [[0,0,0], [0,1,0], [1,1/2,0], [1/2,1/2,1/2], [3/4,3/4,0], [0,0,0]]\n",
    "labels = [\"Γ\", \"X\", \"W\", \"L\", \"K\", \"Γ\"]\n",
    "path = q_space_path(cryst, qs, 500; labels)\n",
    "\n",
    "measure = ssf_trace(sys_prim)\n",
    "swt = SpinWaveTheory(sys_prim; measure)\n",
    "res1 = intensities_bands(swt, path)\n",
    "\n",
    "sys_prim_dd = clone_system(sys_prim)\n",
    "enable_dipole_dipole!(sys_prim_dd, units.vacuum_permeability)\n",
    "swt = SpinWaveTheory(sys_prim_dd; measure)\n",
    "res2 = intensities_bands(swt, path)\n",
    "\n",
    "sys_prim_tdd = clone_system(sys_prim)\n",
    "modify_exchange_with_truncated_dipole_dipole!(sys_prim_tdd, 5.0, units.vacuum_permeability)\n",
    "swt = SpinWaveTheory(sys_prim_tdd; measure)\n",
    "res3 = intensities_bands(swt, path)"
   ],
   "metadata": {},
   "execution_count": null
  },
  {
   "cell_type": "markdown",
   "source": [
    "Create a panel that qualitatively reproduces Fig. 2 of [Del Maestro and\n",
    "Gingras](https://arxiv.org/abs/cond-mat/0403494). That previous work had two\n",
    "errors: Its energy scale is too small by a factor of 2 and, in addition,\n",
    "slight corrections are needed for the third dispersion band."
   ],
   "metadata": {}
  },
  {
   "outputs": [],
   "cell_type": "code",
   "source": [
    "fig = Figure(size=(768, 300))\n",
    "plot_intensities!(fig[1, 1], res1; units, title=\"Local Exchange Only\")\n",
    "ax = plot_intensities!(fig[1, 2], res2; units, title=\"Local Exchange and Dipole-Dipole\")\n",
    "for c in eachrow(res3.disp)\n",
    "    lines!(ax, eachindex(c), c; linestyle=:dash, color=:black)\n",
    "end\n",
    "fig"
   ],
   "metadata": {},
   "execution_count": null
  }
 ],
 "nbformat_minor": 3,
 "metadata": {
  "language_info": {
   "file_extension": ".jl",
   "mimetype": "application/julia",
   "name": "julia",
   "version": "1.10.5"
  },
  "kernelspec": {
   "name": "julia-1.10",
   "display_name": "Julia 1.10.5",
   "language": "julia"
  }
 },
 "nbformat": 4
}
