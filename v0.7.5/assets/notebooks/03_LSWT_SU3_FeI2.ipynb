{
 "cells": [
  {
   "cell_type": "markdown",
   "source": [
    "# 3. Multi-flavor spin wave simulations of FeI₂\n",
    "\n",
    "This tutorial illustrates various advanced features such as symmetry analysis,\n",
    "energy minimization, and spin wave theory with multi-flavor bosons.\n",
    "\n",
    "Our context will be FeI₂, an effective spin-1 material with strong single-ion\n",
    "anisotropy. Quadrupolar fluctuations give rise to a single-ion bound state\n",
    "that is observable in neutron scattering, and cannot be described by a\n",
    "dipole-only model. We will use the linear spin wave theory of SU(3) coherent\n",
    "states (i.e. 2-flavor bosons) to model the magnetic spectrum of FeI₂. The\n",
    "original study was performed in [Bai et al., Nature Physics **17**, 467–472\n",
    "(2021)](https://doi.org/10.1038/s41567-020-01110-1).\n",
    "\n",
    "\n",
    "<img src=\"https://raw.githubusercontent.com/SunnySuite/Sunny.jl/main/docs/src/assets/FeI2_crystal.jpg\" style=\"float: left;\" width=\"400\">\n",
    "\n",
    "\n",
    "The Fe atoms are arranged in stacked triangular layers. The effective spin\n",
    "Hamiltonian takes the form,\n",
    "\n",
    "$$\n",
    "\\mathcal{H}=\\sum_{(i,j)} 𝐒_i ⋅ J_{ij} 𝐒_j - D\\sum_i \\left(S_i^z\\right)^2,\n",
    "$$\n",
    "\n",
    "where the exchange matrices $J_{ij}$ between bonded sites $(i,j)$ include\n",
    "competing ferromagnetic and antiferromagnetic interactions. This model also\n",
    "includes a strong easy axis anisotropy, $D > 0$."
   ],
   "metadata": {}
  },
  {
   "cell_type": "markdown",
   "source": [
    "Load packages."
   ],
   "metadata": {}
  },
  {
   "outputs": [],
   "cell_type": "code",
   "source": [
    "using Sunny, GLMakie\n",
    "@assert pkgversion(Sunny) >= v\"0.7.5\""
   ],
   "metadata": {},
   "execution_count": null
  },
  {
   "cell_type": "markdown",
   "source": [
    "Construct the chemical cell of FeI₂ by specifying the lattice vectors and the\n",
    "full set of atoms."
   ],
   "metadata": {}
  },
  {
   "outputs": [],
   "cell_type": "code",
   "source": [
    "units = Units(:meV, :angstrom)\n",
    "a = b = 4.05012  # Lattice constants for triangular lattice (Å)\n",
    "c = 6.75214      # Spacing between layers (Å)\n",
    "latvecs = lattice_vectors(a, b, c, 90, 90, 120)\n",
    "positions = [[0, 0, 0], [1/3, 2/3, 1/4], [2/3, 1/3, 3/4]]\n",
    "types = [\"Fe\", \"I\", \"I\"]\n",
    "cryst = Crystal(latvecs, positions; types)"
   ],
   "metadata": {},
   "execution_count": null
  },
  {
   "cell_type": "markdown",
   "source": [
    "Observe that the space group 'P -3 m 1' (164) has been inferred, as well as\n",
    "point group symmetries. Only the Fe atoms are magnetic, so we focus on them\n",
    "with `subcrystal`. Importantly, the new crystal retains the symmetry\n",
    "information for spacegroup 164."
   ],
   "metadata": {}
  },
  {
   "outputs": [],
   "cell_type": "code",
   "source": [
    "cryst = subcrystal(cryst, \"Fe\")\n",
    "view_crystal(cryst)"
   ],
   "metadata": {},
   "execution_count": null
  },
  {
   "cell_type": "markdown",
   "source": [
    "### Symmetry analysis\n",
    "\n",
    "The command `print_symmetry_table` provides a list of all the\n",
    "symmetry-allowed interactions out to 8 Å."
   ],
   "metadata": {}
  },
  {
   "outputs": [],
   "cell_type": "code",
   "source": [
    "print_symmetry_table(cryst, 8.0)"
   ],
   "metadata": {},
   "execution_count": null
  },
  {
   "cell_type": "markdown",
   "source": [
    "The allowed $g$-tensor is expressed as a 3×3 matrix in the free coefficients\n",
    "`A`, `B`, ... The allowed single-ion anisotropy is expressed as a linear\n",
    "combination of Stevens operators. The latter correspond to polynomials of the\n",
    "spin operators, as we will describe below.\n",
    "\n",
    "The allowed exchange interactions are given as 3×3 matrices for representative\n",
    "bonds. The notation `Bond(i, j, n)` indicates a bond between atom indices `i`\n",
    "and `j`, with cell offset `n`. Note that the order of the pair $(i, j)$ is\n",
    "significant if the exchange tensor contains antisymmetric\n",
    "Dzyaloshinskii–Moriya (DM) interactions.\n",
    "\n",
    "The bonds can be visualized in the `view_crystal` interface. By default,\n",
    "`Bond(1, 1, [1,0,0])` is toggled on, to show the 6 nearest-neighbor Fe-Fe\n",
    "bonds on a triangular lattice layer. Toggling `Bond(1, 1, [0,0,1])` shows the\n",
    "Fe-Fe bond between layers, etc."
   ],
   "metadata": {}
  },
  {
   "cell_type": "markdown",
   "source": [
    "### Defining the spin model"
   ],
   "metadata": {}
  },
  {
   "cell_type": "markdown",
   "source": [
    "Construct a `System` with spin $s=1$ and $g=2$ for the Fe ions.\n",
    "\n",
    "Recall that quantum spin-1 is, in reality, a linear combination of basis\n",
    "states $|m⟩$ with well-defined angular momentum $m = -1, 0, 1$. FeI₂ has a\n",
    "strong easy-axis anisotropy, which stabilizes a single-ion bound state of zero\n",
    "angular momentum, $|m=0⟩$. Such a bound state is inaccessible to traditional\n",
    "spin wave theory, which works with dipole expectation values of fixed\n",
    "magnitude. This physics is, however, well captured with a theory of SU(_N_)\n",
    "coherent states, where $N = 2S+1 = 3$ is the number of levels. Activate this\n",
    "generalized theory by selecting `:SUN` mode instead of `:dipole` mode.\n",
    "\n",
    "An optional `seed` for random number generation can be used to to make the\n",
    "calculation exactly reproducible."
   ],
   "metadata": {}
  },
  {
   "outputs": [],
   "cell_type": "code",
   "source": [
    "sys = System(cryst, [1 => Moment(s=1, g=2)], :SUN; seed=2)"
   ],
   "metadata": {},
   "execution_count": null
  },
  {
   "cell_type": "markdown",
   "source": [
    "Set the exchange interactions for FeI₂ following the fits of [Bai et\n",
    "al.](https://doi.org/10.1038/s41567-020-01110-1)"
   ],
   "metadata": {}
  },
  {
   "outputs": [],
   "cell_type": "code",
   "source": [
    "J1pm   = -0.236 # (meV)\n",
    "J1pmpm = -0.161\n",
    "J1zpm  = -0.261\n",
    "J2pm   = 0.026\n",
    "J3pm   = 0.166\n",
    "J′0pm  = 0.037\n",
    "J′1pm  = 0.013\n",
    "J′2apm = 0.068\n",
    "\n",
    "J1zz   = -0.236\n",
    "J2zz   = 0.113\n",
    "J3zz   = 0.211\n",
    "J′0zz  = -0.036\n",
    "J′1zz  = 0.051\n",
    "J′2azz = 0.073\n",
    "\n",
    "J1xx = J1pm + J1pmpm\n",
    "J1yy = J1pm - J1pmpm\n",
    "J1yz = J1zpm\n",
    "\n",
    "set_exchange!(sys, [J1xx   0.0    0.0;\n",
    "                    0.0    J1yy   J1yz;\n",
    "                    0.0    J1yz   J1zz], Bond(1,1,[1,0,0]))\n",
    "set_exchange!(sys, [J2pm   0.0    0.0;\n",
    "                    0.0    J2pm   0.0;\n",
    "                    0.0    0.0    J2zz], Bond(1,1,[1,2,0]))\n",
    "set_exchange!(sys, [J3pm   0.0    0.0;\n",
    "                    0.0    J3pm   0.0;\n",
    "                    0.0    0.0    J3zz], Bond(1,1,[2,0,0]))\n",
    "set_exchange!(sys, [J′0pm  0.0    0.0;\n",
    "                    0.0    J′0pm  0.0;\n",
    "                    0.0    0.0    J′0zz], Bond(1,1,[0,0,1]))\n",
    "set_exchange!(sys, [J′1pm  0.0    0.0;\n",
    "                    0.0    J′1pm  0.0;\n",
    "                    0.0    0.0    J′1zz], Bond(1,1,[1,0,1]))\n",
    "set_exchange!(sys, [J′2apm 0.0    0.0;\n",
    "                    0.0    J′2apm 0.0;\n",
    "                    0.0    0.0    J′2azz], Bond(1,1,[1,2,1]))"
   ],
   "metadata": {},
   "execution_count": null
  },
  {
   "cell_type": "markdown",
   "source": [
    "The function `set_onsite_coupling!` assigns a single-ion anisotropy.\n",
    "The argument can be constructed using `spin_matrices` or\n",
    "`stevens_matrices`. Here we use Julia's anonymous function syntax to\n",
    "assign an easy-axis anisotropy along the direction $\\hat{z}$."
   ],
   "metadata": {}
  },
  {
   "outputs": [],
   "cell_type": "code",
   "source": [
    "D = 2.165 # (meV)\n",
    "set_onsite_coupling!(sys, S -> -D*S[3]^2, 1)"
   ],
   "metadata": {},
   "execution_count": null
  },
  {
   "cell_type": "markdown",
   "source": [
    "### Finding the ground state"
   ],
   "metadata": {}
  },
  {
   "cell_type": "markdown",
   "source": [
    "This model has been fitted so that energy minimization yields the physically\n",
    "correct ground state. Knowing this, we could set the magnetic configuration\n",
    "manually by calling `set_dipole!` on each site in the system. Another\n",
    "approach, as we will demonstrate, is to search for the ground-state via\n",
    "`minimize_energy!`.\n",
    "\n",
    "To reduce bias in the search, use `resize_supercell` to create a\n",
    "relatively large system of 4×4×4 chemical cells. Randomize all spins\n",
    "(represented as SU(3) coherent states) and minimize the energy."
   ],
   "metadata": {}
  },
  {
   "outputs": [],
   "cell_type": "code",
   "source": [
    "sys = resize_supercell(sys, (4, 4, 4))\n",
    "randomize_spins!(sys)\n",
    "minimize_energy!(sys)"
   ],
   "metadata": {},
   "execution_count": null
  },
  {
   "cell_type": "markdown",
   "source": [
    "The positive step-count above indicates successful convergence to a local\n",
    "energy minimum. Defects, however, are visually apparent."
   ],
   "metadata": {}
  },
  {
   "outputs": [],
   "cell_type": "code",
   "source": [
    "plot_spins(sys; color=[S[3] for S in sys.dipoles])"
   ],
   "metadata": {},
   "execution_count": null
  },
  {
   "cell_type": "markdown",
   "source": [
    "One could precisely quantify the Fourier-space static structure factor\n",
    "$\\mathcal{S}(𝐪)$ of this spin configuration using\n",
    "`SampledCorrelationsStatic`. For the present purposes, however, it is\n",
    "most convenient to use `print_wrapped_intensities`, which effectively\n",
    "averages $\\mathcal{S}(𝐪)$ over all Brillouin zones."
   ],
   "metadata": {}
  },
  {
   "outputs": [],
   "cell_type": "code",
   "source": [
    "print_wrapped_intensities(sys)"
   ],
   "metadata": {},
   "execution_count": null
  },
  {
   "cell_type": "markdown",
   "source": [
    "The known zero-field energy-minimizing magnetic structure of FeI₂ is a two-up,\n",
    "two-down order. It can be described as a generalized spiral with a single\n",
    "propagation wavevector $𝐤$. Rotational symmetry allows for three equivalent\n",
    "orientations: $±𝐤 = [0, -1/4, 1/4]$, $[1/4, 0, 1/4]$, or\n",
    "$[-1/4,1/4,1/4]$. Energy minimization of large systems can easily get\n",
    "trapped in a metastable state with competing domains and defects. Nonetheless,\n",
    "`print_wrapped_intensities` shows that a non-trivial fraction of the total\n",
    "intensity is consistent with known ordering wavevectors.\n",
    "\n",
    "Let's break the three-fold symmetry by hand. The function\n",
    "`suggest_magnetic_supercell` takes any number of $𝐤$ modes and\n",
    "suggests a magnetic cell shape that is commensurate with all of them."
   ],
   "metadata": {}
  },
  {
   "outputs": [],
   "cell_type": "code",
   "source": [
    "suggest_magnetic_supercell([[0, -1/4, 1/4]])"
   ],
   "metadata": {},
   "execution_count": null
  },
  {
   "cell_type": "markdown",
   "source": [
    "Using the minimal system returned by `reshape_supercell`, it is now\n",
    "easy to find the ground state. Plot the system again, now including \"ghost\"\n",
    "spins out to 12Å, to verify that the magnetic order is consistent with FeI₂."
   ],
   "metadata": {}
  },
  {
   "outputs": [],
   "cell_type": "code",
   "source": [
    "sys_min = reshape_supercell(sys, [1 0 0; 0 2 1; 0 -2 1])\n",
    "randomize_spins!(sys_min)\n",
    "minimize_energy!(sys_min);\n",
    "plot_spins(sys_min; color=[S[3] for S in sys_min.dipoles], ghost_radius=12)"
   ],
   "metadata": {},
   "execution_count": null
  },
  {
   "cell_type": "markdown",
   "source": [
    "### Spin wave theory\n",
    "\n",
    "Now that the system has been relaxed to an energy minimized ground state, we\n",
    "can calculate the spin wave spectrum. Because we are working with a system of\n",
    "SU(3) coherent states, this calculation will require a multi-flavor boson\n",
    "generalization of the usual spin wave theory."
   ],
   "metadata": {}
  },
  {
   "outputs": [],
   "cell_type": "code",
   "source": [
    "swt = SpinWaveTheory(sys_min; measure=ssf_perp(sys_min))"
   ],
   "metadata": {},
   "execution_count": null
  },
  {
   "cell_type": "markdown",
   "source": [
    "Calculate and plot the spectrum along a momentum-space path that connects a\n",
    "sequence of high-symmetry $𝐪$-points. This interface abstracts over the\n",
    "underlying calculator type."
   ],
   "metadata": {}
  },
  {
   "outputs": [],
   "cell_type": "code",
   "source": [
    "qs = [[0,0,0], [1,0,0], [0,1,0], [1/2,0,0], [0,1,0], [0,0,0]]\n",
    "path = q_space_path(cryst, qs, 500)\n",
    "res = intensities_bands(swt, path)\n",
    "plot_intensities(res; units, title=\"Single Crystal Bands\")"
   ],
   "metadata": {},
   "execution_count": null
  },
  {
   "cell_type": "markdown",
   "source": [
    "To make direct comparison with inelastic neutron scattering (INS) data, we\n",
    "must account for empirical broadening of the data. Model this using a\n",
    "`lorentzian` kernel, with a full-width at half-maximum of 0.3 meV."
   ],
   "metadata": {}
  },
  {
   "outputs": [],
   "cell_type": "code",
   "source": [
    "kernel = lorentzian(fwhm=0.3)\n",
    "energies = range(0, 10, 300);  # 0 < ω < 10 (meV)"
   ],
   "metadata": {},
   "execution_count": null
  },
  {
   "cell_type": "markdown",
   "source": [
    "Also, a real FeI₂ sample will exhibit competing magnetic domains. We use\n",
    "`domain_average` to average over the three possible domain\n",
    "orientations. This involves 120° rotations about the axis $\\hat{z} = [0, 0,\n",
    "1]$ in global Cartesian coordinates."
   ],
   "metadata": {}
  },
  {
   "outputs": [],
   "cell_type": "code",
   "source": [
    "rotations = [([0,0,1], n*(2π/3)) for n in 0:2]\n",
    "weights = [1, 1, 1]\n",
    "res = domain_average(cryst, path; rotations, weights) do path_rotated\n",
    "    intensities(swt, path_rotated; energies, kernel)\n",
    "end\n",
    "plot_intensities(res; units, colormap=:viridis, title=\"Domain Averaged Intensities\")"
   ],
   "metadata": {},
   "execution_count": null
  },
  {
   "cell_type": "markdown",
   "source": [
    "This result can be directly compared to experimental neutron scattering data\n",
    "from [Bai et al.](https://doi.org/10.1038/s41567-020-01110-1)\n",
    "\n",
    "<img src=\"https://raw.githubusercontent.com/SunnySuite/Sunny.jl/main/docs/src/assets/FeI2_intensity.jpg\">\n",
    "\n",
    "\n",
    "(The publication figure used a non-standard coordinate system to label the\n",
    "wave vectors.)\n",
    "\n",
    "To get this agreement, the theory of SU(3) coherent states is essential. The\n",
    "lower band has large quadrupolar character, and arises from the strong\n",
    "easy-axis anisotropy of FeI₂.\n",
    "\n",
    "An interesting exercise is to repeat the same study, but using `:dipole` mode\n",
    "instead of `:SUN`. That alternative choice would constrain the coherent state\n",
    "dynamics to the space of dipoles only, and the flat band of single-ion bound\n",
    "states would be missing."
   ],
   "metadata": {}
  }
 ],
 "nbformat_minor": 3,
 "metadata": {
  "language_info": {
   "file_extension": ".jl",
   "mimetype": "application/julia",
   "name": "julia",
   "version": "1.10.7"
  },
  "kernelspec": {
   "name": "julia-1.10",
   "display_name": "Julia 1.10.7",
   "language": "julia"
  }
 },
 "nbformat": 4
}
