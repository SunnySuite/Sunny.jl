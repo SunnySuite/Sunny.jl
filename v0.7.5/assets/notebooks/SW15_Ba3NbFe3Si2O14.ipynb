{
 "cells": [
  {
   "cell_type": "markdown",
   "source": [
    "# SW15 - Ba₃NbFe₃Si₂O₁₄\n",
    "\n",
    "This is a Sunny port of [SpinW Tutorial\n",
    "15](https://spinw.org/tutorials/15tutorial), originally authored by Sandor\n",
    "Toth. It calculates the linear spin wave theory spectrum of Ba₃NbFe₃Si₂O₁₄.\n",
    "The ground state is an incommensurate spiral, which can be directly studied\n",
    "using the functions `minimize_spiral_energy!` and\n",
    "`SpinWaveTheorySpiral`."
   ],
   "metadata": {}
  },
  {
   "cell_type": "markdown",
   "source": [
    "Load packages"
   ],
   "metadata": {}
  },
  {
   "outputs": [],
   "cell_type": "code",
   "source": [
    "using Sunny, GLMakie\n",
    "@assert pkgversion(Sunny) >= v\"0.7.5\""
   ],
   "metadata": {},
   "execution_count": null
  },
  {
   "cell_type": "markdown",
   "source": [
    "Specify the Ba₃NbFe₃Si₂O₁₄ `Crystal` cell following [Marty et al.,\n",
    "Phys. Rev. Lett. **101**, 247201\n",
    "(2008)](http://dx.doi.org/10.1103/PhysRevLett.101.247201)."
   ],
   "metadata": {}
  },
  {
   "outputs": [],
   "cell_type": "code",
   "source": [
    "units = Units(:meV, :angstrom)\n",
    "a = b = 8.539 # (Å)\n",
    "c = 5.2414\n",
    "latvecs = lattice_vectors(a, b, c, 90, 90, 120)\n",
    "types = [\"Fe\", \"Nb\", \"Ba\", \"Si\", \"O\", \"O\", \"O\"]\n",
    "positions = [[0.24964,0,0.5], [0,0,0], [0.56598,0,0], [2/3,1/3,0.5220],\n",
    "             [2/3,1/3,0.2162], [0.5259,0.7024,0.3536], [0.7840,0.9002,0.7760]]\n",
    "langasite = Crystal(latvecs, positions, 150; types)\n",
    "cryst = subcrystal(langasite, \"Fe\")\n",
    "view_crystal(cryst)"
   ],
   "metadata": {},
   "execution_count": null
  },
  {
   "cell_type": "markdown",
   "source": [
    "Create a `System` and set exchange interactions as parametrized in\n",
    "[Loire et al., Phys. Rev. Lett. **106**, 207201\n",
    "(2011)](http://dx.doi.org/10.1103/PhysRevLett.106.207201)."
   ],
   "metadata": {}
  },
  {
   "outputs": [],
   "cell_type": "code",
   "source": [
    "sys = System(cryst, [1 => Moment(s=5/2, g=2)], :dipole)\n",
    "J₁ = 0.85\n",
    "J₂ = 0.24\n",
    "J₃ = 0.053\n",
    "J₄ = 0.017\n",
    "J₅ = 0.24\n",
    "set_exchange!(sys, J₁, Bond(3, 2, [1,1,0]))\n",
    "set_exchange!(sys, J₄, Bond(1, 1, [0,0,1]))\n",
    "set_exchange!(sys, J₂, Bond(1, 3, [0,0,0]))"
   ],
   "metadata": {},
   "execution_count": null
  },
  {
   "cell_type": "markdown",
   "source": [
    "The final two exchanges are set according to the desired chirality $ϵ_T$ of\n",
    "the magnetic structure."
   ],
   "metadata": {}
  },
  {
   "outputs": [],
   "cell_type": "code",
   "source": [
    "ϵT = -1\n",
    "if ϵT == -1\n",
    "    set_exchange!(sys, J₃, Bond(2, 3, [-1,-1,1]))\n",
    "    set_exchange!(sys, J₅, Bond(3, 2, [1,1,1]))\n",
    "elseif ϵT == 1\n",
    "    set_exchange!(sys, J₅, Bond(2, 3, [-1,-1,1]))\n",
    "    set_exchange!(sys, J₃, Bond(3, 2, [1,1,1]))\n",
    "else\n",
    "    error(\"Chirality must be ±1\")\n",
    "end"
   ],
   "metadata": {},
   "execution_count": null
  },
  {
   "cell_type": "markdown",
   "source": [
    "This compound is known to have a spiral order with approximate propagation\n",
    "wavevector $𝐤 ≈ [0, 0, 1/7]$. Search for this magnetic order with\n",
    "`minimize_spiral_energy!`. Due to reflection symmetry, one of two\n",
    "possible propagation wavevectors may appear, $𝐤 = ± [0, 0, 0.1426…]$.\n",
    "Note that $k_z = 0.1426…$ is very close to $1/7 = 0.1428…$."
   ],
   "metadata": {}
  },
  {
   "outputs": [],
   "cell_type": "code",
   "source": [
    "axis = [0, 0, 1]\n",
    "randomize_spins!(sys)\n",
    "k = minimize_spiral_energy!(sys, axis)"
   ],
   "metadata": {},
   "execution_count": null
  },
  {
   "cell_type": "markdown",
   "source": [
    "We can visualize the full magnetic cell using `repeat_periodically_as_spiral`,\n",
    "which includes 7 rotated copies of the chemical cell."
   ],
   "metadata": {}
  },
  {
   "outputs": [],
   "cell_type": "code",
   "source": [
    "sys_enlarged = repeat_periodically_as_spiral(sys, (1, 1, 7); k, axis)\n",
    "plot_spins(sys_enlarged; color=[S[1] for S in sys_enlarged.dipoles])"
   ],
   "metadata": {},
   "execution_count": null
  },
  {
   "cell_type": "markdown",
   "source": [
    "One could perform a spin wave calculation using either\n",
    "`SpinWaveTheory` on `sys_enlarged`, or `SpinWaveTheorySpiral`\n",
    "on the original `sys`. The latter has some restrictions on the interactions,\n",
    "but allows for our slightly incommensurate wavevector $𝐤$."
   ],
   "metadata": {}
  },
  {
   "outputs": [],
   "cell_type": "code",
   "source": [
    "measure = ssf_perp(sys)\n",
    "swt = SpinWaveTheorySpiral(sys; measure, k, axis)"
   ],
   "metadata": {},
   "execution_count": null
  },
  {
   "cell_type": "markdown",
   "source": [
    "Calculate broadened intensities for a path $[0, 1, L]$ through reciprocal\n",
    "space"
   ],
   "metadata": {}
  },
  {
   "outputs": [],
   "cell_type": "code",
   "source": [
    "qs = [[0, 1, -1], [0, 1, -1+1], [0, 1, -1+2], [0, 1, -1+3]]\n",
    "path = q_space_path(cryst, qs, 400)\n",
    "energies = range(0, 6, 400)\n",
    "res = intensities(swt, path; energies, kernel=gaussian(fwhm=0.25))\n",
    "plot_intensities(res; units, saturation=0.7, colormap=:jet, title=\"Scattering intensities\")"
   ],
   "metadata": {},
   "execution_count": null
  },
  {
   "cell_type": "markdown",
   "source": [
    "Use `ssf_custom_bm` to calculate the imaginary part of\n",
    "$\\mathcal{S}^{2, 3}(𝐪, ω) - \\mathcal{S}^{3, 2}(𝐪, ω)$. In polarized\n",
    "neutron scattering, it is conventional to express the 3×3 structure factor\n",
    "matrix $\\mathcal{S}^{α, β}(𝐪, ω)$ in the Blume-Maleev polarization axis\n",
    "system. Specify the scattering plane $[0, K, L]$ via the spanning vectors\n",
    "$𝐮 = [0, 1, 0]$ and $𝐯 = [0, 0, 1]$."
   ],
   "metadata": {}
  },
  {
   "outputs": [],
   "cell_type": "code",
   "source": [
    "measure = ssf_custom_bm(sys; u=[0, 1, 0], v=[0, 0, 1]) do q, ssf\n",
    "    imag(ssf[2,3] - ssf[3,2])\n",
    "end\n",
    "swt = SpinWaveTheorySpiral(sys; measure, k, axis)\n",
    "res = intensities(swt, path; energies, kernel=gaussian(fwhm=0.25))\n",
    "plot_intensities(res; units, saturation=0.8, allpositive=false,\n",
    "                 title=\"Im[S²³(q, ω) - S³²(q, ω)]\")"
   ],
   "metadata": {},
   "execution_count": null
  }
 ],
 "nbformat_minor": 3,
 "metadata": {
  "language_info": {
   "file_extension": ".jl",
   "mimetype": "application/julia",
   "name": "julia",
   "version": "1.10.7"
  },
  "kernelspec": {
   "name": "julia-1.10",
   "display_name": "Julia 1.10.7",
   "language": "julia"
  }
 },
 "nbformat": 4
}
