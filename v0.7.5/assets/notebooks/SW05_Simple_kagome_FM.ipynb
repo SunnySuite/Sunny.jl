{
 "cells": [
  {
   "cell_type": "markdown",
   "source": [
    "# SW05 - Simple kagome ferromagnet\n",
    "\n",
    "This is a Sunny port of [SpinW Tutorial\n",
    "5](https://spinw.org/tutorials/05tutorial), originally authored by Bjorn Fak\n",
    "and Sandor Toth. It calculates the spin wave spectrum of the kagome lattice\n",
    "with a nearest-neighbor ferromagnetic coupling."
   ],
   "metadata": {}
  },
  {
   "cell_type": "markdown",
   "source": [
    "Load Sunny and the GLMakie plotting package"
   ],
   "metadata": {}
  },
  {
   "outputs": [],
   "cell_type": "code",
   "source": [
    "using Sunny, GLMakie\n",
    "@assert pkgversion(Sunny) >= v\"0.7.5\""
   ],
   "metadata": {},
   "execution_count": null
  },
  {
   "cell_type": "markdown",
   "source": [
    "Define the chemical cell. By specifying spacegroup 147 (P-3), Sunny will\n",
    "propagate the position [1/2, 0, 0] to the three symmetry-equivalent sites of\n",
    "the kagome unit cell."
   ],
   "metadata": {}
  },
  {
   "outputs": [],
   "cell_type": "code",
   "source": [
    "units = Units(:meV, :angstrom)\n",
    "latvecs = lattice_vectors(6, 6, 5, 90, 90, 120)\n",
    "positions = [[1/2, 0, 0]]\n",
    "cryst = Crystal(latvecs, positions, 147)"
   ],
   "metadata": {},
   "execution_count": null
  },
  {
   "cell_type": "markdown",
   "source": [
    "Another way to construct the kagome lattice is to provide all three site\n",
    "positions of the chemical cell, and allow Sunny to infer the largest possible\n",
    "group of symmetry operations. In this case, Sunny infers spacegroup 191\n",
    "(P6/mmm). Because 191 has more symmetry operations than 147, it will impose\n",
    "more constraints on the allowed 3×3 exchange matrices. Isotropic Heisenberg\n",
    "exchange, however, is always allowed."
   ],
   "metadata": {}
  },
  {
   "outputs": [],
   "cell_type": "code",
   "source": [
    "positions = [[1/2, 0, 0], [0, 1/2, 0], [1/2, 1/2, 0]]\n",
    "cryst2 = Crystal(latvecs, positions)"
   ],
   "metadata": {},
   "execution_count": null
  },
  {
   "cell_type": "markdown",
   "source": [
    "View the kagome lattice"
   ],
   "metadata": {}
  },
  {
   "outputs": [],
   "cell_type": "code",
   "source": [
    "view_crystal(cryst; ndims=2)"
   ],
   "metadata": {},
   "execution_count": null
  },
  {
   "cell_type": "markdown",
   "source": [
    "Construct a spin system with nearest-neighbor ferromagnetic interactions."
   ],
   "metadata": {}
  },
  {
   "outputs": [],
   "cell_type": "code",
   "source": [
    "sys = System(cryst, [1 => Moment(s=1, g=2)], :dipole)\n",
    "J = -1.0\n",
    "set_exchange!(sys, J, Bond(2, 3, [0, 0, 0]))"
   ],
   "metadata": {},
   "execution_count": null
  },
  {
   "cell_type": "markdown",
   "source": [
    "Energy minimization yields the expected ferromagnetic order. Each site\n",
    "participates in 4 bonds, which contributes energy 4J/2."
   ],
   "metadata": {}
  },
  {
   "outputs": [],
   "cell_type": "code",
   "source": [
    "randomize_spins!(sys)\n",
    "minimize_energy!(sys)\n",
    "energy_per_site(sys)\n",
    "@assert energy_per_site(sys) ≈ 4J/2\n",
    "plot_spins(sys; ndims=2)"
   ],
   "metadata": {},
   "execution_count": null
  },
  {
   "cell_type": "markdown",
   "source": [
    "Calculate and plot intensities for a path through $𝐪$-space."
   ],
   "metadata": {}
  },
  {
   "outputs": [],
   "cell_type": "code",
   "source": [
    "swt = SpinWaveTheory(sys; measure=ssf_perp(sys))\n",
    "qs = [[-1/2, 0, 0], [0, 0, 0], [1/2, 1/2, 0]]\n",
    "path = q_space_path(cryst, qs, 400)\n",
    "res = intensities_bands(swt, path)\n",
    "plot_intensities(res; units)"
   ],
   "metadata": {},
   "execution_count": null
  },
  {
   "cell_type": "markdown",
   "source": [
    "Calculate and plot the powder average with two different magnitudes of\n",
    "Gaussian line-broadening. Pick an explicit intensity `colorrange` (as a\n",
    "density in meV) so that the two color scales are consistent."
   ],
   "metadata": {}
  },
  {
   "outputs": [],
   "cell_type": "code",
   "source": [
    "radii = range(0, 2.5, 200)\n",
    "energies = range(0, 6.5, 200)\n",
    "res1 = powder_average(cryst, radii, 1000) do qs\n",
    "    intensities(swt, qs; energies, kernel=gaussian(fwhm=0.02))\n",
    "end\n",
    "res2 = powder_average(cryst, radii, 1000) do qs\n",
    "    intensities(swt, qs; energies, kernel=gaussian(fwhm=0.25))\n",
    "end\n",
    "\n",
    "fig = Figure(size=(768, 800))\n",
    "plot_intensities!(fig[1, 1], res1; units, colorrange=(0,10), title=\"FWHM 0.02 meV\")\n",
    "plot_intensities!(fig[2, 1], res2; units, colorrange=(0,10), title=\"FWHM 0.25 meV\")\n",
    "fig"
   ],
   "metadata": {},
   "execution_count": null
  }
 ],
 "nbformat_minor": 3,
 "metadata": {
  "language_info": {
   "file_extension": ".jl",
   "mimetype": "application/julia",
   "name": "julia",
   "version": "1.10.7"
  },
  "kernelspec": {
   "name": "julia-1.10",
   "display_name": "Julia 1.10.7",
   "language": "julia"
  }
 },
 "nbformat": 4
}
