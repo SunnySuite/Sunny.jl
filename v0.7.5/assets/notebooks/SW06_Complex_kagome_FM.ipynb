{
 "cells": [
  {
   "cell_type": "markdown",
   "source": [
    "# SW06 - Complex kagome ferromagnet\n",
    "\n",
    "This is a Sunny port of [SpinW Tutorial\n",
    "6](https://spinw.org/tutorials/06tutorial), originally authored by Bjorn Fak\n",
    "and Sandor Toth. It calculates the spin wave spectrum of the kagome lattice\n",
    "with multiple competing interactions."
   ],
   "metadata": {}
  },
  {
   "cell_type": "markdown",
   "source": [
    "Load Sunny and the GLMakie plotting package"
   ],
   "metadata": {}
  },
  {
   "outputs": [],
   "cell_type": "code",
   "source": [
    "using Sunny, GLMakie\n",
    "@assert pkgversion(Sunny) >= v\"0.7.5\""
   ],
   "metadata": {},
   "execution_count": null
  },
  {
   "cell_type": "markdown",
   "source": [
    "Define the chemical cell of a kagome lattice with spacegroup 147 (P-3)."
   ],
   "metadata": {}
  },
  {
   "outputs": [],
   "cell_type": "code",
   "source": [
    "units = Units(:meV, :angstrom)\n",
    "latvecs = lattice_vectors(6, 6, 8, 90, 90, 120)\n",
    "cryst = Crystal(latvecs, [[1/2, 0, 0]], 147)\n",
    "view_crystal(cryst; ndims=2)"
   ],
   "metadata": {},
   "execution_count": null
  },
  {
   "cell_type": "markdown",
   "source": [
    "Construct a spin system with strongly ferromagnetic nearest-neighbor\n",
    "interactions, and two additional interactions. There are two\n",
    "symmetry-inequivalent exchange types at distance 6 Å (3rd nearest neighbor).\n",
    "The first type, associated with `J3a`, is a bond from atom 2 to atom 2 that\n",
    "passes over atom 3. The second type, associated with `J3b`, is a bond from\n",
    "atom 1 to atom 1 that passes through the center of an \"empty\" hexagon of the\n",
    "kagome lattice."
   ],
   "metadata": {}
  },
  {
   "outputs": [],
   "cell_type": "code",
   "source": [
    "sys = System(cryst, [1 => Moment(s=1, g=2)], :dipole)\n",
    "J1 = -1.0\n",
    "J2 = 0.1\n",
    "J3a = 0.00\n",
    "J3b = 0.17\n",
    "set_exchange!(sys, J1, Bond(2, 3, [0, 0, 0]))\n",
    "set_exchange!(sys, J2, Bond(2, 1, [0, 0, 0]))\n",
    "set_exchange!(sys, J3a, Bond(2, 2, [1, 0, 0]))\n",
    "set_exchange!(sys, J3b, Bond(1, 1, [1, 0, 0]))"
   ],
   "metadata": {},
   "execution_count": null
  },
  {
   "cell_type": "markdown",
   "source": [
    "Interactively visualize the specified interactions. Red (blue) color indicates\n",
    "FM (AFM)."
   ],
   "metadata": {}
  },
  {
   "outputs": [],
   "cell_type": "code",
   "source": [
    "view_crystal(sys; ndims=2)"
   ],
   "metadata": {},
   "execution_count": null
  },
  {
   "cell_type": "markdown",
   "source": [
    "Energy minimization favors ferromagnetic order."
   ],
   "metadata": {}
  },
  {
   "outputs": [],
   "cell_type": "code",
   "source": [
    "randomize_spins!(sys)\n",
    "minimize_energy!(sys)\n",
    "plot_spins(sys; ndims=2)"
   ],
   "metadata": {},
   "execution_count": null
  },
  {
   "cell_type": "markdown",
   "source": [
    "Calculate and plot intensities for a path through $𝐪$-space."
   ],
   "metadata": {}
  },
  {
   "outputs": [],
   "cell_type": "code",
   "source": [
    "swt = SpinWaveTheory(sys; measure=ssf_perp(sys))\n",
    "qs = [[-1/2,0,0], [0,0,0], [1/2,1/2,0]]\n",
    "path = q_space_path(cryst, qs, 400)\n",
    "res = intensities_bands(swt, path)\n",
    "plot_intensities(res; units)"
   ],
   "metadata": {},
   "execution_count": null
  },
  {
   "cell_type": "markdown",
   "source": [
    "Calculate and plot the powder averaged spectrum. Select an empirical\n",
    "`colorrange` that brings the lower-intensity features into focus."
   ],
   "metadata": {}
  },
  {
   "outputs": [],
   "cell_type": "code",
   "source": [
    "radii = range(0, 2.5, 200)\n",
    "energies = range(0, 6.5, 200)\n",
    "kernel = gaussian(fwhm=0.02)\n",
    "res = powder_average(cryst, radii, 1000) do qs\n",
    "    intensities(swt, qs; energies, kernel)\n",
    "end\n",
    "plot_intensities(res; units, colorrange=(0,10))"
   ],
   "metadata": {},
   "execution_count": null
  }
 ],
 "nbformat_minor": 3,
 "metadata": {
  "language_info": {
   "file_extension": ".jl",
   "mimetype": "application/julia",
   "name": "julia",
   "version": "1.10.7"
  },
  "kernelspec": {
   "name": "julia-1.10",
   "display_name": "Julia 1.10.7",
   "language": "julia"
  }
 },
 "nbformat": 4
}
