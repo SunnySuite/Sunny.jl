{
 "cells": [
  {
   "cell_type": "markdown",
   "source": [
    "# SW08 - √3×√3 kagome antiferromagnet\n",
    "\n",
    "This is a Sunny port of [SpinW Tutorial\n",
    "8](https://spinw.org/tutorials/08tutorial), originally authored by Bjorn Fak\n",
    "and Sandor Toth. It calculates the linear spin wave theory spectrum for the\n",
    "$\\sqrt{3} \\times \\sqrt{3}$ order of a kagome antiferromagnet."
   ],
   "metadata": {}
  },
  {
   "cell_type": "markdown",
   "source": [
    "Load Sunny and the GLMakie plotting package"
   ],
   "metadata": {}
  },
  {
   "outputs": [],
   "cell_type": "code",
   "source": [
    "using Sunny, GLMakie\n",
    "@assert pkgversion(Sunny) >= v\"0.7.5\""
   ],
   "metadata": {},
   "execution_count": null
  },
  {
   "cell_type": "markdown",
   "source": [
    "Define the chemical cell of a kagome lattice with spacegroup 147 (P-3)."
   ],
   "metadata": {}
  },
  {
   "outputs": [],
   "cell_type": "code",
   "source": [
    "units = Units(:meV, :angstrom)\n",
    "latvecs = lattice_vectors(6, 6, 40, 90, 90, 120)\n",
    "cryst = Crystal(latvecs, [[1/2, 0, 0]], 147)\n",
    "view_crystal(cryst; ndims=2)"
   ],
   "metadata": {},
   "execution_count": null
  },
  {
   "cell_type": "markdown",
   "source": [
    "Construct a spin system with nearest neighbor antiferromagnetic exchange."
   ],
   "metadata": {}
  },
  {
   "outputs": [],
   "cell_type": "code",
   "source": [
    "sys = System(cryst, [1 => Moment(s=1, g=2)], :dipole)\n",
    "J = 1.0\n",
    "set_exchange!(sys, J, Bond(2, 3, [0, 0, 0]))"
   ],
   "metadata": {},
   "execution_count": null
  },
  {
   "cell_type": "markdown",
   "source": [
    "Initialize to an energy minimizing magnetic structure, for which\n",
    "nearest-neighbor spins are at 120° angles."
   ],
   "metadata": {}
  },
  {
   "outputs": [],
   "cell_type": "code",
   "source": [
    "set_dipole!(sys, [cos(0), sin(0), 0], (1, 1, 1, 1))\n",
    "set_dipole!(sys, [cos(0), sin(0), 0], (1, 1, 1, 2))\n",
    "set_dipole!(sys, [cos(2π/3), sin(2π/3), 0], (1, 1, 1, 3))\n",
    "k = [-1/3, -1/3, 0]\n",
    "axis = [0, 0, 1]\n",
    "sys_enlarged = repeat_periodically_as_spiral(sys, (3, 3, 1); k, axis)\n",
    "plot_spins(sys_enlarged; ndims=2)"
   ],
   "metadata": {},
   "execution_count": null
  },
  {
   "cell_type": "markdown",
   "source": [
    "Check energy per site. Each site participates in 4 bonds with energy\n",
    "$J\\cos(2π/3)$. Factor of 1/2 avoids double counting. The two calculation\n",
    "methods agree."
   ],
   "metadata": {}
  },
  {
   "outputs": [],
   "cell_type": "code",
   "source": [
    "@assert energy_per_site(sys_enlarged) ≈ (4/2)*J*cos(2π/3)\n",
    "@assert spiral_energy_per_site(sys; k, axis) ≈ (4/2)*J*cos(2π/3)"
   ],
   "metadata": {},
   "execution_count": null
  },
  {
   "cell_type": "markdown",
   "source": [
    "Calculate and plot intensities for a path through $𝐪$-space using two\n",
    "calculation methods. The two methods agree in intensity, but the \"supercell\n",
    "method\" gives rise to ghost modes in the dispersion that have zero intensity."
   ],
   "metadata": {}
  },
  {
   "outputs": [],
   "cell_type": "code",
   "source": [
    "qs = [[-1/2,0,0], [0,0,0], [1/2,1/2,0]]\n",
    "path = q_space_path(cryst, qs, 400)\n",
    "\n",
    "fig = Figure(size=(768, 300))\n",
    "swt = SpinWaveTheory(sys_enlarged; measure=ssf_perp(sys_enlarged))\n",
    "res = intensities_bands(swt, path)\n",
    "plot_intensities!(fig[1, 1], res; units, saturation=0.5,title=\"Supercell method\")\n",
    "swt = SpinWaveTheorySpiral(sys; measure=ssf_perp(sys), k, axis)\n",
    "res = intensities_bands(swt, path)\n",
    "plot_intensities!(fig[1, 2], res; units, saturation=0.5, title=\"Spiral method\")\n",
    "fig"
   ],
   "metadata": {},
   "execution_count": null
  },
  {
   "cell_type": "markdown",
   "source": [
    "Calculate and plot the powder averaged spectrum. Continuing to use the \"spiral\n",
    "method\", this calculation executes in about two seconds. Because the\n",
    "intensities are dominated by a flat band at zero energy transfer, select an\n",
    "empirical `colorrange` that brings the lower-intensity features into focus."
   ],
   "metadata": {}
  },
  {
   "outputs": [],
   "cell_type": "code",
   "source": [
    "radii = range(0, 2.5, 200)\n",
    "energies = range(0, 3, 200)\n",
    "kernel = gaussian(fwhm=0.05)\n",
    "res = powder_average(cryst, radii, 200) do qs\n",
    "    intensities(swt, qs; energies, kernel)\n",
    "end\n",
    "plot_intensities(res; units, colorrange=(0,20))"
   ],
   "metadata": {},
   "execution_count": null
  }
 ],
 "nbformat_minor": 3,
 "metadata": {
  "language_info": {
   "file_extension": ".jl",
   "mimetype": "application/julia",
   "name": "julia",
   "version": "1.10.7"
  },
  "kernelspec": {
   "name": "julia-1.10",
   "display_name": "Julia 1.10.7",
   "language": "julia"
  }
 },
 "nbformat": 4
}
