{
 "cells": [
  {
   "cell_type": "markdown",
   "source": [
    "# 9. Disordered system with KPM\n",
    "\n",
    "This example uses the kernel polynomial method to\n",
    "efficiently calculate the neutron scattering spectrum of a disordered\n",
    "triangular antiferromagnet. The model is inspired by YbMgGaO4, as studied in\n",
    "[Paddison et al, Nature Phys., **13**, 117–122\n",
    "(2017)](https://doi.org/10.1038/nphys3971) and [Zhu et al, Phys. Rev. Lett.\n",
    "**119**, 157201 (2017)](https://doi.org/10.1103/PhysRevLett.119.157201).\n",
    "Disordered occupancy of non-magnetic Mg/Ga sites can be modeled as a\n",
    "stochastic distribution of exchange constants and $g$-factors. Including\n",
    "this disorder introduces broadening of the spin wave spectrum."
   ],
   "metadata": {}
  },
  {
   "outputs": [],
   "cell_type": "code",
   "source": [
    "using Sunny, GLMakie\n",
    "@assert pkgversion(Sunny) >= v\"0.7.5\""
   ],
   "metadata": {},
   "execution_count": null
  },
  {
   "cell_type": "markdown",
   "source": [
    "Set up minimal triangular lattice system. Include antiferromagnetic exchange\n",
    "interactions between nearest neighbor bonds. Energy minimization yields the\n",
    "magnetic ground state with 120° angles between spins in triangular plaquettes."
   ],
   "metadata": {}
  },
  {
   "outputs": [],
   "cell_type": "code",
   "source": [
    "latvecs = lattice_vectors(1, 1, 10, 90, 90, 120)\n",
    "cryst = Crystal(latvecs, [[0, 0, 0]])\n",
    "sys = System(cryst, [1 => Moment(s=1/2, g=1)], :dipole; dims=(3, 3, 1))\n",
    "set_exchange!(sys, +1.0, Bond(1, 1, [1,0,0]))\n",
    "\n",
    "randomize_spins!(sys)\n",
    "minimize_energy!(sys)\n",
    "plot_spins(sys; color=[S[3] for S in sys.dipoles], ndims=2)"
   ],
   "metadata": {},
   "execution_count": null
  },
  {
   "cell_type": "markdown",
   "source": [
    "Select a $𝐪$-space path for the spin wave calculations."
   ],
   "metadata": {}
  },
  {
   "outputs": [],
   "cell_type": "code",
   "source": [
    "qs = [[0, 0, 0], [1/3, 1/3, 0], [1/2, 0, 0], [0, 0, 0]]\n",
    "labels = [\"Γ\", \"K\", \"M\", \"Γ\"]\n",
    "path = q_space_path(cryst, qs, 150; labels)"
   ],
   "metadata": {},
   "execution_count": null
  },
  {
   "cell_type": "markdown",
   "source": [
    "Perform a traditional spin wave calculation. The spectrum shows sharp modes\n",
    "associated with coherent excitations about the K-point ordering wavevector,\n",
    "$𝐪 = [1/3, 1/3, 0]$."
   ],
   "metadata": {}
  },
  {
   "outputs": [],
   "cell_type": "code",
   "source": [
    "kernel = lorentzian(fwhm=0.4)\n",
    "energies = range(0.0, 3.0, 150)\n",
    "swt = SpinWaveTheory(sys; measure=ssf_perp(sys))\n",
    "res = intensities(swt, path; energies, kernel)\n",
    "plot_intensities(res)"
   ],
   "metadata": {},
   "execution_count": null
  },
  {
   "cell_type": "markdown",
   "source": [
    "Use `repeat_periodically` to enlarge the system by a factor of 10 in\n",
    "each dimension. Use `to_inhomogeneous` to disable symmetry\n",
    "constraints, and allow for the addition of disordered interactions."
   ],
   "metadata": {}
  },
  {
   "outputs": [],
   "cell_type": "code",
   "source": [
    "sys_inhom = to_inhomogeneous(repeat_periodically(sys, (10, 10, 1)))"
   ],
   "metadata": {},
   "execution_count": null
  },
  {
   "cell_type": "markdown",
   "source": [
    "Use `symmetry_equivalent_bonds` to iterate over all nearest neighbor\n",
    "bonds of the inhomogeneous system. Modify each AFM exchange with a noise term\n",
    "that has variance of 1/3. The newly minimized energy configuration allows for\n",
    "long wavelength modulations on top of the original 120° order."
   ],
   "metadata": {}
  },
  {
   "outputs": [],
   "cell_type": "code",
   "source": [
    "for (site1, site2, offset) in symmetry_equivalent_bonds(sys_inhom, Bond(1,1,[1,0,0]))\n",
    "    noise = randn()/3\n",
    "    set_exchange_at!(sys_inhom, 1.0 + noise, site1, site2; offset)\n",
    "end\n",
    "\n",
    "minimize_energy!(sys_inhom, maxiters=5_000)\n",
    "plot_spins(sys_inhom; color=[S[3] for S in sys_inhom.dipoles], ndims=2)"
   ],
   "metadata": {},
   "execution_count": null
  },
  {
   "cell_type": "markdown",
   "source": [
    "Traditional spin wave theory calculations become impractical for large system\n",
    "sizes. Significant acceleration is possible with the [kernel polynomial\n",
    "method](https://arxiv.org/abs/2312.08349). Enable it by selecting\n",
    "`SpinWaveTheoryKPM` in place of the traditional\n",
    "`SpinWaveTheory`. Using KPM, the cost of an `intensities`\n",
    "calculation becomes linear in system size and scales inversely with the width\n",
    "of the line broadening `kernel`. Error tolerance is controlled through the\n",
    "dimensionless `tol` parameter. A relatively small value, `tol = 0.01`, helps\n",
    "to resolve the large intensities near the ordering wavevector. The alternative\n",
    "choice `tol = 0.1` would be twice faster, but would introduce significant\n",
    "numerical artifacts.\n",
    "\n",
    "Observe from the KPM calculation that disorder in the nearest-neighbor\n",
    "exchange serves to broaden the discrete excitation bands into a continuum."
   ],
   "metadata": {}
  },
  {
   "outputs": [],
   "cell_type": "code",
   "source": [
    "swt = SpinWaveTheoryKPM(sys_inhom; measure=ssf_perp(sys_inhom), tol=0.01)\n",
    "res = intensities(swt, path; energies, kernel)\n",
    "plot_intensities(res)"
   ],
   "metadata": {},
   "execution_count": null
  },
  {
   "cell_type": "markdown",
   "source": [
    "Now apply a magnetic field of magnitude 7.5 (energy units) along the global\n",
    "$ẑ$ axis. This field fully polarizes the spins. Because gap opens, a larger\n",
    "tolerance of `tol = 0.1` can be used to accelerate the KPM calculation without\n",
    "sacrificing much accuracy. The resulting spin wave spectrum shows a sharp mode\n",
    "at the Γ-point (zone center) that broadens into a continuum along the K and M\n",
    "points (zone boundary)."
   ],
   "metadata": {}
  },
  {
   "outputs": [],
   "cell_type": "code",
   "source": [
    "set_field!(sys_inhom, [0, 0, 7.5])\n",
    "randomize_spins!(sys_inhom)\n",
    "minimize_energy!(sys_inhom)\n",
    "\n",
    "energies = range(0.0, 9.0, 150)\n",
    "swt = SpinWaveTheoryKPM(sys_inhom; measure=ssf_perp(sys_inhom), tol=0.1)\n",
    "res = intensities(swt, path; energies, kernel)\n",
    "plot_intensities(res)"
   ],
   "metadata": {},
   "execution_count": null
  },
  {
   "cell_type": "markdown",
   "source": [
    "Add disorder to the $z$-component of each magnetic moment $g$-tensor. This\n",
    "further broadens intensities, now across the entire path. Some intensity\n",
    "modulation within the continuum is also apparent. This modulation is a\n",
    "finite-size effect, and would be mitigated by enlarging the system beyond\n",
    "30×30 chemical cells."
   ],
   "metadata": {}
  },
  {
   "outputs": [],
   "cell_type": "code",
   "source": [
    "for site in eachsite(sys_inhom)\n",
    "    noise = randn()/6\n",
    "    sys_inhom.gs[site] = [1 0 0; 0 1 0; 0 0 1+noise]\n",
    "end\n",
    "\n",
    "swt = SpinWaveTheoryKPM(sys_inhom; measure=ssf_perp(sys_inhom), tol=0.1)\n",
    "res = intensities(swt, path; energies, kernel)\n",
    "plot_intensities(res)"
   ],
   "metadata": {},
   "execution_count": null
  },
  {
   "cell_type": "markdown",
   "source": [
    "For reference, the equivalent non-disordered system shows a single coherent\n",
    "mode."
   ],
   "metadata": {}
  },
  {
   "outputs": [],
   "cell_type": "code",
   "source": [
    "set_field!(sys, [0, 0, 7.5])\n",
    "randomize_spins!(sys)\n",
    "minimize_energy!(sys)\n",
    "swt = SpinWaveTheory(sys; measure=ssf_perp(sys))\n",
    "res = intensities(swt, path; energies, kernel)\n",
    "plot_intensities(res)"
   ],
   "metadata": {},
   "execution_count": null
  }
 ],
 "nbformat_minor": 3,
 "metadata": {
  "language_info": {
   "file_extension": ".jl",
   "mimetype": "application/julia",
   "name": "julia",
   "version": "1.10.7"
  },
  "kernelspec": {
   "name": "julia-1.10",
   "display_name": "Julia 1.10.7",
   "language": "julia"
  }
 },
 "nbformat": 4
}
