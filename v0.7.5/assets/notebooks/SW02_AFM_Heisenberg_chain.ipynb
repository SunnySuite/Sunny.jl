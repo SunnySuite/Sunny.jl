{
 "cells": [
  {
   "cell_type": "markdown",
   "source": [
    "# SW02 - AFM Heisenberg chain\n",
    "\n",
    "This is a Sunny port of [SpinW Tutorial\n",
    "2](https://spinw.org/tutorials/02tutorial), originally authored by Bjorn Fak\n",
    "and Sandor Toth. It calculates the spin wave spectrum of the antiferromagnetic\n",
    "Heisenberg nearest-neighbor spin chain."
   ],
   "metadata": {}
  },
  {
   "cell_type": "markdown",
   "source": [
    "Load Sunny and the GLMakie plotting package"
   ],
   "metadata": {}
  },
  {
   "outputs": [],
   "cell_type": "code",
   "source": [
    "using Sunny, GLMakie\n",
    "@assert pkgversion(Sunny) >= v\"0.7.5\""
   ],
   "metadata": {},
   "execution_count": null
  },
  {
   "cell_type": "markdown",
   "source": [
    "Define the chemical cell for a 1D chain following the [previous tutorial](@ref\n",
    "\"SW01 - FM Heisenberg chain\")."
   ],
   "metadata": {}
  },
  {
   "outputs": [],
   "cell_type": "code",
   "source": [
    "units = Units(:meV, :angstrom)\n",
    "latvecs = lattice_vectors(3, 8, 8, 90, 90, 90)\n",
    "cryst = Crystal(latvecs, [[0, 0, 0]])\n",
    "view_crystal(cryst; ndims=2, ghost_radius=8)"
   ],
   "metadata": {},
   "execution_count": null
  },
  {
   "cell_type": "markdown",
   "source": [
    "Unlike in the previous tutorial, here the magnetic cell should include 2×1×1\n",
    "chemical cells to support antiferromagnetic (Néel) order along the chain."
   ],
   "metadata": {}
  },
  {
   "outputs": [],
   "cell_type": "code",
   "source": [
    "sys = System(cryst, [1 => Moment(s=1, g=2)], :dipole; dims=(2, 1, 1))"
   ],
   "metadata": {},
   "execution_count": null
  },
  {
   "cell_type": "markdown",
   "source": [
    "Set a nearest neighbor interaction of $J = +1$ meV along the chain, and find\n",
    "the energy-minimizing Néel order. As before, a global rotation in spin-space\n",
    "is arbitrary."
   ],
   "metadata": {}
  },
  {
   "outputs": [],
   "cell_type": "code",
   "source": [
    "J = 1\n",
    "set_exchange!(sys, J, Bond(1, 1, [1, 0, 0]))\n",
    "randomize_spins!(sys)\n",
    "minimize_energy!(sys)\n",
    "plot_spins(sys; ndims=2, ghost_radius=8)"
   ],
   "metadata": {},
   "execution_count": null
  },
  {
   "cell_type": "markdown",
   "source": [
    "Perform a `SpinWaveTheory` calculation for a path between $[0,0,0]$\n",
    "and $[1,0,0]$ in RLU."
   ],
   "metadata": {}
  },
  {
   "outputs": [],
   "cell_type": "code",
   "source": [
    "swt = SpinWaveTheory(sys; measure=ssf_perp(sys))\n",
    "qs = [[0,0,0], [1,0,0]]\n",
    "path = q_space_path(cryst, qs, 401)\n",
    "res = intensities_bands(swt, path)\n",
    "plot_intensities(res; units)"
   ],
   "metadata": {},
   "execution_count": null
  },
  {
   "cell_type": "markdown",
   "source": [
    "This system includes two bands that are fully degenerate in their dispersion."
   ],
   "metadata": {}
  },
  {
   "outputs": [],
   "cell_type": "code",
   "source": [
    "isapprox(res.disp[1, :], res.disp[2, :])"
   ],
   "metadata": {},
   "execution_count": null
  },
  {
   "cell_type": "markdown",
   "source": [
    "Plot the intensities summed over the two degenerate bands using the [Makie\n",
    "`lines` function](https://docs.makie.org/stable/reference/plots/lines)."
   ],
   "metadata": {}
  },
  {
   "outputs": [],
   "cell_type": "code",
   "source": [
    "xs = [q[1] for q in path.qs]\n",
    "ys = log10.(res.data[1, :] + res.data[2, :])\n",
    "lines(xs, ys; axis=(; xlabel=\"[H, 0, 0]\", ylabel=\"Log intensity (dimensionless)\"))"
   ],
   "metadata": {},
   "execution_count": null
  }
 ],
 "nbformat_minor": 3,
 "metadata": {
  "language_info": {
   "file_extension": ".jl",
   "mimetype": "application/julia",
   "name": "julia",
   "version": "1.10.7"
  },
  "kernelspec": {
   "name": "julia-1.10",
   "display_name": "Julia 1.10.7",
   "language": "julia"
  }
 },
 "nbformat": 4
}
