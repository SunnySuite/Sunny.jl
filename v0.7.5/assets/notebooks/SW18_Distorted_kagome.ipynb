{
 "cells": [
  {
   "cell_type": "markdown",
   "source": [
    "# SW18 - Distorted kagome\n",
    "\n",
    "This is a Sunny port of [SpinW Tutorial\n",
    "18](https://spinw.org/tutorials/18tutorial), originally authored by Goran\n",
    "Nilsen and Sandor Toth. This tutorial illustrates spin wave calculations for\n",
    "KCu₃As₂O₇(OD)₃. The Cu ions are arranged in a distorted kagome lattice, and\n",
    "exhibit an incommensurate helical magnetic order, as described in [G. J.\n",
    "Nilsen, et al., Phys. Rev. B **89**, 140412\n",
    "(2014)](https://doi.org/10.1103/PhysRevB.89.140412). The model follows [Toth\n",
    "and Lake, J. Phys.: Condens. Matter **27**, 166002\n",
    "(2015)](https://arxiv.org/abs/1402.6069)."
   ],
   "metadata": {}
  },
  {
   "outputs": [],
   "cell_type": "code",
   "source": [
    "using Sunny, GLMakie\n",
    "@assert pkgversion(Sunny) >= v\"0.7.5\""
   ],
   "metadata": {},
   "execution_count": null
  },
  {
   "cell_type": "markdown",
   "source": [
    "Build the distorted kagome crystal, with spacegroup 12 (\"C 1 2/m 1\" setting)."
   ],
   "metadata": {}
  },
  {
   "outputs": [],
   "cell_type": "code",
   "source": [
    "units = Units(:meV, :angstrom)\n",
    "latvecs = lattice_vectors(10.2, 5.94, 7.81, 90, 117.7, 90)\n",
    "positions = [[0, 0, 0], [1/4, 1/4, 0]]\n",
    "types = [\"Cu1\", \"Cu2\"]\n",
    "cryst = Crystal(latvecs, positions, \"C 1 2/m 1\"; types)\n",
    "view_crystal(cryst)"
   ],
   "metadata": {},
   "execution_count": null
  },
  {
   "cell_type": "markdown",
   "source": [
    "Define the interactions."
   ],
   "metadata": {}
  },
  {
   "outputs": [],
   "cell_type": "code",
   "source": [
    "moments = [1 => Moment(s=1/2, g=2), 3 => Moment(s=1/2, g=2)]\n",
    "sys = System(cryst, moments, :dipole)\n",
    "J   = -2\n",
    "Jp  = -1\n",
    "Jab = 0.75\n",
    "Ja  = -J/.66 - Jab\n",
    "Jip = 0.01\n",
    "set_exchange!(sys, J, Bond(1, 3, [0, 0, 0]))\n",
    "set_exchange!(sys, Jp, Bond(3, 5, [0, 0, 0]))\n",
    "set_exchange!(sys, Ja, Bond(3, 4, [0, 0, 0]))\n",
    "set_exchange!(sys, Jab, Bond(1, 2, [0, 0, 0]))\n",
    "set_exchange!(sys, Jip, Bond(3, 4, [0, 0, 1]))"
   ],
   "metadata": {},
   "execution_count": null
  },
  {
   "cell_type": "markdown",
   "source": [
    "Use `minimize_spiral_energy!` to optimize the generalized spiral\n",
    "order. This determines the propagation wavevector `k`, and fits the spin\n",
    "values within the unit cell. One must provide a fixed `axis` perpendicular to\n",
    "the polarization plane. For this system, all interactions are rotationally\n",
    "invariant, and the `axis` vector is arbitrary. In other cases, a good `axis`\n",
    "will frequently be determined from symmetry considerations."
   ],
   "metadata": {}
  },
  {
   "outputs": [],
   "cell_type": "code",
   "source": [
    "axis = [0, 0, 1]\n",
    "randomize_spins!(sys)\n",
    "k = minimize_spiral_energy!(sys, axis; k_guess=randn(3))\n",
    "plot_spins(sys; ndims=2)"
   ],
   "metadata": {},
   "execution_count": null
  },
  {
   "cell_type": "markdown",
   "source": [
    "If successful, the optimization process will find one two propagation\n",
    "wavevectors, `±k_ref`, with opposite chiralities. In this system, the\n",
    "`spiral_energy_per_site` is independent of chirality."
   ],
   "metadata": {}
  },
  {
   "outputs": [],
   "cell_type": "code",
   "source": [
    "k_ref = [0.785902495, 0.0, 0.107048756]\n",
    "k_ref_alt = [1, 0, 1] - k_ref\n",
    "@assert isapprox(k, k_ref; atol=1e-6) || isapprox(k, k_ref_alt; atol=1e-6)\n",
    "@assert spiral_energy_per_site(sys; k, axis) ≈ -0.78338383838"
   ],
   "metadata": {},
   "execution_count": null
  },
  {
   "cell_type": "markdown",
   "source": [
    "Check the energy with a real-space calculation using a large magnetic cell.\n",
    "First, we must determine a lattice size for which k becomes approximately\n",
    "commensurate."
   ],
   "metadata": {}
  },
  {
   "outputs": [],
   "cell_type": "code",
   "source": [
    "suggest_magnetic_supercell([k_ref]; tol=1e-3)"
   ],
   "metadata": {},
   "execution_count": null
  },
  {
   "cell_type": "markdown",
   "source": [
    "Resize the system as suggested, and perform a real-space calculation. Working\n",
    "with a commensurate wavevector increases the energy slightly. The precise\n",
    "value might vary from run-to-run due to trapping in a local energy minimum."
   ],
   "metadata": {}
  },
  {
   "outputs": [],
   "cell_type": "code",
   "source": [
    "new_shape = [14 0 1; 0 1 0; 0 0 2]\n",
    "sys2 = reshape_supercell(sys, new_shape)\n",
    "randomize_spins!(sys2)\n",
    "minimize_energy!(sys2)\n",
    "energy_per_site(sys2)"
   ],
   "metadata": {},
   "execution_count": null
  },
  {
   "cell_type": "markdown",
   "source": [
    "Return to the original system (with a single chemical cell) and construct\n",
    "`SpinWaveTheorySpiral` for calculations on the incommensurate spiral\n",
    "phase."
   ],
   "metadata": {}
  },
  {
   "outputs": [],
   "cell_type": "code",
   "source": [
    "measure = ssf_perp(sys; apply_g=false)\n",
    "swt = SpinWaveTheorySpiral(sys; measure, k, axis)"
   ],
   "metadata": {},
   "execution_count": null
  },
  {
   "cell_type": "markdown",
   "source": [
    "Plot intensities for a path through $𝐪$-space."
   ],
   "metadata": {}
  },
  {
   "outputs": [],
   "cell_type": "code",
   "source": [
    "qs = [[0,0,0], [1,0,0]]\n",
    "path = q_space_path(cryst, qs, 400)\n",
    "res = intensities_bands(swt, path)\n",
    "plot_intensities(res; units)"
   ],
   "metadata": {},
   "execution_count": null
  },
  {
   "cell_type": "markdown",
   "source": [
    "Plot the powder-averaged intensities"
   ],
   "metadata": {}
  },
  {
   "outputs": [],
   "cell_type": "code",
   "source": [
    "radii = range(0, 2, 100) # (1/Å)\n",
    "energies = range(0, 6, 200)\n",
    "kernel = gaussian(fwhm=0.05)\n",
    "res = powder_average(cryst, radii, 400) do qs\n",
    "    intensities(swt, qs; energies, kernel)\n",
    "end\n",
    "plot_intensities(res; units)"
   ],
   "metadata": {},
   "execution_count": null
  }
 ],
 "nbformat_minor": 3,
 "metadata": {
  "language_info": {
   "file_extension": ".jl",
   "mimetype": "application/julia",
   "name": "julia",
   "version": "1.10.7"
  },
  "kernelspec": {
   "name": "julia-1.10",
   "display_name": "Julia 1.10.7",
   "language": "julia"
  }
 },
 "nbformat": 4
}
