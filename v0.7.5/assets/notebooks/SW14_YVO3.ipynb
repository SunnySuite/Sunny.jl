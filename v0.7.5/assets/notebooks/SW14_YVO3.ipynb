{
 "cells": [
  {
   "cell_type": "markdown",
   "source": [
    "# SW14 - YVO₃\n",
    "\n",
    "This is a Sunny port of [SpinW Tutorial\n",
    "14](https://spinw.org/tutorials/14tutorial), originally authored by Sandor\n",
    "Toth. It calculates the spin wave spectrum of YVO₃."
   ],
   "metadata": {}
  },
  {
   "cell_type": "markdown",
   "source": [
    "Load packages"
   ],
   "metadata": {}
  },
  {
   "outputs": [],
   "cell_type": "code",
   "source": [
    "using Sunny, GLMakie\n",
    "@assert pkgversion(Sunny) >= v\"0.7.5\""
   ],
   "metadata": {},
   "execution_count": null
  },
  {
   "cell_type": "markdown",
   "source": [
    "Build an orthorhombic lattice and populate the V atoms according to the\n",
    "pseudocubic unit cell, doubled along the c-axis. The listed spacegroup of the\n",
    "YVO₃ chemical cell is international number 62. It has been observed, however,\n",
    "that the exchange interactions break this symmetry. For this reason, disable\n",
    "all symmetry analysis by selecting spacegroup 1 (P1)."
   ],
   "metadata": {}
  },
  {
   "outputs": [],
   "cell_type": "code",
   "source": [
    "units = Units(:meV, :angstrom)\n",
    "a = 5.2821 / sqrt(2)\n",
    "b = 5.6144 / sqrt(2)\n",
    "c = 7.5283\n",
    "latvecs = lattice_vectors(a, b, c, 90, 90, 90)\n",
    "positions = [[0, 0, 0], [0, 0, 1/2]]\n",
    "types = [\"V\", \"V\"]\n",
    "cryst = Crystal(latvecs, positions, 1; types)"
   ],
   "metadata": {},
   "execution_count": null
  },
  {
   "cell_type": "markdown",
   "source": [
    "Create a system following the model of [C. Ulrich, et al. Phys. Rev. Lett.\n",
    "**91**, 257202 (2003)](https://doi.org/10.1103/PhysRevLett.91.257202). The\n",
    "mode `:dipole_uncorrected` avoids a classical-to-quantum rescaling\n",
    "factor of anisotropy strengths, as needed\n",
    "for consistency with the original fits."
   ],
   "metadata": {}
  },
  {
   "outputs": [],
   "cell_type": "code",
   "source": [
    "moments = [1 => Moment(s=1/2, g=2), 2 => Moment(s=1/2, g=2)]\n",
    "sys = System(cryst, moments, :dipole_uncorrected; dims=(2,2,1))\n",
    "Jab = 2.6\n",
    "Jc  = 3.1\n",
    "δ   = 0.35\n",
    "K1  = 0.90\n",
    "K2  = 0.97\n",
    "d   = 1.15\n",
    "Jc1 = [-Jc*(1+δ)+K2 0 -d; 0 -Jc*(1+δ) 0; +d 0 -Jc*(1+δ)]\n",
    "Jc2 = [-Jc*(1-δ)+K2 0 +d; 0 -Jc*(1-δ) 0; -d 0 -Jc*(1-δ)]\n",
    "set_exchange!(sys, Jab, Bond(1, 1, [1, 0, 0]))\n",
    "set_exchange!(sys, Jab, Bond(2, 2, [1, 0, 0]))\n",
    "set_exchange!(sys, Jc1, Bond(1, 2, [0, 0, 0]))\n",
    "set_exchange!(sys, Jc2, Bond(2, 1, [0, 0, 1]))\n",
    "set_exchange!(sys, Jab, Bond(1, 1, [0, 1, 0]))\n",
    "set_exchange!(sys, Jab, Bond(2, 2, [0, 1, 0]))\n",
    "set_onsite_coupling!(sys, S -> -K1*S[1]^2, 1)\n",
    "set_onsite_coupling!(sys, S -> -K1*S[1]^2, 2)"
   ],
   "metadata": {},
   "execution_count": null
  },
  {
   "cell_type": "markdown",
   "source": [
    "When using spacegroup P1, there is no symmetry-propagation of interactions\n",
    "because all bonds are considered inequivalent. One can visualize the\n",
    "interactions in the system by clicking the toggles in the\n",
    "`view_crystal` GUI."
   ],
   "metadata": {}
  },
  {
   "outputs": [],
   "cell_type": "code",
   "source": [
    "view_crystal(sys)"
   ],
   "metadata": {},
   "execution_count": null
  },
  {
   "cell_type": "markdown",
   "source": [
    "Energy minimization yields a Néel order with canting"
   ],
   "metadata": {}
  },
  {
   "outputs": [],
   "cell_type": "code",
   "source": [
    "randomize_spins!(sys)\n",
    "minimize_energy!(sys)\n",
    "plot_spins(sys)"
   ],
   "metadata": {},
   "execution_count": null
  },
  {
   "cell_type": "markdown",
   "source": [
    "Plot the spin wave spectrum along a path"
   ],
   "metadata": {}
  },
  {
   "outputs": [],
   "cell_type": "code",
   "source": [
    "swt = SpinWaveTheory(sys; measure=ssf_perp(sys))\n",
    "qs = [[0.75, 0.75, 0], [0.5, 0.5, 0], [0.5, 0.5, 1]]\n",
    "path = q_space_path(cryst, qs, 400)\n",
    "res = intensities_bands(swt, path)\n",
    "plot_intensities(res; units)"
   ],
   "metadata": {},
   "execution_count": null
  }
 ],
 "nbformat_minor": 3,
 "metadata": {
  "language_info": {
   "file_extension": ".jl",
   "mimetype": "application/julia",
   "name": "julia",
   "version": "1.10.7"
  },
  "kernelspec": {
   "name": "julia-1.10",
   "display_name": "Julia 1.10.7",
   "language": "julia"
  }
 },
 "nbformat": 4
}
