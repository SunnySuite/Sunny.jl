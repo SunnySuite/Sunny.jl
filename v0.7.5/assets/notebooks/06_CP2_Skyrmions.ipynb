{
 "cells": [
  {
   "cell_type": "markdown",
   "source": [
    "# 6. Dynamical quench into CP² skyrmion liquid\n",
    "\n",
    "This example demonstrates a non-equilibrium study of SU(3) spin dynamics\n",
    "leading to the formation of a CP² skyrmion liquid. As proposed in [Zhang et\n",
    "al., Nature Communications **14**, 3626\n",
    "(2023)](https://www.nature.com/articles/s41467-023-39232-8), CP² skyrmions are\n",
    "topological defects that involve both the dipolar and quadrupolar parts of\n",
    "quantum spin-1, and can be studied using the formalism SU(3) coherent states.\n",
    "\n",
    "This study uses the SU(N) generalization of Landau-Lifshitz spin dynamics,\n",
    "with Langevin coupling to a thermal bath, as described in [Dahlbom et al.,\n",
    "Phys. Rev. B **106**, 235154\n",
    "(2022)](https://doi.org/10.1103/PhysRevB.106.235154). Beginning from an\n",
    "initial high-temperature state, the dynamics following a rapid quench in\n",
    "temperature gives rise a disordered liquid of CP² skyrmions."
   ],
   "metadata": {}
  },
  {
   "outputs": [],
   "cell_type": "code",
   "source": [
    "using Sunny, GLMakie\n",
    "@assert pkgversion(Sunny) >= v\"0.7.5\""
   ],
   "metadata": {},
   "execution_count": null
  },
  {
   "cell_type": "markdown",
   "source": [
    "Begin with a `Crystal` cell for the triangular lattice."
   ],
   "metadata": {}
  },
  {
   "outputs": [],
   "cell_type": "code",
   "source": [
    "lat_vecs = lattice_vectors(1, 1, 10, 90, 90, 120)\n",
    "positions = [[0, 0, 0]]\n",
    "cryst = Crystal(lat_vecs, positions)"
   ],
   "metadata": {},
   "execution_count": null
  },
  {
   "cell_type": "markdown",
   "source": [
    "Create a spin `System` containing $L×L$ cells. Following previous\n",
    "worse, select $g=-1$ so that the Zeeman coupling has the form $-𝐁⋅𝐒$."
   ],
   "metadata": {}
  },
  {
   "outputs": [],
   "cell_type": "code",
   "source": [
    "L = 40\n",
    "sys = System(cryst, [1 => Moment(s=1, g=-1)], :SUN; dims=(L, L, 1))"
   ],
   "metadata": {},
   "execution_count": null
  },
  {
   "cell_type": "markdown",
   "source": [
    "The Hamiltonian,\n",
    "$$\n",
    "\\mathcal{H} = \\sum_{\\langle i,j \\rangle} J_{ij}( \\hat{S}_i^x \\hat{S}_j^x + \\hat{S}_i^y \\hat{S}_j^y + \\Delta\\hat{S}_i^z \\hat{S}_j^z) - h\\sum_{i}\\hat{S}_i^z + D\\sum_{i}(\\hat{S}_i^z)^2,\n",
    "$$\n",
    "contains competing ferromagnetic first-neighbor and antiferromagnetic\n",
    "second-neighbor exchange terms on a triangular lattice. Both exchange matrices\n",
    "include anisotropy in the $\\hat{z}$ direction. Additionally, there is an\n",
    "external magnetic field $h$ and an easy-plane single-ion anisotropy $D$.\n",
    "Select parameters for a point in the [Zhang et\n",
    "al.](https://www.nature.com/articles/s41467-023-39232-8) phase diagram where\n",
    "the CP² skyrmions are stable."
   ],
   "metadata": {}
  },
  {
   "outputs": [],
   "cell_type": "code",
   "source": [
    "J1 = -1           # Nearest-neighbor ferromagnetic\n",
    "J2 = (2.0/(1+√5)) # Tune competing exchange to set skyrmion scale length\n",
    "Δ = 2.6           # Exchange anisotropy\n",
    "\n",
    "ex1 = J1 * [1 0 0;\n",
    "            0 1 0;\n",
    "            0 0 Δ]\n",
    "ex2 = J2 * [1 0 0;\n",
    "            0 1 0;\n",
    "            0 0 Δ]\n",
    "set_exchange!(sys, ex1, Bond(1, 1, [1, 0, 0]))\n",
    "set_exchange!(sys, ex2, Bond(1, 1, [1, 2, 0]))\n",
    "\n",
    "h = 15.5         # External field in energy units\n",
    "field = set_field!(sys, [0, 0, h])\n",
    "\n",
    "D = 19.0         # Easy-plane anisotropy\n",
    "set_onsite_coupling!(sys, S -> D*S[3]^2, 1)"
   ],
   "metadata": {},
   "execution_count": null
  },
  {
   "cell_type": "markdown",
   "source": [
    "Initialize system to an infinite temperature (fully randomized) initial\n",
    "condition."
   ],
   "metadata": {}
  },
  {
   "cell_type": "markdown",
   "source": [
    "We will study a temperature quench process using a generalized\n",
    "`Langevin` spin dynamics. In this SU(3) treatment of quantum spin-1,\n",
    "the dynamics include coupled dipoles and quadrupoles. Select a relatively\n",
    "small damping magnitude to overcome local minima, and disable thermal\n",
    "fluctuations."
   ],
   "metadata": {}
  },
  {
   "outputs": [],
   "cell_type": "code",
   "source": [
    "damping = 0.05\n",
    "kT = 0;"
   ],
   "metadata": {},
   "execution_count": null
  },
  {
   "cell_type": "markdown",
   "source": [
    "The first step is to estimate a reasonable integration timestep `dt`. In this\n",
    "case, a random spin configuration gives a tighter bound than does an\n",
    "energy-minimized configuration. A relatively large error tolerance is OK for\n",
    "this phenomenological study."
   ],
   "metadata": {}
  },
  {
   "outputs": [],
   "cell_type": "code",
   "source": [
    "randomize_spins!(sys)\n",
    "integrator = Langevin(; damping, kT)\n",
    "suggest_timestep(sys, integrator; tol=0.05)"
   ],
   "metadata": {},
   "execution_count": null
  },
  {
   "cell_type": "markdown",
   "source": [
    "Apply the suggested timestep."
   ],
   "metadata": {}
  },
  {
   "outputs": [],
   "cell_type": "code",
   "source": [
    "integrator.dt = 0.01;"
   ],
   "metadata": {},
   "execution_count": null
  },
  {
   "cell_type": "markdown",
   "source": [
    "Now run the dynamical quench starting from a randomized configuration. The\n",
    "field `frames` stores the system spin configuration, as SU(3) coherent states,\n",
    "at three different times during the quenching process."
   ],
   "metadata": {}
  },
  {
   "outputs": [],
   "cell_type": "code",
   "source": [
    "randomize_spins!(sys)\n",
    "τs = [4, 16, 256]   # Times to record snapshots\n",
    "frames = []         # Empty array to store snapshots\n",
    "for i in eachindex(τs)\n",
    "    dur = i == 1 ? τs[1] : τs[i] - τs[i-1] # Determine the length of time to simulate\n",
    "    numsteps = round(Int, dur/integrator.dt)\n",
    "    for _ in 1:numsteps                    # Perform the integration\n",
    "        step!(sys, integrator)\n",
    "    end\n",
    "    push!(frames, copy(sys.coherents))     # Save a snapshot spin configuration\n",
    "end"
   ],
   "metadata": {},
   "execution_count": null
  },
  {
   "cell_type": "markdown",
   "source": [
    "Visualize the state of the system contained in each snapshot by plotting the\n",
    "SU(3) Berry phase curvature over triangular plaquettes. This is a measure of\n",
    "CP² skyrmion density. The function `plot_triangular_plaquettes` is not part of\n",
    "the core Sunny package, but rather something you could define yourself using\n",
    "Makie. Find this helper function at\n",
    "[`examples/extra/Plotting/`](https://github.com/SunnySuite/Sunny.jl/tree/main/examples/extra/Plotting)."
   ],
   "metadata": {}
  },
  {
   "outputs": [],
   "cell_type": "code",
   "source": [
    "include(pkgdir(Sunny, \"examples\", \"extra\", \"Plotting\", \"plotting2d.jl\"))\n",
    "\n",
    "function sun_berry_curvature(z₁, z₂, z₃)\n",
    "    z₁, z₂, z₃ = normalize.((z₁, z₂, z₃))\n",
    "    n₁ = z₁ ⋅ z₂\n",
    "    n₂ = z₂ ⋅ z₃\n",
    "    n₃ = z₃ ⋅ z₁\n",
    "    return angle(n₁ * n₂ * n₃)\n",
    "end\n",
    "\n",
    "plot_triangular_plaquettes(sun_berry_curvature, frames; size=(600, 200),\n",
    "    offset_spacing=10, texts=[\"\\tt = \"*string(τ) for τ in τs], text_offset=(0, 6)\n",
    ")"
   ],
   "metadata": {},
   "execution_count": null
  },
  {
   "cell_type": "markdown",
   "source": [
    "The times are given in $\\hbar/|J_1|$. The white background corresponds to a\n",
    "quantum paramagnetic state, where the local spin exhibits a strong quadrupole\n",
    "moment and little or no dipole moment. At late times, there are well-formed\n",
    "skyrmions of positive (red) and negative (blue) charge, and various metastable\n",
    "spin configurations. A full-sized version of this figure is available in\n",
    "[Dahlbom et al.](https://doi.org/10.1103/PhysRevB.106.235154)."
   ],
   "metadata": {}
  }
 ],
 "nbformat_minor": 3,
 "metadata": {
  "language_info": {
   "file_extension": ".jl",
   "mimetype": "application/julia",
   "name": "julia",
   "version": "1.10.7"
  },
  "kernelspec": {
   "name": "julia-1.10",
   "display_name": "Julia 1.10.7",
   "language": "julia"
  }
 },
 "nbformat": 4
}
